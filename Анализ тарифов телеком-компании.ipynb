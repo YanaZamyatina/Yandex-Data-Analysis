{
 "cells": [
  {
   "cell_type": "markdown",
   "metadata": {},
   "source": [
    "# Определение перспективного тарифа для телеком-компании\n",
    "\n",
    "**Описание проекта**\n",
    "Вы аналитик компании — федерального оператора сотовой связи. Клиентам предлагают два тарифных плана: «Смарт» и «Ультра».\n",
    "\n",
    "**Описание тарифов**\n",
    "\n",
    "**Тариф «Смарт»**\n",
    "Ежемесячная плата: 550 рублей\n",
    "Включено 500 минут разговора, 50 сообщений и 15 Гб интернет-трафика\n",
    "Стоимость услуг сверх тарифного пакета:\n",
    "минута разговора: 3 рубля\n",
    "сообщение: 3 рубля\n",
    "1 Гб интернет-трафика: 200 рублей\n",
    "\n",
    "**Тариф «Ультра»**\n",
    "Ежемесячная плата: 1950 рублей\n",
    "Включено 3000 минут разговора, 1000 сообщений и 30 Гб интернет-трафика\n",
    "Стоимость услуг сверх тарифного пакета:\n",
    "минута разговора: 1 рубль\n",
    "сообщение: 1 рубль\n",
    "1 Гб интернет-трафика: 150 рублей\n",
    "\n",
    "**Примечание:**\n",
    "«Мегалайн» всегда округляет секунды до минут, а мегабайты — до гигабайт. Каждый звонок округляется отдельно: даже если он длился всего 1 секунду, будет засчитан как 1 минута.\n",
    "Для веб-трафика отдельные сессии не считаются. Вместо этого общая сумма за месяц округляется в бо́льшую сторону. Если абонент использует 1025 мегабайт в этом месяце, с него возьмут плату за 2 гигабайта.\n",
    "\n",
    "**Наша задача** — сделать предварительный анализ тарифов на небольшой выборке клиентов. Нужно проанализировать поведение клиентов и сделать вывод — какой тариф лучше.\n",
    "\n",
    "**Результаты исследования** позволят скорректировать рекламный бюджет, коммерческий департамент хочет понять, какой тариф приносит больше денег.\n",
    "\n",
    "**Ход исследования**\n",
    "В вашем распоряжении данные 500 пользователей «Мегалайна»: кто они, откуда, каким тарифом пользуются, сколько звонков и сообщений каждый отправил за 2018 год.\n",
    "\n"
   ]
  },
  {
   "cell_type": "markdown",
   "metadata": {},
   "source": [
    "## Изучение данных из файлов"
   ]
  },
  {
   "cell_type": "code",
   "execution_count": 1,
   "metadata": {},
   "outputs": [],
   "source": [
    "import pandas as pd\n",
    "import numpy as np\n",
    "import matplotlib.pyplot as plt\n",
    "from scipy import stats as st"
   ]
  },
  {
   "cell_type": "code",
   "execution_count": 2,
   "metadata": {},
   "outputs": [],
   "source": [
    "df_calls = pd.read_csv('/datasets/____.csv')\n",
    "df_internet = pd.read_csv('/datasets/____.csv')\n",
    "df_messages = pd.read_csv('/datasets/____.csv')\n",
    "df_tariffs = pd.read_csv('/datasets/____.csv')\n",
    "df_users = pd.read_csv('/datasets/____.csv')"
   ]
  },
  {
   "cell_type": "markdown",
   "metadata": {},
   "source": [
    "### Изучение данных из файла  `calls`"
   ]
  },
  {
   "cell_type": "code",
   "execution_count": 3,
   "metadata": {},
   "outputs": [
    {
     "data": {
      "text/html": [
       "<div>\n",
       "<style scoped>\n",
       "    .dataframe tbody tr th:only-of-type {\n",
       "        vertical-align: middle;\n",
       "    }\n",
       "\n",
       "    .dataframe tbody tr th {\n",
       "        vertical-align: top;\n",
       "    }\n",
       "\n",
       "    .dataframe thead th {\n",
       "        text-align: right;\n",
       "    }\n",
       "</style>\n",
       "<table border=\"1\" class=\"dataframe\">\n",
       "  <thead>\n",
       "    <tr style=\"text-align: right;\">\n",
       "      <th></th>\n",
       "      <th>id</th>\n",
       "      <th>call_date</th>\n",
       "      <th>duration</th>\n",
       "      <th>user_id</th>\n",
       "    </tr>\n",
       "  </thead>\n",
       "  <tbody>\n",
       "    <tr>\n",
       "      <th>0</th>\n",
       "      <td>1000_0</td>\n",
       "      <td>2018-07-25</td>\n",
       "      <td>0.00</td>\n",
       "      <td>1000</td>\n",
       "    </tr>\n",
       "    <tr>\n",
       "      <th>1</th>\n",
       "      <td>1000_1</td>\n",
       "      <td>2018-08-17</td>\n",
       "      <td>0.00</td>\n",
       "      <td>1000</td>\n",
       "    </tr>\n",
       "    <tr>\n",
       "      <th>2</th>\n",
       "      <td>1000_2</td>\n",
       "      <td>2018-06-11</td>\n",
       "      <td>2.85</td>\n",
       "      <td>1000</td>\n",
       "    </tr>\n",
       "    <tr>\n",
       "      <th>3</th>\n",
       "      <td>1000_3</td>\n",
       "      <td>2018-09-21</td>\n",
       "      <td>13.80</td>\n",
       "      <td>1000</td>\n",
       "    </tr>\n",
       "    <tr>\n",
       "      <th>4</th>\n",
       "      <td>1000_4</td>\n",
       "      <td>2018-12-15</td>\n",
       "      <td>5.18</td>\n",
       "      <td>1000</td>\n",
       "    </tr>\n",
       "  </tbody>\n",
       "</table>\n",
       "</div>"
      ],
      "text/plain": [
       "       id   call_date  duration  user_id\n",
       "0  1000_0  2018-07-25      0.00     1000\n",
       "1  1000_1  2018-08-17      0.00     1000\n",
       "2  1000_2  2018-06-11      2.85     1000\n",
       "3  1000_3  2018-09-21     13.80     1000\n",
       "4  1000_4  2018-12-15      5.18     1000"
      ]
     },
     "metadata": {},
     "output_type": "display_data"
    },
    {
     "name": "stdout",
     "output_type": "stream",
     "text": [
      "<class 'pandas.core.frame.DataFrame'>\n",
      "RangeIndex: 202607 entries, 0 to 202606\n",
      "Data columns (total 4 columns):\n",
      " #   Column     Non-Null Count   Dtype  \n",
      "---  ------     --------------   -----  \n",
      " 0   id         202607 non-null  object \n",
      " 1   call_date  202607 non-null  object \n",
      " 2   duration   202607 non-null  float64\n",
      " 3   user_id    202607 non-null  int64  \n",
      "dtypes: float64(1), int64(1), object(2)\n",
      "memory usage: 6.2+ MB\n"
     ]
    },
    {
     "data": {
      "text/plain": [
       "0"
      ]
     },
     "execution_count": 3,
     "metadata": {},
     "output_type": "execute_result"
    }
   ],
   "source": [
    "display(df_calls.head(5))\n",
    "df_calls.info()\n",
    "df_calls.duplicated().sum()"
   ]
  },
  {
   "cell_type": "markdown",
   "metadata": {},
   "source": [
    "В таблице 4 столбца. Типы данных в столбцах — `object`, `float64`, `int64`.  \n",
    "В названиях колонок нарушения стиля не выявлены.  \n",
    "В данных отсутствуют пропущенные значения."
   ]
  },
  {
   "cell_type": "markdown",
   "metadata": {},
   "source": [
    "Необходимо устранить следующие моменты:\n",
    "* тип данных в столбце `call_date` должен быть `datetime64`;\n",
    "* тип данных в столбце `duration` должен быть `int64`, т.к. по тех. заданию значения в секундах должны быть округлены в большую сторону до полных минут."
   ]
  },
  {
   "cell_type": "markdown",
   "metadata": {},
   "source": [
    "### Изучение данных из файла  `internet`"
   ]
  },
  {
   "cell_type": "code",
   "execution_count": 4,
   "metadata": {},
   "outputs": [
    {
     "data": {
      "text/html": [
       "<div>\n",
       "<style scoped>\n",
       "    .dataframe tbody tr th:only-of-type {\n",
       "        vertical-align: middle;\n",
       "    }\n",
       "\n",
       "    .dataframe tbody tr th {\n",
       "        vertical-align: top;\n",
       "    }\n",
       "\n",
       "    .dataframe thead th {\n",
       "        text-align: right;\n",
       "    }\n",
       "</style>\n",
       "<table border=\"1\" class=\"dataframe\">\n",
       "  <thead>\n",
       "    <tr style=\"text-align: right;\">\n",
       "      <th></th>\n",
       "      <th>Unnamed: 0</th>\n",
       "      <th>id</th>\n",
       "      <th>mb_used</th>\n",
       "      <th>session_date</th>\n",
       "      <th>user_id</th>\n",
       "    </tr>\n",
       "  </thead>\n",
       "  <tbody>\n",
       "    <tr>\n",
       "      <th>0</th>\n",
       "      <td>0</td>\n",
       "      <td>1000_0</td>\n",
       "      <td>112.95</td>\n",
       "      <td>2018-11-25</td>\n",
       "      <td>1000</td>\n",
       "    </tr>\n",
       "    <tr>\n",
       "      <th>1</th>\n",
       "      <td>1</td>\n",
       "      <td>1000_1</td>\n",
       "      <td>1052.81</td>\n",
       "      <td>2018-09-07</td>\n",
       "      <td>1000</td>\n",
       "    </tr>\n",
       "    <tr>\n",
       "      <th>2</th>\n",
       "      <td>2</td>\n",
       "      <td>1000_2</td>\n",
       "      <td>1197.26</td>\n",
       "      <td>2018-06-25</td>\n",
       "      <td>1000</td>\n",
       "    </tr>\n",
       "    <tr>\n",
       "      <th>3</th>\n",
       "      <td>3</td>\n",
       "      <td>1000_3</td>\n",
       "      <td>550.27</td>\n",
       "      <td>2018-08-22</td>\n",
       "      <td>1000</td>\n",
       "    </tr>\n",
       "    <tr>\n",
       "      <th>4</th>\n",
       "      <td>4</td>\n",
       "      <td>1000_4</td>\n",
       "      <td>302.56</td>\n",
       "      <td>2018-09-24</td>\n",
       "      <td>1000</td>\n",
       "    </tr>\n",
       "  </tbody>\n",
       "</table>\n",
       "</div>"
      ],
      "text/plain": [
       "   Unnamed: 0      id  mb_used session_date  user_id\n",
       "0           0  1000_0   112.95   2018-11-25     1000\n",
       "1           1  1000_1  1052.81   2018-09-07     1000\n",
       "2           2  1000_2  1197.26   2018-06-25     1000\n",
       "3           3  1000_3   550.27   2018-08-22     1000\n",
       "4           4  1000_4   302.56   2018-09-24     1000"
      ]
     },
     "metadata": {},
     "output_type": "display_data"
    },
    {
     "name": "stdout",
     "output_type": "stream",
     "text": [
      "<class 'pandas.core.frame.DataFrame'>\n",
      "RangeIndex: 149396 entries, 0 to 149395\n",
      "Data columns (total 5 columns):\n",
      " #   Column        Non-Null Count   Dtype  \n",
      "---  ------        --------------   -----  \n",
      " 0   Unnamed: 0    149396 non-null  int64  \n",
      " 1   id            149396 non-null  object \n",
      " 2   mb_used       149396 non-null  float64\n",
      " 3   session_date  149396 non-null  object \n",
      " 4   user_id       149396 non-null  int64  \n",
      "dtypes: float64(1), int64(2), object(2)\n",
      "memory usage: 5.7+ MB\n"
     ]
    },
    {
     "data": {
      "text/plain": [
       "0"
      ]
     },
     "execution_count": 4,
     "metadata": {},
     "output_type": "execute_result"
    }
   ],
   "source": [
    "display(df_internet.head(5))\n",
    "df_internet.info()\n",
    "df_internet.duplicated().sum()"
   ]
  },
  {
   "cell_type": "markdown",
   "metadata": {},
   "source": [
    "В таблице 4 столбца. Типы данных в столбцах — `object`, `float64`, `int64`.  \n",
    "В названиях колонок нарушения стиля не выявлены.  \n",
    "В данных отсутствуют пропущенные значения."
   ]
  },
  {
   "cell_type": "markdown",
   "metadata": {},
   "source": [
    "Необходимо устранить следующие моменты:\n",
    "* тип данных в столбце `session_date` должен быть `datetime64`."
   ]
  },
  {
   "cell_type": "markdown",
   "metadata": {},
   "source": [
    "### Изучение данных из файла  `messages`"
   ]
  },
  {
   "cell_type": "code",
   "execution_count": 5,
   "metadata": {},
   "outputs": [
    {
     "data": {
      "text/html": [
       "<div>\n",
       "<style scoped>\n",
       "    .dataframe tbody tr th:only-of-type {\n",
       "        vertical-align: middle;\n",
       "    }\n",
       "\n",
       "    .dataframe tbody tr th {\n",
       "        vertical-align: top;\n",
       "    }\n",
       "\n",
       "    .dataframe thead th {\n",
       "        text-align: right;\n",
       "    }\n",
       "</style>\n",
       "<table border=\"1\" class=\"dataframe\">\n",
       "  <thead>\n",
       "    <tr style=\"text-align: right;\">\n",
       "      <th></th>\n",
       "      <th>id</th>\n",
       "      <th>message_date</th>\n",
       "      <th>user_id</th>\n",
       "    </tr>\n",
       "  </thead>\n",
       "  <tbody>\n",
       "    <tr>\n",
       "      <th>0</th>\n",
       "      <td>1000_0</td>\n",
       "      <td>2018-06-27</td>\n",
       "      <td>1000</td>\n",
       "    </tr>\n",
       "    <tr>\n",
       "      <th>1</th>\n",
       "      <td>1000_1</td>\n",
       "      <td>2018-10-08</td>\n",
       "      <td>1000</td>\n",
       "    </tr>\n",
       "    <tr>\n",
       "      <th>2</th>\n",
       "      <td>1000_2</td>\n",
       "      <td>2018-08-04</td>\n",
       "      <td>1000</td>\n",
       "    </tr>\n",
       "    <tr>\n",
       "      <th>3</th>\n",
       "      <td>1000_3</td>\n",
       "      <td>2018-06-16</td>\n",
       "      <td>1000</td>\n",
       "    </tr>\n",
       "    <tr>\n",
       "      <th>4</th>\n",
       "      <td>1000_4</td>\n",
       "      <td>2018-12-05</td>\n",
       "      <td>1000</td>\n",
       "    </tr>\n",
       "  </tbody>\n",
       "</table>\n",
       "</div>"
      ],
      "text/plain": [
       "       id message_date  user_id\n",
       "0  1000_0   2018-06-27     1000\n",
       "1  1000_1   2018-10-08     1000\n",
       "2  1000_2   2018-08-04     1000\n",
       "3  1000_3   2018-06-16     1000\n",
       "4  1000_4   2018-12-05     1000"
      ]
     },
     "metadata": {},
     "output_type": "display_data"
    },
    {
     "name": "stdout",
     "output_type": "stream",
     "text": [
      "<class 'pandas.core.frame.DataFrame'>\n",
      "RangeIndex: 123036 entries, 0 to 123035\n",
      "Data columns (total 3 columns):\n",
      " #   Column        Non-Null Count   Dtype \n",
      "---  ------        --------------   ----- \n",
      " 0   id            123036 non-null  object\n",
      " 1   message_date  123036 non-null  object\n",
      " 2   user_id       123036 non-null  int64 \n",
      "dtypes: int64(1), object(2)\n",
      "memory usage: 2.8+ MB\n"
     ]
    },
    {
     "data": {
      "text/plain": [
       "0"
      ]
     },
     "execution_count": 5,
     "metadata": {},
     "output_type": "execute_result"
    }
   ],
   "source": [
    "display(df_messages.head(5))\n",
    "df_messages.info()\n",
    "df_messages.duplicated().sum()"
   ]
  },
  {
   "cell_type": "markdown",
   "metadata": {},
   "source": [
    "В таблице 3 столбца. Типы данных в столбцах — `object`, `int64`.  \n",
    "В названиях колонок нарушения стиля не выявлены.  \n",
    "В данных отсутствуют пропущенные значения."
   ]
  },
  {
   "cell_type": "markdown",
   "metadata": {},
   "source": [
    "Необходимо устранить следующие моменты:\n",
    "* тип данных в столбце `message_date` должен быть `datetime64`."
   ]
  },
  {
   "cell_type": "markdown",
   "metadata": {},
   "source": [
    "### Изучение данных из файла  `tariffs`"
   ]
  },
  {
   "cell_type": "code",
   "execution_count": 6,
   "metadata": {},
   "outputs": [
    {
     "data": {
      "text/html": [
       "<div>\n",
       "<style scoped>\n",
       "    .dataframe tbody tr th:only-of-type {\n",
       "        vertical-align: middle;\n",
       "    }\n",
       "\n",
       "    .dataframe tbody tr th {\n",
       "        vertical-align: top;\n",
       "    }\n",
       "\n",
       "    .dataframe thead th {\n",
       "        text-align: right;\n",
       "    }\n",
       "</style>\n",
       "<table border=\"1\" class=\"dataframe\">\n",
       "  <thead>\n",
       "    <tr style=\"text-align: right;\">\n",
       "      <th></th>\n",
       "      <th>messages_included</th>\n",
       "      <th>mb_per_month_included</th>\n",
       "      <th>minutes_included</th>\n",
       "      <th>rub_monthly_fee</th>\n",
       "      <th>rub_per_gb</th>\n",
       "      <th>rub_per_message</th>\n",
       "      <th>rub_per_minute</th>\n",
       "      <th>tariff_name</th>\n",
       "    </tr>\n",
       "  </thead>\n",
       "  <tbody>\n",
       "    <tr>\n",
       "      <th>0</th>\n",
       "      <td>50</td>\n",
       "      <td>15360</td>\n",
       "      <td>500</td>\n",
       "      <td>550</td>\n",
       "      <td>200</td>\n",
       "      <td>3</td>\n",
       "      <td>3</td>\n",
       "      <td>smart</td>\n",
       "    </tr>\n",
       "    <tr>\n",
       "      <th>1</th>\n",
       "      <td>1000</td>\n",
       "      <td>30720</td>\n",
       "      <td>3000</td>\n",
       "      <td>1950</td>\n",
       "      <td>150</td>\n",
       "      <td>1</td>\n",
       "      <td>1</td>\n",
       "      <td>ultra</td>\n",
       "    </tr>\n",
       "  </tbody>\n",
       "</table>\n",
       "</div>"
      ],
      "text/plain": [
       "   messages_included  mb_per_month_included  minutes_included  \\\n",
       "0                 50                  15360               500   \n",
       "1               1000                  30720              3000   \n",
       "\n",
       "   rub_monthly_fee  rub_per_gb  rub_per_message  rub_per_minute tariff_name  \n",
       "0              550         200                3               3       smart  \n",
       "1             1950         150                1               1       ultra  "
      ]
     },
     "metadata": {},
     "output_type": "display_data"
    },
    {
     "name": "stdout",
     "output_type": "stream",
     "text": [
      "<class 'pandas.core.frame.DataFrame'>\n",
      "RangeIndex: 2 entries, 0 to 1\n",
      "Data columns (total 8 columns):\n",
      " #   Column                 Non-Null Count  Dtype \n",
      "---  ------                 --------------  ----- \n",
      " 0   messages_included      2 non-null      int64 \n",
      " 1   mb_per_month_included  2 non-null      int64 \n",
      " 2   minutes_included       2 non-null      int64 \n",
      " 3   rub_monthly_fee        2 non-null      int64 \n",
      " 4   rub_per_gb             2 non-null      int64 \n",
      " 5   rub_per_message        2 non-null      int64 \n",
      " 6   rub_per_minute         2 non-null      int64 \n",
      " 7   tariff_name            2 non-null      object\n",
      "dtypes: int64(7), object(1)\n",
      "memory usage: 256.0+ bytes\n"
     ]
    }
   ],
   "source": [
    "display(df_tariffs.head(5))\n",
    "df_tariffs.info()"
   ]
  },
  {
   "cell_type": "markdown",
   "metadata": {},
   "source": [
    "В таблице 8 столбцов. Типы данных в столбцах — `object`, `int64`.  \n",
    "В названиях колонок нарушения стиля не выявлены.  \n",
    "В данных отсутствуют пропущенные значения.\n",
    "Все данные в порядке."
   ]
  },
  {
   "cell_type": "markdown",
   "metadata": {},
   "source": [
    "### Изучение данных из файла  `users`"
   ]
  },
  {
   "cell_type": "code",
   "execution_count": 7,
   "metadata": {},
   "outputs": [
    {
     "data": {
      "text/html": [
       "<div>\n",
       "<style scoped>\n",
       "    .dataframe tbody tr th:only-of-type {\n",
       "        vertical-align: middle;\n",
       "    }\n",
       "\n",
       "    .dataframe tbody tr th {\n",
       "        vertical-align: top;\n",
       "    }\n",
       "\n",
       "    .dataframe thead th {\n",
       "        text-align: right;\n",
       "    }\n",
       "</style>\n",
       "<table border=\"1\" class=\"dataframe\">\n",
       "  <thead>\n",
       "    <tr style=\"text-align: right;\">\n",
       "      <th></th>\n",
       "      <th>user_id</th>\n",
       "      <th>age</th>\n",
       "      <th>churn_date</th>\n",
       "      <th>city</th>\n",
       "      <th>first_name</th>\n",
       "      <th>last_name</th>\n",
       "      <th>reg_date</th>\n",
       "      <th>tariff</th>\n",
       "    </tr>\n",
       "  </thead>\n",
       "  <tbody>\n",
       "    <tr>\n",
       "      <th>0</th>\n",
       "      <td>1000</td>\n",
       "      <td>52</td>\n",
       "      <td>NaN</td>\n",
       "      <td>Краснодар</td>\n",
       "      <td>Рафаил</td>\n",
       "      <td>Верещагин</td>\n",
       "      <td>2018-05-25</td>\n",
       "      <td>ultra</td>\n",
       "    </tr>\n",
       "    <tr>\n",
       "      <th>1</th>\n",
       "      <td>1001</td>\n",
       "      <td>41</td>\n",
       "      <td>NaN</td>\n",
       "      <td>Москва</td>\n",
       "      <td>Иван</td>\n",
       "      <td>Ежов</td>\n",
       "      <td>2018-11-01</td>\n",
       "      <td>smart</td>\n",
       "    </tr>\n",
       "    <tr>\n",
       "      <th>2</th>\n",
       "      <td>1002</td>\n",
       "      <td>59</td>\n",
       "      <td>NaN</td>\n",
       "      <td>Стерлитамак</td>\n",
       "      <td>Евгений</td>\n",
       "      <td>Абрамович</td>\n",
       "      <td>2018-06-17</td>\n",
       "      <td>smart</td>\n",
       "    </tr>\n",
       "    <tr>\n",
       "      <th>3</th>\n",
       "      <td>1003</td>\n",
       "      <td>23</td>\n",
       "      <td>NaN</td>\n",
       "      <td>Москва</td>\n",
       "      <td>Белла</td>\n",
       "      <td>Белякова</td>\n",
       "      <td>2018-08-17</td>\n",
       "      <td>ultra</td>\n",
       "    </tr>\n",
       "    <tr>\n",
       "      <th>4</th>\n",
       "      <td>1004</td>\n",
       "      <td>68</td>\n",
       "      <td>NaN</td>\n",
       "      <td>Новокузнецк</td>\n",
       "      <td>Татьяна</td>\n",
       "      <td>Авдеенко</td>\n",
       "      <td>2018-05-14</td>\n",
       "      <td>ultra</td>\n",
       "    </tr>\n",
       "  </tbody>\n",
       "</table>\n",
       "</div>"
      ],
      "text/plain": [
       "   user_id  age churn_date         city first_name  last_name    reg_date  \\\n",
       "0     1000   52        NaN    Краснодар     Рафаил  Верещагин  2018-05-25   \n",
       "1     1001   41        NaN       Москва       Иван       Ежов  2018-11-01   \n",
       "2     1002   59        NaN  Стерлитамак    Евгений  Абрамович  2018-06-17   \n",
       "3     1003   23        NaN       Москва      Белла   Белякова  2018-08-17   \n",
       "4     1004   68        NaN  Новокузнецк    Татьяна   Авдеенко  2018-05-14   \n",
       "\n",
       "  tariff  \n",
       "0  ultra  \n",
       "1  smart  \n",
       "2  smart  \n",
       "3  ultra  \n",
       "4  ultra  "
      ]
     },
     "metadata": {},
     "output_type": "display_data"
    },
    {
     "name": "stdout",
     "output_type": "stream",
     "text": [
      "<class 'pandas.core.frame.DataFrame'>\n",
      "RangeIndex: 500 entries, 0 to 499\n",
      "Data columns (total 8 columns):\n",
      " #   Column      Non-Null Count  Dtype \n",
      "---  ------      --------------  ----- \n",
      " 0   user_id     500 non-null    int64 \n",
      " 1   age         500 non-null    int64 \n",
      " 2   churn_date  38 non-null     object\n",
      " 3   city        500 non-null    object\n",
      " 4   first_name  500 non-null    object\n",
      " 5   last_name   500 non-null    object\n",
      " 6   reg_date    500 non-null    object\n",
      " 7   tariff      500 non-null    object\n",
      "dtypes: int64(2), object(6)\n",
      "memory usage: 31.4+ KB\n"
     ]
    },
    {
     "data": {
      "text/plain": [
       "0"
      ]
     },
     "execution_count": 7,
     "metadata": {},
     "output_type": "execute_result"
    }
   ],
   "source": [
    "display(df_users.head(5))\n",
    "df_users.info()\n",
    "df_users.duplicated().sum()"
   ]
  },
  {
   "cell_type": "markdown",
   "metadata": {},
   "source": [
    "В таблице 8 столбцов. Типы данных в столбцах — `object`, `int64`.  \n",
    "В названиях колонок нарушения стиля не выявлены.  \n",
    "В данных имеются пропущенные значения в столбце `churn_date`. Согласно спецификации churn_date — это дата прекращения пользования тарифом (если значение пропущено, то тариф ещё действовал на момент выгрузки данных). Заполнение пропусков не требуется."
   ]
  },
  {
   "cell_type": "markdown",
   "metadata": {},
   "source": [
    "Необходимо устранить следующие моменты:\n",
    "* тип данных в столбце `reg_date` должен быть `datetime64`."
   ]
  },
  {
   "cell_type": "markdown",
   "metadata": {},
   "source": [
    "## Обработка данных"
   ]
  },
  {
   "cell_type": "markdown",
   "metadata": {},
   "source": [
    "Для начала напишем необходимые функции для обработки и предварительного анализа данных"
   ]
  },
  {
   "cell_type": "code",
   "execution_count": 8,
   "metadata": {},
   "outputs": [],
   "source": [
    "#функция, которая будет изменять типы данных в столбцах с датами (кроме столбца churn_date) и добавлять столбец month\n",
    "def month(datas):\n",
    "    for data in datas:\n",
    "        for column in data.columns:\n",
    "            if 'date' in column and column != 'churn_date':\n",
    "                data[column] = pd.to_datetime(data[column], format='%Y-%m-%d')\n",
    "                data['month'] = data[column].apply(lambda x: x.month)               "
   ]
  },
  {
   "cell_type": "code",
   "execution_count": 9,
   "metadata": {},
   "outputs": [
    {
     "data": {
      "text/html": [
       "<div>\n",
       "<style scoped>\n",
       "    .dataframe tbody tr th:only-of-type {\n",
       "        vertical-align: middle;\n",
       "    }\n",
       "\n",
       "    .dataframe tbody tr th {\n",
       "        vertical-align: top;\n",
       "    }\n",
       "\n",
       "    .dataframe thead th {\n",
       "        text-align: right;\n",
       "    }\n",
       "</style>\n",
       "<table border=\"1\" class=\"dataframe\">\n",
       "  <thead>\n",
       "    <tr style=\"text-align: right;\">\n",
       "      <th></th>\n",
       "      <th>id</th>\n",
       "      <th>call_date</th>\n",
       "      <th>duration</th>\n",
       "      <th>user_id</th>\n",
       "      <th>month</th>\n",
       "    </tr>\n",
       "  </thead>\n",
       "  <tbody>\n",
       "    <tr>\n",
       "      <th>0</th>\n",
       "      <td>1000_0</td>\n",
       "      <td>2018-07-25</td>\n",
       "      <td>0</td>\n",
       "      <td>1000</td>\n",
       "      <td>7</td>\n",
       "    </tr>\n",
       "    <tr>\n",
       "      <th>1</th>\n",
       "      <td>1000_1</td>\n",
       "      <td>2018-08-17</td>\n",
       "      <td>0</td>\n",
       "      <td>1000</td>\n",
       "      <td>8</td>\n",
       "    </tr>\n",
       "    <tr>\n",
       "      <th>2</th>\n",
       "      <td>1000_2</td>\n",
       "      <td>2018-06-11</td>\n",
       "      <td>3</td>\n",
       "      <td>1000</td>\n",
       "      <td>6</td>\n",
       "    </tr>\n",
       "    <tr>\n",
       "      <th>3</th>\n",
       "      <td>1000_3</td>\n",
       "      <td>2018-09-21</td>\n",
       "      <td>14</td>\n",
       "      <td>1000</td>\n",
       "      <td>9</td>\n",
       "    </tr>\n",
       "    <tr>\n",
       "      <th>4</th>\n",
       "      <td>1000_4</td>\n",
       "      <td>2018-12-15</td>\n",
       "      <td>6</td>\n",
       "      <td>1000</td>\n",
       "      <td>12</td>\n",
       "    </tr>\n",
       "  </tbody>\n",
       "</table>\n",
       "</div>"
      ],
      "text/plain": [
       "       id  call_date  duration  user_id  month\n",
       "0  1000_0 2018-07-25         0     1000      7\n",
       "1  1000_1 2018-08-17         0     1000      8\n",
       "2  1000_2 2018-06-11         3     1000      6\n",
       "3  1000_3 2018-09-21        14     1000      9\n",
       "4  1000_4 2018-12-15         6     1000     12"
      ]
     },
     "metadata": {},
     "output_type": "display_data"
    },
    {
     "name": "stdout",
     "output_type": "stream",
     "text": [
      "<class 'pandas.core.frame.DataFrame'>\n",
      "RangeIndex: 202607 entries, 0 to 202606\n",
      "Data columns (total 5 columns):\n",
      " #   Column     Non-Null Count   Dtype         \n",
      "---  ------     --------------   -----         \n",
      " 0   id         202607 non-null  object        \n",
      " 1   call_date  202607 non-null  datetime64[ns]\n",
      " 2   duration   202607 non-null  int64         \n",
      " 3   user_id    202607 non-null  int64         \n",
      " 4   month      202607 non-null  int64         \n",
      "dtypes: datetime64[ns](1), int64(3), object(1)\n",
      "memory usage: 7.7+ MB\n",
      "<class 'pandas.core.frame.DataFrame'>\n",
      "RangeIndex: 149396 entries, 0 to 149395\n",
      "Data columns (total 6 columns):\n",
      " #   Column        Non-Null Count   Dtype         \n",
      "---  ------        --------------   -----         \n",
      " 0   Unnamed: 0    149396 non-null  int64         \n",
      " 1   id            149396 non-null  object        \n",
      " 2   mb_used       149396 non-null  float64       \n",
      " 3   session_date  149396 non-null  datetime64[ns]\n",
      " 4   user_id       149396 non-null  int64         \n",
      " 5   month         149396 non-null  int64         \n",
      "dtypes: datetime64[ns](1), float64(1), int64(3), object(1)\n",
      "memory usage: 6.8+ MB\n",
      "<class 'pandas.core.frame.DataFrame'>\n",
      "RangeIndex: 123036 entries, 0 to 123035\n",
      "Data columns (total 4 columns):\n",
      " #   Column        Non-Null Count   Dtype         \n",
      "---  ------        --------------   -----         \n",
      " 0   id            123036 non-null  object        \n",
      " 1   message_date  123036 non-null  datetime64[ns]\n",
      " 2   user_id       123036 non-null  int64         \n",
      " 3   month         123036 non-null  int64         \n",
      "dtypes: datetime64[ns](1), int64(2), object(1)\n",
      "memory usage: 3.8+ MB\n",
      "<class 'pandas.core.frame.DataFrame'>\n",
      "RangeIndex: 500 entries, 0 to 499\n",
      "Data columns (total 9 columns):\n",
      " #   Column      Non-Null Count  Dtype         \n",
      "---  ------      --------------  -----         \n",
      " 0   user_id     500 non-null    int64         \n",
      " 1   age         500 non-null    int64         \n",
      " 2   churn_date  38 non-null     object        \n",
      " 3   city        500 non-null    object        \n",
      " 4   first_name  500 non-null    object        \n",
      " 5   last_name   500 non-null    object        \n",
      " 6   reg_date    500 non-null    datetime64[ns]\n",
      " 7   tariff      500 non-null    object        \n",
      " 8   month       500 non-null    int64         \n",
      "dtypes: datetime64[ns](1), int64(3), object(5)\n",
      "memory usage: 35.3+ KB\n"
     ]
    }
   ],
   "source": [
    "#вызовим функцию month\n",
    "month([df_calls, df_internet, df_messages, df_users])\n",
    "\n",
    "#округлим значения и изменим тип данных в столбце duration \n",
    "df_calls['duration'] = np.ceil(df_calls['duration']).astype('int')\n",
    "\n",
    "#проверим\n",
    "display(df_calls.head())\n",
    "df_calls.info()\n",
    "df_internet.info()\n",
    "df_messages.info()\n",
    "df_users.info()"
   ]
  },
  {
   "cell_type": "markdown",
   "metadata": {},
   "source": [
    "Все изменения внесены."
   ]
  },
  {
   "cell_type": "markdown",
   "metadata": {},
   "source": [
    "## Расчеты данных для каждого пользователя"
   ]
  },
  {
   "cell_type": "markdown",
   "metadata": {},
   "source": [
    "### Формирование сводной таблицы"
   ]
  },
  {
   "cell_type": "markdown",
   "metadata": {},
   "source": [
    "Для того, чтобы расчитать данные для каждого пользователя, сформируем сводную таблицу с необходимыми данными."
   ]
  },
  {
   "cell_type": "code",
   "execution_count": 10,
   "metadata": {},
   "outputs": [
    {
     "data": {
      "text/html": [
       "<div>\n",
       "<style scoped>\n",
       "    .dataframe tbody tr th:only-of-type {\n",
       "        vertical-align: middle;\n",
       "    }\n",
       "\n",
       "    .dataframe tbody tr th {\n",
       "        vertical-align: top;\n",
       "    }\n",
       "\n",
       "    .dataframe thead th {\n",
       "        text-align: right;\n",
       "    }\n",
       "</style>\n",
       "<table border=\"1\" class=\"dataframe\">\n",
       "  <thead>\n",
       "    <tr style=\"text-align: right;\">\n",
       "      <th></th>\n",
       "      <th>user_id</th>\n",
       "      <th>month</th>\n",
       "      <th>calls</th>\n",
       "      <th>calls_duration</th>\n",
       "      <th>messages</th>\n",
       "      <th>gb_used</th>\n",
       "      <th>age</th>\n",
       "      <th>churn_date</th>\n",
       "      <th>city</th>\n",
       "      <th>first_name</th>\n",
       "      <th>last_name</th>\n",
       "      <th>reg_date</th>\n",
       "      <th>tariff</th>\n",
       "      <th>reg_month</th>\n",
       "    </tr>\n",
       "  </thead>\n",
       "  <tbody>\n",
       "    <tr>\n",
       "      <th>0</th>\n",
       "      <td>1000</td>\n",
       "      <td>5.0</td>\n",
       "      <td>22.0</td>\n",
       "      <td>159.0</td>\n",
       "      <td>22.0</td>\n",
       "      <td>3.0</td>\n",
       "      <td>52</td>\n",
       "      <td>NaN</td>\n",
       "      <td>Краснодар</td>\n",
       "      <td>Рафаил</td>\n",
       "      <td>Верещагин</td>\n",
       "      <td>2018-05-25</td>\n",
       "      <td>ultra</td>\n",
       "      <td>5</td>\n",
       "    </tr>\n",
       "    <tr>\n",
       "      <th>1</th>\n",
       "      <td>1000</td>\n",
       "      <td>6.0</td>\n",
       "      <td>43.0</td>\n",
       "      <td>172.0</td>\n",
       "      <td>60.0</td>\n",
       "      <td>23.0</td>\n",
       "      <td>52</td>\n",
       "      <td>NaN</td>\n",
       "      <td>Краснодар</td>\n",
       "      <td>Рафаил</td>\n",
       "      <td>Верещагин</td>\n",
       "      <td>2018-05-25</td>\n",
       "      <td>ultra</td>\n",
       "      <td>5</td>\n",
       "    </tr>\n",
       "    <tr>\n",
       "      <th>2</th>\n",
       "      <td>1000</td>\n",
       "      <td>7.0</td>\n",
       "      <td>47.0</td>\n",
       "      <td>340.0</td>\n",
       "      <td>75.0</td>\n",
       "      <td>14.0</td>\n",
       "      <td>52</td>\n",
       "      <td>NaN</td>\n",
       "      <td>Краснодар</td>\n",
       "      <td>Рафаил</td>\n",
       "      <td>Верещагин</td>\n",
       "      <td>2018-05-25</td>\n",
       "      <td>ultra</td>\n",
       "      <td>5</td>\n",
       "    </tr>\n",
       "    <tr>\n",
       "      <th>3</th>\n",
       "      <td>1000</td>\n",
       "      <td>8.0</td>\n",
       "      <td>52.0</td>\n",
       "      <td>408.0</td>\n",
       "      <td>81.0</td>\n",
       "      <td>14.0</td>\n",
       "      <td>52</td>\n",
       "      <td>NaN</td>\n",
       "      <td>Краснодар</td>\n",
       "      <td>Рафаил</td>\n",
       "      <td>Верещагин</td>\n",
       "      <td>2018-05-25</td>\n",
       "      <td>ultra</td>\n",
       "      <td>5</td>\n",
       "    </tr>\n",
       "    <tr>\n",
       "      <th>4</th>\n",
       "      <td>1000</td>\n",
       "      <td>9.0</td>\n",
       "      <td>58.0</td>\n",
       "      <td>466.0</td>\n",
       "      <td>57.0</td>\n",
       "      <td>15.0</td>\n",
       "      <td>52</td>\n",
       "      <td>NaN</td>\n",
       "      <td>Краснодар</td>\n",
       "      <td>Рафаил</td>\n",
       "      <td>Верещагин</td>\n",
       "      <td>2018-05-25</td>\n",
       "      <td>ultra</td>\n",
       "      <td>5</td>\n",
       "    </tr>\n",
       "    <tr>\n",
       "      <th>5</th>\n",
       "      <td>1000</td>\n",
       "      <td>10.0</td>\n",
       "      <td>57.0</td>\n",
       "      <td>350.0</td>\n",
       "      <td>73.0</td>\n",
       "      <td>15.0</td>\n",
       "      <td>52</td>\n",
       "      <td>NaN</td>\n",
       "      <td>Краснодар</td>\n",
       "      <td>Рафаил</td>\n",
       "      <td>Верещагин</td>\n",
       "      <td>2018-05-25</td>\n",
       "      <td>ultra</td>\n",
       "      <td>5</td>\n",
       "    </tr>\n",
       "    <tr>\n",
       "      <th>6</th>\n",
       "      <td>1000</td>\n",
       "      <td>11.0</td>\n",
       "      <td>43.0</td>\n",
       "      <td>338.0</td>\n",
       "      <td>58.0</td>\n",
       "      <td>15.0</td>\n",
       "      <td>52</td>\n",
       "      <td>NaN</td>\n",
       "      <td>Краснодар</td>\n",
       "      <td>Рафаил</td>\n",
       "      <td>Верещагин</td>\n",
       "      <td>2018-05-25</td>\n",
       "      <td>ultra</td>\n",
       "      <td>5</td>\n",
       "    </tr>\n",
       "    <tr>\n",
       "      <th>7</th>\n",
       "      <td>1000</td>\n",
       "      <td>12.0</td>\n",
       "      <td>46.0</td>\n",
       "      <td>333.0</td>\n",
       "      <td>70.0</td>\n",
       "      <td>10.0</td>\n",
       "      <td>52</td>\n",
       "      <td>NaN</td>\n",
       "      <td>Краснодар</td>\n",
       "      <td>Рафаил</td>\n",
       "      <td>Верещагин</td>\n",
       "      <td>2018-05-25</td>\n",
       "      <td>ultra</td>\n",
       "      <td>5</td>\n",
       "    </tr>\n",
       "    <tr>\n",
       "      <th>8</th>\n",
       "      <td>1001</td>\n",
       "      <td>11.0</td>\n",
       "      <td>59.0</td>\n",
       "      <td>430.0</td>\n",
       "      <td>NaN</td>\n",
       "      <td>18.0</td>\n",
       "      <td>41</td>\n",
       "      <td>NaN</td>\n",
       "      <td>Москва</td>\n",
       "      <td>Иван</td>\n",
       "      <td>Ежов</td>\n",
       "      <td>2018-11-01</td>\n",
       "      <td>smart</td>\n",
       "      <td>11</td>\n",
       "    </tr>\n",
       "    <tr>\n",
       "      <th>9</th>\n",
       "      <td>1001</td>\n",
       "      <td>12.0</td>\n",
       "      <td>63.0</td>\n",
       "      <td>414.0</td>\n",
       "      <td>NaN</td>\n",
       "      <td>14.0</td>\n",
       "      <td>41</td>\n",
       "      <td>NaN</td>\n",
       "      <td>Москва</td>\n",
       "      <td>Иван</td>\n",
       "      <td>Ежов</td>\n",
       "      <td>2018-11-01</td>\n",
       "      <td>smart</td>\n",
       "      <td>11</td>\n",
       "    </tr>\n",
       "  </tbody>\n",
       "</table>\n",
       "</div>"
      ],
      "text/plain": [
       "   user_id  month  calls  calls_duration  messages  gb_used  age churn_date  \\\n",
       "0     1000    5.0   22.0           159.0      22.0      3.0   52        NaN   \n",
       "1     1000    6.0   43.0           172.0      60.0     23.0   52        NaN   \n",
       "2     1000    7.0   47.0           340.0      75.0     14.0   52        NaN   \n",
       "3     1000    8.0   52.0           408.0      81.0     14.0   52        NaN   \n",
       "4     1000    9.0   58.0           466.0      57.0     15.0   52        NaN   \n",
       "5     1000   10.0   57.0           350.0      73.0     15.0   52        NaN   \n",
       "6     1000   11.0   43.0           338.0      58.0     15.0   52        NaN   \n",
       "7     1000   12.0   46.0           333.0      70.0     10.0   52        NaN   \n",
       "8     1001   11.0   59.0           430.0       NaN     18.0   41        NaN   \n",
       "9     1001   12.0   63.0           414.0       NaN     14.0   41        NaN   \n",
       "\n",
       "        city first_name  last_name   reg_date tariff  reg_month  \n",
       "0  Краснодар     Рафаил  Верещагин 2018-05-25  ultra          5  \n",
       "1  Краснодар     Рафаил  Верещагин 2018-05-25  ultra          5  \n",
       "2  Краснодар     Рафаил  Верещагин 2018-05-25  ultra          5  \n",
       "3  Краснодар     Рафаил  Верещагин 2018-05-25  ultra          5  \n",
       "4  Краснодар     Рафаил  Верещагин 2018-05-25  ultra          5  \n",
       "5  Краснодар     Рафаил  Верещагин 2018-05-25  ultra          5  \n",
       "6  Краснодар     Рафаил  Верещагин 2018-05-25  ultra          5  \n",
       "7  Краснодар     Рафаил  Верещагин 2018-05-25  ultra          5  \n",
       "8     Москва       Иван       Ежов 2018-11-01  smart         11  \n",
       "9     Москва       Иван       Ежов 2018-11-01  smart         11  "
      ]
     },
     "metadata": {},
     "output_type": "display_data"
    },
    {
     "name": "stdout",
     "output_type": "stream",
     "text": [
      "<class 'pandas.core.frame.DataFrame'>\n",
      "Int64Index: 3216 entries, 0 to 3215\n",
      "Data columns (total 14 columns):\n",
      " #   Column          Non-Null Count  Dtype         \n",
      "---  ------          --------------  -----         \n",
      " 0   user_id         3216 non-null   int64         \n",
      " 1   month           3214 non-null   float64       \n",
      " 2   calls           3174 non-null   float64       \n",
      " 3   calls_duration  3174 non-null   float64       \n",
      " 4   messages        2717 non-null   float64       \n",
      " 5   gb_used         3203 non-null   float64       \n",
      " 6   age             3216 non-null   int64         \n",
      " 7   churn_date      189 non-null    object        \n",
      " 8   city            3216 non-null   object        \n",
      " 9   first_name      3216 non-null   object        \n",
      " 10  last_name       3216 non-null   object        \n",
      " 11  reg_date        3216 non-null   datetime64[ns]\n",
      " 12  tariff          3216 non-null   object        \n",
      " 13  reg_month       3216 non-null   int64         \n",
      "dtypes: datetime64[ns](1), float64(5), int64(3), object(5)\n",
      "memory usage: 376.9+ KB\n"
     ]
    }
   ],
   "source": [
    "#посчитаем количество сделанных звонков и израсходованных минут разговора по месяцам\n",
    "quantity_of_calls = df_calls.groupby(['user_id', 'month'])['duration'].agg(['count', 'sum']).reset_index()\n",
    "#посчитаем количество отправленных сообщений по месяцам\n",
    "quantity_of_mesages = df_messages.groupby(['user_id', 'month'])['id'].agg(['count']).reset_index()\n",
    "#посчитаем объем израсходованного интернет-трафика по месяцам в мегабайтах\n",
    "quantity_of_internet = df_internet.groupby(['user_id', 'month'])['mb_used'].agg(['sum']).reset_index()\n",
    "\n",
    "#округлим полученные значения в мегабайтах до гигабайт\n",
    "quantity_of_internet['sum'] = np.ceil(quantity_of_internet['sum'] / 1024)\n",
    "\n",
    "#сведем полученные данные в единую таблицу\n",
    "data = quantity_of_calls.merge(quantity_of_mesages, on=['user_id', 'month'], how='outer')\n",
    "data = data.merge(quantity_of_internet, on=['user_id', 'month'], how='outer')\n",
    "#поменяем названия столбцов\n",
    "data.columns = ['user_id', 'month', 'calls', 'calls_duration', 'messages', 'gb_used']\n",
    "#добавим данные пользователей\n",
    "data = data.merge(df_users, on='user_id', how='outer')\n",
    "#переименуем название столбца month_y\n",
    "data = data.rename(columns={'month_x': 'month', 'month_y': 'reg_month'})\n",
    "#посмотрим полученную сводную тадлицу\n",
    "display(data.head(10))\n",
    "data.describe()\n",
    "data.info()"
   ]
  },
  {
   "cell_type": "markdown",
   "metadata": {},
   "source": [
    "Выявлены пропущенные значения в столбцах `calls`, `calls_duration`, `messages`, `gb_used`.\n",
    "\n",
    "Пользователи не всегда могут пользоваться всеми услугами оператора сотовой связи, поэтому заполним пропуски нулевыми значениями."
   ]
  },
  {
   "cell_type": "code",
   "execution_count": 11,
   "metadata": {},
   "outputs": [
    {
     "name": "stdout",
     "output_type": "stream",
     "text": [
      "<class 'pandas.core.frame.DataFrame'>\n",
      "Int64Index: 3216 entries, 0 to 3215\n",
      "Data columns (total 14 columns):\n",
      " #   Column          Non-Null Count  Dtype         \n",
      "---  ------          --------------  -----         \n",
      " 0   user_id         3216 non-null   int64         \n",
      " 1   month           3214 non-null   float64       \n",
      " 2   calls           3216 non-null   float64       \n",
      " 3   calls_duration  3216 non-null   float64       \n",
      " 4   messages        3216 non-null   float64       \n",
      " 5   gb_used         3216 non-null   float64       \n",
      " 6   age             3216 non-null   int64         \n",
      " 7   churn_date      189 non-null    object        \n",
      " 8   city            3216 non-null   object        \n",
      " 9   first_name      3216 non-null   object        \n",
      " 10  last_name       3216 non-null   object        \n",
      " 11  reg_date        3216 non-null   datetime64[ns]\n",
      " 12  tariff          3216 non-null   object        \n",
      " 13  reg_month       3216 non-null   int64         \n",
      "dtypes: datetime64[ns](1), float64(5), int64(3), object(5)\n",
      "memory usage: 376.9+ KB\n"
     ]
    }
   ],
   "source": [
    "columns_to_replace = ['calls', 'calls_duration', 'messages', 'gb_used']\n",
    "for column in columns_to_replace:\n",
    "    data[column] = data[column].fillna(0)\n",
    "\n",
    "#проверим изменения\n",
    "data.info()"
   ]
  },
  {
   "cell_type": "markdown",
   "metadata": {},
   "source": [
    "Данных полученной сводной таблицы достаточно для дальнейших расчетов."
   ]
  },
  {
   "cell_type": "markdown",
   "metadata": {},
   "source": [
    "### Помесячная выручка с каждого пользователя"
   ]
  },
  {
   "cell_type": "markdown",
   "metadata": {},
   "source": [
    "Для расчета помесячной выручки с каждого пользователя необходимо:\n",
    "1. Вычесть бесплатный лимит из суммарного количества звонков, сообщений и интернет-трафика;\n",
    "2. Умножить остаток на значение из тарифного плана;\n",
    "3. Прибавить абонентскую плату, соответствующую тарифному плану."
   ]
  },
  {
   "cell_type": "code",
   "execution_count": 12,
   "metadata": {},
   "outputs": [],
   "source": [
    "#функции для расчета перелимитов\n",
    "def calls_over_limit(row):\n",
    "    if (row['tariff'] == 'smart'):\n",
    "        result = row['calls_duration'] - df_tariffs['minutes_included'][0]\n",
    "        if result > 0:\n",
    "            return result\n",
    "        else:\n",
    "            return 0\n",
    "    else:\n",
    "        result = row['calls_duration'] - df_tariffs['minutes_included'][1]\n",
    "        if result > 0:\n",
    "            return result\n",
    "        else:\n",
    "            return 0\n",
    "\n",
    "def internet_over_limit(row):\n",
    "    if (row['tariff'] == 'smart'):\n",
    "        result = row['gb_used'] - df_tariffs['mb_per_month_included'][0] / 1024\n",
    "        if result > 0:\n",
    "            return result\n",
    "        else:\n",
    "            return 0\n",
    "    else:\n",
    "        result = row['gb_used'] - df_tariffs['mb_per_month_included'][1] / 1024\n",
    "        if result > 0:\n",
    "            return result\n",
    "        else:\n",
    "            return 0\n",
    "\n",
    "def messages_over_limit(row):\n",
    "    if (row['tariff'] == 'smart'):\n",
    "        result = row['messages'] - df_tariffs['messages_included'][0]\n",
    "        if result > 0:\n",
    "            return result\n",
    "        else:\n",
    "            return 0\n",
    "    else:\n",
    "        result = row['messages'] - df_tariffs['messages_included'][1]\n",
    "        if result > 0:\n",
    "            return result\n",
    "        else:\n",
    "            return 0"
   ]
  },
  {
   "cell_type": "code",
   "execution_count": 13,
   "metadata": {},
   "outputs": [],
   "source": [
    "data['calls_over_limit'] = data.apply(calls_over_limit, axis=1)\n",
    "data['internet_over_limit'] = data.apply(internet_over_limit, axis=1)\n",
    "data['messages_over_limit'] = data.apply(messages_over_limit, axis=1)"
   ]
  },
  {
   "cell_type": "code",
   "execution_count": 14,
   "metadata": {},
   "outputs": [
    {
     "data": {
      "text/html": [
       "<div>\n",
       "<style scoped>\n",
       "    .dataframe tbody tr th:only-of-type {\n",
       "        vertical-align: middle;\n",
       "    }\n",
       "\n",
       "    .dataframe tbody tr th {\n",
       "        vertical-align: top;\n",
       "    }\n",
       "\n",
       "    .dataframe thead th {\n",
       "        text-align: right;\n",
       "    }\n",
       "</style>\n",
       "<table border=\"1\" class=\"dataframe\">\n",
       "  <thead>\n",
       "    <tr style=\"text-align: right;\">\n",
       "      <th></th>\n",
       "      <th>user_id</th>\n",
       "      <th>month</th>\n",
       "      <th>calls</th>\n",
       "      <th>calls_duration</th>\n",
       "      <th>messages</th>\n",
       "      <th>gb_used</th>\n",
       "      <th>age</th>\n",
       "      <th>churn_date</th>\n",
       "      <th>city</th>\n",
       "      <th>first_name</th>\n",
       "      <th>last_name</th>\n",
       "      <th>reg_date</th>\n",
       "      <th>tariff</th>\n",
       "      <th>reg_month</th>\n",
       "      <th>calls_over_limit</th>\n",
       "      <th>internet_over_limit</th>\n",
       "      <th>messages_over_limit</th>\n",
       "    </tr>\n",
       "  </thead>\n",
       "  <tbody>\n",
       "    <tr>\n",
       "      <th>0</th>\n",
       "      <td>1000</td>\n",
       "      <td>5.0</td>\n",
       "      <td>22.0</td>\n",
       "      <td>159.0</td>\n",
       "      <td>22.0</td>\n",
       "      <td>3.0</td>\n",
       "      <td>52</td>\n",
       "      <td>NaN</td>\n",
       "      <td>Краснодар</td>\n",
       "      <td>Рафаил</td>\n",
       "      <td>Верещагин</td>\n",
       "      <td>2018-05-25</td>\n",
       "      <td>ultra</td>\n",
       "      <td>5</td>\n",
       "      <td>0.0</td>\n",
       "      <td>0.0</td>\n",
       "      <td>0.0</td>\n",
       "    </tr>\n",
       "    <tr>\n",
       "      <th>1</th>\n",
       "      <td>1000</td>\n",
       "      <td>6.0</td>\n",
       "      <td>43.0</td>\n",
       "      <td>172.0</td>\n",
       "      <td>60.0</td>\n",
       "      <td>23.0</td>\n",
       "      <td>52</td>\n",
       "      <td>NaN</td>\n",
       "      <td>Краснодар</td>\n",
       "      <td>Рафаил</td>\n",
       "      <td>Верещагин</td>\n",
       "      <td>2018-05-25</td>\n",
       "      <td>ultra</td>\n",
       "      <td>5</td>\n",
       "      <td>0.0</td>\n",
       "      <td>0.0</td>\n",
       "      <td>0.0</td>\n",
       "    </tr>\n",
       "    <tr>\n",
       "      <th>2</th>\n",
       "      <td>1000</td>\n",
       "      <td>7.0</td>\n",
       "      <td>47.0</td>\n",
       "      <td>340.0</td>\n",
       "      <td>75.0</td>\n",
       "      <td>14.0</td>\n",
       "      <td>52</td>\n",
       "      <td>NaN</td>\n",
       "      <td>Краснодар</td>\n",
       "      <td>Рафаил</td>\n",
       "      <td>Верещагин</td>\n",
       "      <td>2018-05-25</td>\n",
       "      <td>ultra</td>\n",
       "      <td>5</td>\n",
       "      <td>0.0</td>\n",
       "      <td>0.0</td>\n",
       "      <td>0.0</td>\n",
       "    </tr>\n",
       "    <tr>\n",
       "      <th>3</th>\n",
       "      <td>1000</td>\n",
       "      <td>8.0</td>\n",
       "      <td>52.0</td>\n",
       "      <td>408.0</td>\n",
       "      <td>81.0</td>\n",
       "      <td>14.0</td>\n",
       "      <td>52</td>\n",
       "      <td>NaN</td>\n",
       "      <td>Краснодар</td>\n",
       "      <td>Рафаил</td>\n",
       "      <td>Верещагин</td>\n",
       "      <td>2018-05-25</td>\n",
       "      <td>ultra</td>\n",
       "      <td>5</td>\n",
       "      <td>0.0</td>\n",
       "      <td>0.0</td>\n",
       "      <td>0.0</td>\n",
       "    </tr>\n",
       "    <tr>\n",
       "      <th>4</th>\n",
       "      <td>1000</td>\n",
       "      <td>9.0</td>\n",
       "      <td>58.0</td>\n",
       "      <td>466.0</td>\n",
       "      <td>57.0</td>\n",
       "      <td>15.0</td>\n",
       "      <td>52</td>\n",
       "      <td>NaN</td>\n",
       "      <td>Краснодар</td>\n",
       "      <td>Рафаил</td>\n",
       "      <td>Верещагин</td>\n",
       "      <td>2018-05-25</td>\n",
       "      <td>ultra</td>\n",
       "      <td>5</td>\n",
       "      <td>0.0</td>\n",
       "      <td>0.0</td>\n",
       "      <td>0.0</td>\n",
       "    </tr>\n",
       "  </tbody>\n",
       "</table>\n",
       "</div>"
      ],
      "text/plain": [
       "   user_id  month  calls  calls_duration  messages  gb_used  age churn_date  \\\n",
       "0     1000    5.0   22.0           159.0      22.0      3.0   52        NaN   \n",
       "1     1000    6.0   43.0           172.0      60.0     23.0   52        NaN   \n",
       "2     1000    7.0   47.0           340.0      75.0     14.0   52        NaN   \n",
       "3     1000    8.0   52.0           408.0      81.0     14.0   52        NaN   \n",
       "4     1000    9.0   58.0           466.0      57.0     15.0   52        NaN   \n",
       "\n",
       "        city first_name  last_name   reg_date tariff  reg_month  \\\n",
       "0  Краснодар     Рафаил  Верещагин 2018-05-25  ultra          5   \n",
       "1  Краснодар     Рафаил  Верещагин 2018-05-25  ultra          5   \n",
       "2  Краснодар     Рафаил  Верещагин 2018-05-25  ultra          5   \n",
       "3  Краснодар     Рафаил  Верещагин 2018-05-25  ultra          5   \n",
       "4  Краснодар     Рафаил  Верещагин 2018-05-25  ultra          5   \n",
       "\n",
       "   calls_over_limit  internet_over_limit  messages_over_limit  \n",
       "0               0.0                  0.0                  0.0  \n",
       "1               0.0                  0.0                  0.0  \n",
       "2               0.0                  0.0                  0.0  \n",
       "3               0.0                  0.0                  0.0  \n",
       "4               0.0                  0.0                  0.0  "
      ]
     },
     "execution_count": 14,
     "metadata": {},
     "output_type": "execute_result"
    }
   ],
   "source": [
    "data.head()"
   ]
  },
  {
   "cell_type": "markdown",
   "metadata": {},
   "source": [
    "Все необходимые столбцы добавлены."
   ]
  },
  {
   "cell_type": "code",
   "execution_count": 15,
   "metadata": {},
   "outputs": [],
   "source": [
    "#функция для подсчета выручки\n",
    "def total_income(row):\n",
    "    total_income = 0\n",
    "    if (row['tariff'] == 'smart'):\n",
    "        total_income += row['calls_over_limit'] * df_tariffs['rub_per_minute'][0]\n",
    "        total_income += row['internet_over_limit'] * df_tariffs['rub_per_gb'][0]\n",
    "        total_income += row['messages_over_limit'] * df_tariffs['rub_per_message'][0] \n",
    "        total_income += df_tariffs['rub_monthly_fee'][0]\n",
    "        return total_income\n",
    "    else:\n",
    "        total_income += row['calls_over_limit'] * df_tariffs['rub_per_minute'][1]\n",
    "        total_income += row['internet_over_limit'] * df_tariffs['rub_per_gb'][1]\n",
    "        total_income += row['messages_over_limit'] * df_tariffs['rub_per_message'][1] \n",
    "        total_income += df_tariffs['rub_monthly_fee'][1]\n",
    "        return total_income"
   ]
  },
  {
   "cell_type": "code",
   "execution_count": 16,
   "metadata": {},
   "outputs": [],
   "source": [
    "data['total_income'] = data.apply(total_income, axis=1)"
   ]
  },
  {
   "cell_type": "code",
   "execution_count": 17,
   "metadata": {},
   "outputs": [
    {
     "data": {
      "text/html": [
       "<div>\n",
       "<style scoped>\n",
       "    .dataframe tbody tr th:only-of-type {\n",
       "        vertical-align: middle;\n",
       "    }\n",
       "\n",
       "    .dataframe tbody tr th {\n",
       "        vertical-align: top;\n",
       "    }\n",
       "\n",
       "    .dataframe thead th {\n",
       "        text-align: right;\n",
       "    }\n",
       "</style>\n",
       "<table border=\"1\" class=\"dataframe\">\n",
       "  <thead>\n",
       "    <tr style=\"text-align: right;\">\n",
       "      <th></th>\n",
       "      <th>user_id</th>\n",
       "      <th>month</th>\n",
       "      <th>calls</th>\n",
       "      <th>calls_duration</th>\n",
       "      <th>messages</th>\n",
       "      <th>gb_used</th>\n",
       "      <th>age</th>\n",
       "      <th>churn_date</th>\n",
       "      <th>city</th>\n",
       "      <th>first_name</th>\n",
       "      <th>last_name</th>\n",
       "      <th>reg_date</th>\n",
       "      <th>tariff</th>\n",
       "      <th>reg_month</th>\n",
       "      <th>calls_over_limit</th>\n",
       "      <th>internet_over_limit</th>\n",
       "      <th>messages_over_limit</th>\n",
       "      <th>total_income</th>\n",
       "    </tr>\n",
       "  </thead>\n",
       "  <tbody>\n",
       "    <tr>\n",
       "      <th>1858</th>\n",
       "      <td>1296</td>\n",
       "      <td>10.0</td>\n",
       "      <td>40.0</td>\n",
       "      <td>316.0</td>\n",
       "      <td>45.0</td>\n",
       "      <td>15.0</td>\n",
       "      <td>60</td>\n",
       "      <td>NaN</td>\n",
       "      <td>Москва</td>\n",
       "      <td>Альфред</td>\n",
       "      <td>Черный</td>\n",
       "      <td>2018-06-05</td>\n",
       "      <td>smart</td>\n",
       "      <td>6</td>\n",
       "      <td>0.0</td>\n",
       "      <td>0.0</td>\n",
       "      <td>0.0</td>\n",
       "      <td>550.0</td>\n",
       "    </tr>\n",
       "    <tr>\n",
       "      <th>2938</th>\n",
       "      <td>1462</td>\n",
       "      <td>12.0</td>\n",
       "      <td>136.0</td>\n",
       "      <td>878.0</td>\n",
       "      <td>0.0</td>\n",
       "      <td>24.0</td>\n",
       "      <td>72</td>\n",
       "      <td>NaN</td>\n",
       "      <td>Тольятти</td>\n",
       "      <td>Алёна</td>\n",
       "      <td>Абрамычева</td>\n",
       "      <td>2018-10-29</td>\n",
       "      <td>smart</td>\n",
       "      <td>10</td>\n",
       "      <td>378.0</td>\n",
       "      <td>9.0</td>\n",
       "      <td>0.0</td>\n",
       "      <td>3484.0</td>\n",
       "    </tr>\n",
       "    <tr>\n",
       "      <th>96</th>\n",
       "      <td>1012</td>\n",
       "      <td>11.0</td>\n",
       "      <td>25.0</td>\n",
       "      <td>206.0</td>\n",
       "      <td>25.0</td>\n",
       "      <td>22.0</td>\n",
       "      <td>38</td>\n",
       "      <td>NaN</td>\n",
       "      <td>Санкт-Петербург</td>\n",
       "      <td>Варлам</td>\n",
       "      <td>Соловьев</td>\n",
       "      <td>2018-03-28</td>\n",
       "      <td>smart</td>\n",
       "      <td>3</td>\n",
       "      <td>0.0</td>\n",
       "      <td>7.0</td>\n",
       "      <td>0.0</td>\n",
       "      <td>1950.0</td>\n",
       "    </tr>\n",
       "    <tr>\n",
       "      <th>1400</th>\n",
       "      <td>1222</td>\n",
       "      <td>10.0</td>\n",
       "      <td>196.0</td>\n",
       "      <td>1322.0</td>\n",
       "      <td>133.0</td>\n",
       "      <td>27.0</td>\n",
       "      <td>44</td>\n",
       "      <td>NaN</td>\n",
       "      <td>Уфа</td>\n",
       "      <td>Пётр</td>\n",
       "      <td>Булгаков</td>\n",
       "      <td>2018-08-30</td>\n",
       "      <td>ultra</td>\n",
       "      <td>8</td>\n",
       "      <td>0.0</td>\n",
       "      <td>0.0</td>\n",
       "      <td>0.0</td>\n",
       "      <td>1950.0</td>\n",
       "    </tr>\n",
       "    <tr>\n",
       "      <th>945</th>\n",
       "      <td>1152</td>\n",
       "      <td>5.0</td>\n",
       "      <td>41.0</td>\n",
       "      <td>345.0</td>\n",
       "      <td>0.0</td>\n",
       "      <td>27.0</td>\n",
       "      <td>44</td>\n",
       "      <td>NaN</td>\n",
       "      <td>Мурманск</td>\n",
       "      <td>Марина</td>\n",
       "      <td>Щербакова</td>\n",
       "      <td>2018-02-05</td>\n",
       "      <td>ultra</td>\n",
       "      <td>2</td>\n",
       "      <td>0.0</td>\n",
       "      <td>0.0</td>\n",
       "      <td>0.0</td>\n",
       "      <td>1950.0</td>\n",
       "    </tr>\n",
       "    <tr>\n",
       "      <th>1056</th>\n",
       "      <td>1169</td>\n",
       "      <td>12.0</td>\n",
       "      <td>41.0</td>\n",
       "      <td>281.0</td>\n",
       "      <td>13.0</td>\n",
       "      <td>11.0</td>\n",
       "      <td>52</td>\n",
       "      <td>NaN</td>\n",
       "      <td>Сочи</td>\n",
       "      <td>Георгина</td>\n",
       "      <td>Карташова</td>\n",
       "      <td>2018-06-25</td>\n",
       "      <td>smart</td>\n",
       "      <td>6</td>\n",
       "      <td>0.0</td>\n",
       "      <td>0.0</td>\n",
       "      <td>0.0</td>\n",
       "      <td>550.0</td>\n",
       "    </tr>\n",
       "    <tr>\n",
       "      <th>1821</th>\n",
       "      <td>1291</td>\n",
       "      <td>9.0</td>\n",
       "      <td>78.0</td>\n",
       "      <td>526.0</td>\n",
       "      <td>0.0</td>\n",
       "      <td>9.0</td>\n",
       "      <td>73</td>\n",
       "      <td>NaN</td>\n",
       "      <td>Москва</td>\n",
       "      <td>Мануэла</td>\n",
       "      <td>Анищенко</td>\n",
       "      <td>2018-02-08</td>\n",
       "      <td>smart</td>\n",
       "      <td>2</td>\n",
       "      <td>26.0</td>\n",
       "      <td>0.0</td>\n",
       "      <td>0.0</td>\n",
       "      <td>628.0</td>\n",
       "    </tr>\n",
       "    <tr>\n",
       "      <th>671</th>\n",
       "      <td>1109</td>\n",
       "      <td>2.0</td>\n",
       "      <td>16.0</td>\n",
       "      <td>99.0</td>\n",
       "      <td>0.0</td>\n",
       "      <td>3.0</td>\n",
       "      <td>64</td>\n",
       "      <td>NaN</td>\n",
       "      <td>Санкт-Петербург</td>\n",
       "      <td>Екатерина</td>\n",
       "      <td>Андрющенко</td>\n",
       "      <td>2018-02-23</td>\n",
       "      <td>smart</td>\n",
       "      <td>2</td>\n",
       "      <td>0.0</td>\n",
       "      <td>0.0</td>\n",
       "      <td>0.0</td>\n",
       "      <td>550.0</td>\n",
       "    </tr>\n",
       "    <tr>\n",
       "      <th>1861</th>\n",
       "      <td>1297</td>\n",
       "      <td>12.0</td>\n",
       "      <td>47.0</td>\n",
       "      <td>404.0</td>\n",
       "      <td>0.0</td>\n",
       "      <td>19.0</td>\n",
       "      <td>66</td>\n",
       "      <td>NaN</td>\n",
       "      <td>Иркутск</td>\n",
       "      <td>Радим</td>\n",
       "      <td>Абрамцев</td>\n",
       "      <td>2018-12-04</td>\n",
       "      <td>smart</td>\n",
       "      <td>12</td>\n",
       "      <td>0.0</td>\n",
       "      <td>4.0</td>\n",
       "      <td>0.0</td>\n",
       "      <td>1350.0</td>\n",
       "    </tr>\n",
       "    <tr>\n",
       "      <th>831</th>\n",
       "      <td>1134</td>\n",
       "      <td>4.0</td>\n",
       "      <td>69.0</td>\n",
       "      <td>419.0</td>\n",
       "      <td>44.0</td>\n",
       "      <td>17.0</td>\n",
       "      <td>65</td>\n",
       "      <td>NaN</td>\n",
       "      <td>Красноярск</td>\n",
       "      <td>Марьяна</td>\n",
       "      <td>Авросимова</td>\n",
       "      <td>2018-01-16</td>\n",
       "      <td>smart</td>\n",
       "      <td>1</td>\n",
       "      <td>0.0</td>\n",
       "      <td>2.0</td>\n",
       "      <td>0.0</td>\n",
       "      <td>950.0</td>\n",
       "    </tr>\n",
       "  </tbody>\n",
       "</table>\n",
       "</div>"
      ],
      "text/plain": [
       "      user_id  month  calls  calls_duration  messages  gb_used  age  \\\n",
       "1858     1296   10.0   40.0           316.0      45.0     15.0   60   \n",
       "2938     1462   12.0  136.0           878.0       0.0     24.0   72   \n",
       "96       1012   11.0   25.0           206.0      25.0     22.0   38   \n",
       "1400     1222   10.0  196.0          1322.0     133.0     27.0   44   \n",
       "945      1152    5.0   41.0           345.0       0.0     27.0   44   \n",
       "1056     1169   12.0   41.0           281.0      13.0     11.0   52   \n",
       "1821     1291    9.0   78.0           526.0       0.0      9.0   73   \n",
       "671      1109    2.0   16.0            99.0       0.0      3.0   64   \n",
       "1861     1297   12.0   47.0           404.0       0.0     19.0   66   \n",
       "831      1134    4.0   69.0           419.0      44.0     17.0   65   \n",
       "\n",
       "     churn_date             city first_name   last_name   reg_date tariff  \\\n",
       "1858        NaN           Москва    Альфред      Черный 2018-06-05  smart   \n",
       "2938        NaN         Тольятти      Алёна  Абрамычева 2018-10-29  smart   \n",
       "96          NaN  Санкт-Петербург     Варлам    Соловьев 2018-03-28  smart   \n",
       "1400        NaN              Уфа       Пётр    Булгаков 2018-08-30  ultra   \n",
       "945         NaN         Мурманск     Марина   Щербакова 2018-02-05  ultra   \n",
       "1056        NaN             Сочи   Георгина   Карташова 2018-06-25  smart   \n",
       "1821        NaN           Москва    Мануэла    Анищенко 2018-02-08  smart   \n",
       "671         NaN  Санкт-Петербург  Екатерина  Андрющенко 2018-02-23  smart   \n",
       "1861        NaN          Иркутск      Радим    Абрамцев 2018-12-04  smart   \n",
       "831         NaN       Красноярск    Марьяна  Авросимова 2018-01-16  smart   \n",
       "\n",
       "      reg_month  calls_over_limit  internet_over_limit  messages_over_limit  \\\n",
       "1858          6               0.0                  0.0                  0.0   \n",
       "2938         10             378.0                  9.0                  0.0   \n",
       "96            3               0.0                  7.0                  0.0   \n",
       "1400          8               0.0                  0.0                  0.0   \n",
       "945           2               0.0                  0.0                  0.0   \n",
       "1056          6               0.0                  0.0                  0.0   \n",
       "1821          2              26.0                  0.0                  0.0   \n",
       "671           2               0.0                  0.0                  0.0   \n",
       "1861         12               0.0                  4.0                  0.0   \n",
       "831           1               0.0                  2.0                  0.0   \n",
       "\n",
       "      total_income  \n",
       "1858         550.0  \n",
       "2938        3484.0  \n",
       "96          1950.0  \n",
       "1400        1950.0  \n",
       "945         1950.0  \n",
       "1056         550.0  \n",
       "1821         628.0  \n",
       "671          550.0  \n",
       "1861        1350.0  \n",
       "831          950.0  "
      ]
     },
     "execution_count": 17,
     "metadata": {},
     "output_type": "execute_result"
    }
   ],
   "source": [
    "data.sample(10)"
   ]
  },
  {
   "cell_type": "markdown",
   "metadata": {},
   "source": [
    "Выручка для каждого пользователя и месяца посчитана и добавлена в таблицу."
   ]
  },
  {
   "cell_type": "markdown",
   "metadata": {},
   "source": [
    "## Анализ полученных данных для каждого пользователя"
   ]
  },
  {
   "cell_type": "code",
   "execution_count": 18,
   "metadata": {},
   "outputs": [],
   "source": [
    "#функция для анализа поведения клиентов оператора\n",
    "def hist_maker_and_table(df, name, x_1_smart, x_2_ultra):\n",
    "    cd = df.groupby(df.tariff)[name]\n",
    "    cd_desc = cd.describe(percentiles = [.01,.25,.75,.99])\n",
    "    cd_desc['var']= [np.var(cd.get_group('smart'), ddof=1), np.var(cd.get_group('ultra'), ddof=1)]\n",
    "    display(cd_desc)\n",
    "    smart = df.query('tariff == \"smart\"')[name]\n",
    "    ultra = df.query('tariff == \"ultra\"')[name]\n",
    "    plt.figure(figsize=(10,6))\n",
    "    plt.hist(smart, bins=50, color='blue', edgecolor='grey', alpha=0.5, label = 'smart', density = False)\n",
    "    plt.hist(ultra, bins=50, color='orange', edgecolor='grey', alpha=0.5,label = 'ultra', density = False)\n",
    "    plt.axvline(cd_desc['mean'][0], color='blue', linestyle='dashed', linewidth=3, label='Mean smart: {:.2f}'.format(cd_desc['mean'][0]))\n",
    "    \n",
    "    plt.axvline(cd_desc['mean'][1], color='orange', linestyle='dashed', linewidth=3, label='Mean ultra: {:.2f}'.format(cd_desc['mean'][1]))\n",
    "\n",
    "    plt.axvline(x_1_smart, color='blue', linestyle='solid', linewidth=3, label='Included in tariff smart')\n",
    "    plt.axvline(x_2_ultra, color='orange', linestyle='solid', linewidth=3, label='Included in tariff ultra')\n",
    "    plt.legend()\n",
    "    plt.title('Histogram {}'.format(name))"
   ]
  },
  {
   "cell_type": "markdown",
   "metadata": {},
   "source": [
    "### Сравнение длительности звонков"
   ]
  },
  {
   "cell_type": "code",
   "execution_count": 19,
   "metadata": {},
   "outputs": [
    {
     "name": "stdout",
     "output_type": "stream",
     "text": [
      "СРАВНЕНИЕ ТАРИФА СМАРТ И УЛЬТРА\n"
     ]
    },
    {
     "data": {
      "text/plain": [
       "<AxesSubplot:>"
      ]
     },
     "execution_count": 19,
     "metadata": {},
     "output_type": "execute_result"
    },
    {
     "data": {
      "image/png": "[encoded data removed]",
      "text/plain": [
       "<Figure size 1512x432 with 2 Axes>"
      ]
     },
     "metadata": {
      "needs_background": "light"
     },
     "output_type": "display_data"
    }
   ],
   "source": [
    "print('СРАВНЕНИЕ ТАРИФА СМАРТ И УЛЬТРА')\n",
    "fig = plt.figure(figsize = (21,6))\n",
    "data[data['tariff'] == 'smart'].boxplot('calls_duration', ax = plt.subplot(1,2,1));\n",
    "data[data['tariff'] == 'ultra'].boxplot('calls_duration', ax = plt.subplot(1,2,2))\n"
   ]
  },
  {
   "cell_type": "code",
   "execution_count": 20,
   "metadata": {},
   "outputs": [
    {
     "data": {
      "text/html": [
       "<div>\n",
       "<style scoped>\n",
       "    .dataframe tbody tr th:only-of-type {\n",
       "        vertical-align: middle;\n",
       "    }\n",
       "\n",
       "    .dataframe tbody tr th {\n",
       "        vertical-align: top;\n",
       "    }\n",
       "\n",
       "    .dataframe thead th {\n",
       "        text-align: right;\n",
       "    }\n",
       "</style>\n",
       "<table border=\"1\" class=\"dataframe\">\n",
       "  <thead>\n",
       "    <tr style=\"text-align: right;\">\n",
       "      <th></th>\n",
       "      <th>count</th>\n",
       "      <th>mean</th>\n",
       "      <th>std</th>\n",
       "      <th>min</th>\n",
       "      <th>1%</th>\n",
       "      <th>25%</th>\n",
       "      <th>50%</th>\n",
       "      <th>75%</th>\n",
       "      <th>99%</th>\n",
       "      <th>max</th>\n",
       "      <th>var</th>\n",
       "    </tr>\n",
       "    <tr>\n",
       "      <th>tariff</th>\n",
       "      <th></th>\n",
       "      <th></th>\n",
       "      <th></th>\n",
       "      <th></th>\n",
       "      <th></th>\n",
       "      <th></th>\n",
       "      <th></th>\n",
       "      <th></th>\n",
       "      <th></th>\n",
       "      <th></th>\n",
       "      <th></th>\n",
       "    </tr>\n",
       "  </thead>\n",
       "  <tbody>\n",
       "    <tr>\n",
       "      <th>smart</th>\n",
       "      <td>2230.0</td>\n",
       "      <td>417.747534</td>\n",
       "      <td>190.476754</td>\n",
       "      <td>0.0</td>\n",
       "      <td>13.58</td>\n",
       "      <td>282.0</td>\n",
       "      <td>421.5</td>\n",
       "      <td>545.00</td>\n",
       "      <td>872.71</td>\n",
       "      <td>1435.0</td>\n",
       "      <td>36281.393836</td>\n",
       "    </tr>\n",
       "    <tr>\n",
       "      <th>ultra</th>\n",
       "      <td>986.0</td>\n",
       "      <td>526.089249</td>\n",
       "      <td>317.887549</td>\n",
       "      <td>0.0</td>\n",
       "      <td>0.00</td>\n",
       "      <td>282.5</td>\n",
       "      <td>518.0</td>\n",
       "      <td>751.75</td>\n",
       "      <td>1291.05</td>\n",
       "      <td>1673.0</td>\n",
       "      <td>101052.493549</td>\n",
       "    </tr>\n",
       "  </tbody>\n",
       "</table>\n",
       "</div>"
      ],
      "text/plain": [
       "         count        mean         std  min     1%    25%    50%     75%  \\\n",
       "tariff                                                                     \n",
       "smart   2230.0  417.747534  190.476754  0.0  13.58  282.0  421.5  545.00   \n",
       "ultra    986.0  526.089249  317.887549  0.0   0.00  282.5  518.0  751.75   \n",
       "\n",
       "            99%     max            var  \n",
       "tariff                                  \n",
       "smart    872.71  1435.0   36281.393836  \n",
       "ultra   1291.05  1673.0  101052.493549  "
      ]
     },
     "metadata": {},
     "output_type": "display_data"
    },
    {
     "data": {
      "image/png": "[encoded data removed]",
      "text/plain": [
       "<Figure size 720x432 with 1 Axes>"
      ]
     },
     "metadata": {
      "needs_background": "light"
     },
     "output_type": "display_data"
    }
   ],
   "source": [
    "hist_maker_and_table(data,'calls_duration',500,3000)"
   ]
  },
  {
   "cell_type": "markdown",
   "metadata": {},
   "source": [
    "Минимальная длительность звонков составляет 0 минуты. Т.к. в документации не указано какие звонки фиксируются как 0, либо это пропущенные звонки, либо отклоненные, оставим эти значения как есть."
   ]
  },
  {
   "cell_type": "markdown",
   "metadata": {},
   "source": [
    "Максимальная длительность звонков составляет 1673 минуты, поэтому поменяем границу графика до 1700."
   ]
  },
  {
   "cell_type": "code",
   "execution_count": 21,
   "metadata": {},
   "outputs": [
    {
     "data": {
      "text/html": [
       "<div>\n",
       "<style scoped>\n",
       "    .dataframe tbody tr th:only-of-type {\n",
       "        vertical-align: middle;\n",
       "    }\n",
       "\n",
       "    .dataframe tbody tr th {\n",
       "        vertical-align: top;\n",
       "    }\n",
       "\n",
       "    .dataframe thead th {\n",
       "        text-align: right;\n",
       "    }\n",
       "</style>\n",
       "<table border=\"1\" class=\"dataframe\">\n",
       "  <thead>\n",
       "    <tr style=\"text-align: right;\">\n",
       "      <th></th>\n",
       "      <th>count</th>\n",
       "      <th>mean</th>\n",
       "      <th>std</th>\n",
       "      <th>min</th>\n",
       "      <th>1%</th>\n",
       "      <th>25%</th>\n",
       "      <th>50%</th>\n",
       "      <th>75%</th>\n",
       "      <th>99%</th>\n",
       "      <th>max</th>\n",
       "      <th>var</th>\n",
       "    </tr>\n",
       "    <tr>\n",
       "      <th>tariff</th>\n",
       "      <th></th>\n",
       "      <th></th>\n",
       "      <th></th>\n",
       "      <th></th>\n",
       "      <th></th>\n",
       "      <th></th>\n",
       "      <th></th>\n",
       "      <th></th>\n",
       "      <th></th>\n",
       "      <th></th>\n",
       "      <th></th>\n",
       "    </tr>\n",
       "  </thead>\n",
       "  <tbody>\n",
       "    <tr>\n",
       "      <th>smart</th>\n",
       "      <td>2230.0</td>\n",
       "      <td>417.747534</td>\n",
       "      <td>190.476754</td>\n",
       "      <td>0.0</td>\n",
       "      <td>13.58</td>\n",
       "      <td>282.0</td>\n",
       "      <td>421.5</td>\n",
       "      <td>545.00</td>\n",
       "      <td>872.71</td>\n",
       "      <td>1435.0</td>\n",
       "      <td>36281.393836</td>\n",
       "    </tr>\n",
       "    <tr>\n",
       "      <th>ultra</th>\n",
       "      <td>986.0</td>\n",
       "      <td>526.089249</td>\n",
       "      <td>317.887549</td>\n",
       "      <td>0.0</td>\n",
       "      <td>0.00</td>\n",
       "      <td>282.5</td>\n",
       "      <td>518.0</td>\n",
       "      <td>751.75</td>\n",
       "      <td>1291.05</td>\n",
       "      <td>1673.0</td>\n",
       "      <td>101052.493549</td>\n",
       "    </tr>\n",
       "  </tbody>\n",
       "</table>\n",
       "</div>"
      ],
      "text/plain": [
       "         count        mean         std  min     1%    25%    50%     75%  \\\n",
       "tariff                                                                     \n",
       "smart   2230.0  417.747534  190.476754  0.0  13.58  282.0  421.5  545.00   \n",
       "ultra    986.0  526.089249  317.887549  0.0   0.00  282.5  518.0  751.75   \n",
       "\n",
       "            99%     max            var  \n",
       "tariff                                  \n",
       "smart    872.71  1435.0   36281.393836  \n",
       "ultra   1291.05  1673.0  101052.493549  "
      ]
     },
     "metadata": {},
     "output_type": "display_data"
    },
    {
     "data": {
      "image/png": "[encoded data removed]",
      "text/plain": [
       "<Figure size 720x432 with 1 Axes>"
      ]
     },
     "metadata": {
      "needs_background": "light"
     },
     "output_type": "display_data"
    }
   ],
   "source": [
    "hist_maker_and_table(data,'calls_duration',500,1700)"
   ]
  },
  {
   "cell_type": "markdown",
   "metadata": {},
   "source": [
    "Выводы:\n",
    "- Пользователи тарифа \"Смарт\" в среднем в месяц тратят меньше минут разговора, чем пользователи тарифа \"Ультра\".\n",
    "- На тарифе \"Смарт\" пользователи часто не укладываются в лимиты и доплачивают за звонки.\n",
    "- Дисперсия и стандартное отклонение выше на тарифе \"Ультра\", но пользователи этого тарифа всегда укладываются в установленные лимиты. Максимальное число минут разговора в месяц значительно меньше заложенных в него 3000."
   ]
  },
  {
   "cell_type": "markdown",
   "metadata": {},
   "source": [
    "### Сравнение количества сообщений"
   ]
  },
  {
   "cell_type": "code",
   "execution_count": 22,
   "metadata": {},
   "outputs": [
    {
     "name": "stdout",
     "output_type": "stream",
     "text": [
      "СРАВНЕНИЕ ТАРИФА СМАРТ И УЛЬТРА\n"
     ]
    },
    {
     "data": {
      "text/plain": [
       "<AxesSubplot:>"
      ]
     },
     "execution_count": 22,
     "metadata": {},
     "output_type": "execute_result"
    },
    {
     "data": {
      "image/png": "[encoded data removed]",
      "text/plain": [
       "<Figure size 1512x432 with 2 Axes>"
      ]
     },
     "metadata": {
      "needs_background": "light"
     },
     "output_type": "display_data"
    }
   ],
   "source": [
    "print('СРАВНЕНИЕ ТАРИФА СМАРТ И УЛЬТРА')\n",
    "fig = plt.figure(figsize = (21,6))\n",
    "data[data['tariff'] == 'smart'].boxplot('messages', ax = plt.subplot(1,2,1));\n",
    "data[data['tariff'] == 'ultra'].boxplot('messages', ax = plt.subplot(1,2,2))"
   ]
  },
  {
   "cell_type": "code",
   "execution_count": 23,
   "metadata": {},
   "outputs": [
    {
     "data": {
      "text/html": [
       "<div>\n",
       "<style scoped>\n",
       "    .dataframe tbody tr th:only-of-type {\n",
       "        vertical-align: middle;\n",
       "    }\n",
       "\n",
       "    .dataframe tbody tr th {\n",
       "        vertical-align: top;\n",
       "    }\n",
       "\n",
       "    .dataframe thead th {\n",
       "        text-align: right;\n",
       "    }\n",
       "</style>\n",
       "<table border=\"1\" class=\"dataframe\">\n",
       "  <thead>\n",
       "    <tr style=\"text-align: right;\">\n",
       "      <th></th>\n",
       "      <th>count</th>\n",
       "      <th>mean</th>\n",
       "      <th>std</th>\n",
       "      <th>min</th>\n",
       "      <th>1%</th>\n",
       "      <th>25%</th>\n",
       "      <th>50%</th>\n",
       "      <th>75%</th>\n",
       "      <th>99%</th>\n",
       "      <th>max</th>\n",
       "      <th>var</th>\n",
       "    </tr>\n",
       "    <tr>\n",
       "      <th>tariff</th>\n",
       "      <th></th>\n",
       "      <th></th>\n",
       "      <th></th>\n",
       "      <th></th>\n",
       "      <th></th>\n",
       "      <th></th>\n",
       "      <th></th>\n",
       "      <th></th>\n",
       "      <th></th>\n",
       "      <th></th>\n",
       "      <th></th>\n",
       "    </tr>\n",
       "  </thead>\n",
       "  <tbody>\n",
       "    <tr>\n",
       "      <th>smart</th>\n",
       "      <td>2230.0</td>\n",
       "      <td>33.369058</td>\n",
       "      <td>28.230396</td>\n",
       "      <td>0.0</td>\n",
       "      <td>0.0</td>\n",
       "      <td>10.0</td>\n",
       "      <td>28.0</td>\n",
       "      <td>51.00</td>\n",
       "      <td>108.0</td>\n",
       "      <td>143.0</td>\n",
       "      <td>796.955256</td>\n",
       "    </tr>\n",
       "    <tr>\n",
       "      <th>ultra</th>\n",
       "      <td>986.0</td>\n",
       "      <td>49.313387</td>\n",
       "      <td>47.806040</td>\n",
       "      <td>0.0</td>\n",
       "      <td>0.0</td>\n",
       "      <td>6.0</td>\n",
       "      <td>38.0</td>\n",
       "      <td>78.75</td>\n",
       "      <td>183.3</td>\n",
       "      <td>224.0</td>\n",
       "      <td>2285.417425</td>\n",
       "    </tr>\n",
       "  </tbody>\n",
       "</table>\n",
       "</div>"
      ],
      "text/plain": [
       "         count       mean        std  min   1%   25%   50%    75%    99%  \\\n",
       "tariff                                                                     \n",
       "smart   2230.0  33.369058  28.230396  0.0  0.0  10.0  28.0  51.00  108.0   \n",
       "ultra    986.0  49.313387  47.806040  0.0  0.0   6.0  38.0  78.75  183.3   \n",
       "\n",
       "          max          var  \n",
       "tariff                      \n",
       "smart   143.0   796.955256  \n",
       "ultra   224.0  2285.417425  "
      ]
     },
     "metadata": {},
     "output_type": "display_data"
    },
    {
     "data": {
      "image/png": "[encoded data removed]",
      "text/plain": [
       "<Figure size 720x432 with 1 Axes>"
      ]
     },
     "metadata": {
      "needs_background": "light"
     },
     "output_type": "display_data"
    }
   ],
   "source": [
    "hist_maker_and_table(data,'messages',50,1000)"
   ]
  },
  {
   "cell_type": "markdown",
   "metadata": {},
   "source": [
    "Максимальное количество сообщений 224, поэтому поменяем границу графика до 230."
   ]
  },
  {
   "cell_type": "code",
   "execution_count": 24,
   "metadata": {},
   "outputs": [
    {
     "data": {
      "text/html": [
       "<div>\n",
       "<style scoped>\n",
       "    .dataframe tbody tr th:only-of-type {\n",
       "        vertical-align: middle;\n",
       "    }\n",
       "\n",
       "    .dataframe tbody tr th {\n",
       "        vertical-align: top;\n",
       "    }\n",
       "\n",
       "    .dataframe thead th {\n",
       "        text-align: right;\n",
       "    }\n",
       "</style>\n",
       "<table border=\"1\" class=\"dataframe\">\n",
       "  <thead>\n",
       "    <tr style=\"text-align: right;\">\n",
       "      <th></th>\n",
       "      <th>count</th>\n",
       "      <th>mean</th>\n",
       "      <th>std</th>\n",
       "      <th>min</th>\n",
       "      <th>1%</th>\n",
       "      <th>25%</th>\n",
       "      <th>50%</th>\n",
       "      <th>75%</th>\n",
       "      <th>99%</th>\n",
       "      <th>max</th>\n",
       "      <th>var</th>\n",
       "    </tr>\n",
       "    <tr>\n",
       "      <th>tariff</th>\n",
       "      <th></th>\n",
       "      <th></th>\n",
       "      <th></th>\n",
       "      <th></th>\n",
       "      <th></th>\n",
       "      <th></th>\n",
       "      <th></th>\n",
       "      <th></th>\n",
       "      <th></th>\n",
       "      <th></th>\n",
       "      <th></th>\n",
       "    </tr>\n",
       "  </thead>\n",
       "  <tbody>\n",
       "    <tr>\n",
       "      <th>smart</th>\n",
       "      <td>2230.0</td>\n",
       "      <td>33.369058</td>\n",
       "      <td>28.230396</td>\n",
       "      <td>0.0</td>\n",
       "      <td>0.0</td>\n",
       "      <td>10.0</td>\n",
       "      <td>28.0</td>\n",
       "      <td>51.00</td>\n",
       "      <td>108.0</td>\n",
       "      <td>143.0</td>\n",
       "      <td>796.955256</td>\n",
       "    </tr>\n",
       "    <tr>\n",
       "      <th>ultra</th>\n",
       "      <td>986.0</td>\n",
       "      <td>49.313387</td>\n",
       "      <td>47.806040</td>\n",
       "      <td>0.0</td>\n",
       "      <td>0.0</td>\n",
       "      <td>6.0</td>\n",
       "      <td>38.0</td>\n",
       "      <td>78.75</td>\n",
       "      <td>183.3</td>\n",
       "      <td>224.0</td>\n",
       "      <td>2285.417425</td>\n",
       "    </tr>\n",
       "  </tbody>\n",
       "</table>\n",
       "</div>"
      ],
      "text/plain": [
       "         count       mean        std  min   1%   25%   50%    75%    99%  \\\n",
       "tariff                                                                     \n",
       "smart   2230.0  33.369058  28.230396  0.0  0.0  10.0  28.0  51.00  108.0   \n",
       "ultra    986.0  49.313387  47.806040  0.0  0.0   6.0  38.0  78.75  183.3   \n",
       "\n",
       "          max          var  \n",
       "tariff                      \n",
       "smart   143.0   796.955256  \n",
       "ultra   224.0  2285.417425  "
      ]
     },
     "metadata": {},
     "output_type": "display_data"
    },
    {
     "data": {
      "image/png": "[encoded data removed]",
      "text/plain": [
       "<Figure size 720x432 with 1 Axes>"
      ]
     },
     "metadata": {
      "needs_background": "light"
     },
     "output_type": "display_data"
    }
   ],
   "source": [
    "hist_maker_and_table(data,'messages',50,230)"
   ]
  },
  {
   "cell_type": "markdown",
   "metadata": {},
   "source": [
    "Выводы:\n",
    "- Пользователи тарифа \"Смарт\" в среднем в месяц отправляют меньше сообщений, чем пользователи тарифа \"Ультра\".\n",
    "- На тарифе \"Смарт\" пользователи часто не укладываются в лимиты и доплачивают за сообщения.\n",
    "- Дисперсия и стандартное отклонение выше на тарифе \"Ультра\", но пользователи этого тарифа всегда укладываются в установленные лимиты. Максимальное число сообщений в месяц значительно меньше заложенных в него 1000."
   ]
  },
  {
   "cell_type": "markdown",
   "metadata": {},
   "source": [
    "### Сравнение объёма интернет-трафика"
   ]
  },
  {
   "cell_type": "code",
   "execution_count": 25,
   "metadata": {},
   "outputs": [
    {
     "name": "stdout",
     "output_type": "stream",
     "text": [
      "СРАВНЕНИЕ ТАРИФА СМАРТ И УЛЬТРА\n"
     ]
    },
    {
     "data": {
      "text/plain": [
       "<AxesSubplot:>"
      ]
     },
     "execution_count": 25,
     "metadata": {},
     "output_type": "execute_result"
    },
    {
     "data": {
      "image/png": "[encoded data removed]",
      "text/plain": [
       "<Figure size 1512x432 with 2 Axes>"
      ]
     },
     "metadata": {
      "needs_background": "light"
     },
     "output_type": "display_data"
    }
   ],
   "source": [
    "print('СРАВНЕНИЕ ТАРИФА СМАРТ И УЛЬТРА')\n",
    "fig = plt.figure(figsize = (21,6))\n",
    "data[data['tariff'] == 'smart'].boxplot('gb_used', ax = plt.subplot(1,2,1))\n",
    "data[data['tariff'] == 'ultra'].boxplot('gb_used', ax = plt.subplot(1,2,2))"
   ]
  },
  {
   "cell_type": "code",
   "execution_count": 26,
   "metadata": {},
   "outputs": [
    {
     "data": {
      "text/html": [
       "<div>\n",
       "<style scoped>\n",
       "    .dataframe tbody tr th:only-of-type {\n",
       "        vertical-align: middle;\n",
       "    }\n",
       "\n",
       "    .dataframe tbody tr th {\n",
       "        vertical-align: top;\n",
       "    }\n",
       "\n",
       "    .dataframe thead th {\n",
       "        text-align: right;\n",
       "    }\n",
       "</style>\n",
       "<table border=\"1\" class=\"dataframe\">\n",
       "  <thead>\n",
       "    <tr style=\"text-align: right;\">\n",
       "      <th></th>\n",
       "      <th>count</th>\n",
       "      <th>mean</th>\n",
       "      <th>std</th>\n",
       "      <th>min</th>\n",
       "      <th>1%</th>\n",
       "      <th>25%</th>\n",
       "      <th>50%</th>\n",
       "      <th>75%</th>\n",
       "      <th>99%</th>\n",
       "      <th>max</th>\n",
       "      <th>var</th>\n",
       "    </tr>\n",
       "    <tr>\n",
       "      <th>tariff</th>\n",
       "      <th></th>\n",
       "      <th></th>\n",
       "      <th></th>\n",
       "      <th></th>\n",
       "      <th></th>\n",
       "      <th></th>\n",
       "      <th></th>\n",
       "      <th></th>\n",
       "      <th></th>\n",
       "      <th></th>\n",
       "      <th></th>\n",
       "    </tr>\n",
       "  </thead>\n",
       "  <tbody>\n",
       "    <tr>\n",
       "      <th>smart</th>\n",
       "      <td>2230.0</td>\n",
       "      <td>16.321525</td>\n",
       "      <td>5.756167</td>\n",
       "      <td>0.0</td>\n",
       "      <td>2.0</td>\n",
       "      <td>13.0</td>\n",
       "      <td>17.0</td>\n",
       "      <td>20.0</td>\n",
       "      <td>29.71</td>\n",
       "      <td>38.0</td>\n",
       "      <td>33.133453</td>\n",
       "    </tr>\n",
       "    <tr>\n",
       "      <th>ultra</th>\n",
       "      <td>986.0</td>\n",
       "      <td>19.474645</td>\n",
       "      <td>9.868057</td>\n",
       "      <td>0.0</td>\n",
       "      <td>0.0</td>\n",
       "      <td>12.0</td>\n",
       "      <td>19.0</td>\n",
       "      <td>27.0</td>\n",
       "      <td>42.15</td>\n",
       "      <td>49.0</td>\n",
       "      <td>97.378544</td>\n",
       "    </tr>\n",
       "  </tbody>\n",
       "</table>\n",
       "</div>"
      ],
      "text/plain": [
       "         count       mean       std  min   1%   25%   50%   75%    99%   max  \\\n",
       "tariff                                                                         \n",
       "smart   2230.0  16.321525  5.756167  0.0  2.0  13.0  17.0  20.0  29.71  38.0   \n",
       "ultra    986.0  19.474645  9.868057  0.0  0.0  12.0  19.0  27.0  42.15  49.0   \n",
       "\n",
       "              var  \n",
       "tariff             \n",
       "smart   33.133453  \n",
       "ultra   97.378544  "
      ]
     },
     "metadata": {},
     "output_type": "display_data"
    },
    {
     "data": {
      "image/png": "[encoded data removed]",
      "text/plain": [
       "<Figure size 720x432 with 1 Axes>"
      ]
     },
     "metadata": {
      "needs_background": "light"
     },
     "output_type": "display_data"
    }
   ],
   "source": [
    "hist_maker_and_table(data,'gb_used',15,30)"
   ]
  },
  {
   "cell_type": "markdown",
   "metadata": {},
   "source": [
    "Выводы:\n",
    "- Пользователи тарифа \"Ультра\" в среднем в месяц используют бОльший объём интернет-трафика, чем пользователи тарифа \"Смарт\".\n",
    "- Пользователи тарифа \"Смарт\" не укладываются в лимит и доплачивают за интернет-трафик.\n",
    "- Дисперсия и стандартное отклонение выше на тарифе \"Ультра\", пользователи этого тарифа укладываются в установленный лимит интернет-трафика."
   ]
  },
  {
   "cell_type": "markdown",
   "metadata": {},
   "source": [
    "### Сравнение выручки"
   ]
  },
  {
   "cell_type": "code",
   "execution_count": 27,
   "metadata": {},
   "outputs": [],
   "source": [
    "total_income = data['total_income'].sum()\n",
    "smart_total_income = data.query('tariff == \"smart\"')['total_income'].sum()\n",
    "ultra_total_income = data.query('tariff == \"ultra\"')['total_income'].sum()"
   ]
  },
  {
   "cell_type": "code",
   "execution_count": 28,
   "metadata": {},
   "outputs": [
    {
     "data": {
      "text/plain": [
       "(-1.1090684501231578,\n",
       " 1.1004318309582457,\n",
       " -1.1240987710468748,\n",
       " 1.1126139973885787)"
      ]
     },
     "execution_count": 28,
     "metadata": {},
     "output_type": "execute_result"
    },
    {
     "data": {
      "image/png": "[encoded data removed]",
      "text/plain": [
       "<Figure size 432x288 with 1 Axes>"
      ]
     },
     "metadata": {},
     "output_type": "display_data"
    }
   ],
   "source": [
    "def calculate(percent):\n",
    "    tariff_income = float(percent / 100 * total_income)\n",
    "    return \"{:.2f}%\\n{:,.0f} руб.\".format(percent, tariff_income)\n",
    "\n",
    "vals = [smart_total_income, ultra_total_income]\n",
    "labels = ['Смарт', 'Ультра']\n",
    "fig, ax = plt.subplots()\n",
    "ax.pie(vals, labels=labels, autopct=lambda percent: calculate(percent), shadow=True, wedgeprops={'lw':1, 'ls':'-','edgecolor':\"k\"})\n",
    "ax.legend(loc='upper left', bbox_to_anchor=(1.0, 1.0))\n",
    "ax.axis('equal')\n"
   ]
  },
  {
   "cell_type": "markdown",
   "metadata": {},
   "source": [
    "Больше всего выручки приносит тарифный план \"Смарт\"."
   ]
  },
  {
   "cell_type": "code",
   "execution_count": 29,
   "metadata": {},
   "outputs": [],
   "source": [
    "total_users = data['user_id'].nunique()\n",
    "smart_total_users = data.query('tariff == \"smart\"')['user_id'].nunique()\n",
    "ultra_total_users = data.query('tariff == \"ultra\"')['user_id'].nunique()"
   ]
  },
  {
   "cell_type": "markdown",
   "metadata": {},
   "source": [
    "Посмотрим на долю абонентов по кажому тарифу."
   ]
  },
  {
   "cell_type": "code",
   "execution_count": 30,
   "metadata": {},
   "outputs": [
    {
     "data": {
      "text/plain": [
       "(-1.117662280159802, 1.1008410917079483, -1.113350971551862, 1.113118503297419)"
      ]
     },
     "execution_count": 30,
     "metadata": {},
     "output_type": "execute_result"
    },
    {
     "data": {
      "image/png": "[encoded data removed]",
      "text/plain": [
       "<Figure size 432x288 with 1 Axes>"
      ]
     },
     "metadata": {},
     "output_type": "display_data"
    }
   ],
   "source": [
    "def calculate(percent):\n",
    "    tariff_users = float(percent / 100 * total_users)\n",
    "    return \"{:.2f}%\\n{:,.0f}\".format(percent, tariff_users)\n",
    "\n",
    "vals = [smart_total_users, ultra_total_users]\n",
    "labels = ['Смарт', 'Ультра']\n",
    "fig, ax = plt.subplots()\n",
    "ax.pie(vals, labels=labels, autopct=lambda percent: calculate(percent), shadow=True, wedgeprops={'lw':1, 'ls':'-','edgecolor':\"k\"})\n",
    "ax.legend(loc='upper left', bbox_to_anchor=(1.0, 1.0))\n",
    "ax.axis('equal')"
   ]
  },
  {
   "cell_type": "markdown",
   "metadata": {},
   "source": [
    "Основная доля абонентов применяет тариф \"Смарт\"."
   ]
  },
  {
   "cell_type": "markdown",
   "metadata": {},
   "source": [
    "### Выводы"
   ]
  },
  {
   "cell_type": "markdown",
   "metadata": {},
   "source": [
    "Несмотря на то, абонентская плата за тарифный план \"Ультра\" в 3,5 раза дороже \"Смарт\", 58,49% выручки формируется за счет тарифного плана \"Смарт\" благодаря:\n",
    "- перелимиту пользователями данного тарифа за звонки, сообщения и интернет-трафик;\n",
    "- бОльшему числу абонентов данного тарифа (70,20% от общего количества)."
   ]
  },
  {
   "cell_type": "markdown",
   "metadata": {},
   "source": [
    "## Проверка гипотез"
   ]
  },
  {
   "cell_type": "markdown",
   "metadata": {},
   "source": [
    "### Гипотеза 1: Средняя выручка пользователей тарифов «Ультра» и «Смарт» различаются"
   ]
  },
  {
   "cell_type": "markdown",
   "metadata": {},
   "source": [
    "Н0 (нулевая гипотеза) - Средняя выручка пользователей тарифов «Ультра» и «Смарт» **равны**, т.е. средние значения равны.\n",
    "\n",
    "Н1 (альтернативная гипотеза) - Средняя выручка пользователей тарифов «Ультра» и «Смарт» **не равны**, т.е. средние значения не равны.\n",
    "\n",
    "Дисперсии выборок были расчитаны выше, они отличаются более чем на 5%.\n",
    "\n",
    "Выборки независимы, поэтому используем функцию ttest_ind."
   ]
  },
  {
   "cell_type": "code",
   "execution_count": 31,
   "metadata": {},
   "outputs": [
    {
     "name": "stdout",
     "output_type": "stream",
     "text": [
      "p-значение:  8.081909555489933e-161\n",
      "Принимаем альтернативную гипотезу\n"
     ]
    }
   ],
   "source": [
    "sample_ultra = data[data['tariff'] == 'ultra']['total_income'] \n",
    "sample_smart= data[data['tariff'] == 'smart']['total_income'] \n",
    "results = st.ttest_ind( sample_ultra, sample_smart)\n",
    "alpha = 0.05\n",
    "\n",
    "print('p-значение: ', results.pvalue)\n",
    "if results.pvalue < alpha:\n",
    "    print('Принимаем альтернативную гипотезу')\n",
    "else:\n",
    "    print('Опровергнуть нулевую гипотезу нельзя')"
   ]
  },
  {
   "cell_type": "markdown",
   "metadata": {},
   "source": [
    "p-значение достаточно мало, что дает основание отвергнуть предположение об отсутствии различий между выручками у разных тарифных планов, т.е. маловероятна случайность результатов теста гипотезы."
   ]
  },
  {
   "cell_type": "code",
   "execution_count": 32,
   "metadata": {},
   "outputs": [
    {
     "name": "stdout",
     "output_type": "stream",
     "text": [
      "Средняя выручка пользователя \"Ультра\" - 2,070.03 руб.\n",
      "Средняя выручка пользователя \"Смарт\" - 1,289.64 руб.\n"
     ]
    }
   ],
   "source": [
    "print('Средняя выручка пользователя \"Ультра\" - {:,.2f} руб.'.format(sample_ultra.mean()))\n",
    "print('Средняя выручка пользователя \"Смарт\" - {:,.2f} руб.'.format(sample_smart.mean()))"
   ]
  },
  {
   "cell_type": "markdown",
   "metadata": {},
   "source": [
    "Несмотря на перелимит пользователями тарифа Smart за звонки, сообщения и интернет-трафик, с одного пользователя тарифа Ultra в среднем получают больше выручки, чем от пользователя тарифа Smart, благодаря повышенной стоимости абонентской платы (в 3,5 раза больше)."
   ]
  },
  {
   "cell_type": "markdown",
   "metadata": {},
   "source": [
    "### Гипотеза 2: Средняя выручка пользователей из Москвы отличается от выручки пользователей из других регионов."
   ]
  },
  {
   "cell_type": "markdown",
   "metadata": {},
   "source": [
    "Н0 (нулевая гипотеза) - Средняя выручка пользователей из Москвы и других регионов **равны**, т.е. средние значения равны.\n",
    "\n",
    "Н1 (альтернативная гипотеза) - Средняя выручка пользователей из Москвы и других регионов **не равны**, т.е. средние значения не равны.\n",
    "\n",
    "Дисперсии выборок были расчитаны выше, они отличаются более чем на 5%.\n",
    "\n",
    "Выборки независимы, поэтому используем функцию ttest_ind."
   ]
  },
  {
   "cell_type": "code",
   "execution_count": 33,
   "metadata": {},
   "outputs": [
    {
     "name": "stdout",
     "output_type": "stream",
     "text": [
      "p-значение:  0.5400751614511182\n",
      "Опровергнуть нулевую гипотезу нельзя\n"
     ]
    }
   ],
   "source": [
    "sample_moscow = data[data['city'] == 'Москва']['total_income'] \n",
    "sample_others = data[data['city'] != 'Москва']['total_income'] \n",
    "results = st.ttest_ind(sample_moscow, sample_others)\n",
    "alpha = 0.05\n",
    "\n",
    "print('p-значение: ', results.pvalue)\n",
    "if results.pvalue < alpha:\n",
    "    print('Принимаем альтернативную гипотезу')\n",
    "else:\n",
    "    print('Опровергнуть нулевую гипотезу нельзя')"
   ]
  },
  {
   "cell_type": "markdown",
   "metadata": {},
   "source": [
    "p-значение достаточно высоко, что не дает основание отвергнуть предположение об отсутствии различий между выручками у разных тарифных планов."
   ]
  },
  {
   "cell_type": "code",
   "execution_count": 34,
   "metadata": {},
   "outputs": [
    {
     "name": "stdout",
     "output_type": "stream",
     "text": [
      "Средняя выручка пользователя из Москвы - 1,546.71 руб.\n",
      "Средняя выручка пользователя из других регионов - 1,524.73 руб.\n"
     ]
    }
   ],
   "source": [
    "print('Средняя выручка пользователя из Москвы - {:,.2f} руб.'.format(sample_moscow.mean()))\n",
    "print('Средняя выручка пользователя из других регионов - {:,.2f} руб.'.format(sample_others.mean()))"
   ]
  },
  {
   "cell_type": "markdown",
   "metadata": {},
   "source": [
    "Разница между средними выручками пользователей из Москвы и других регионов составляет 21,98 руб., что не так существенно."
   ]
  },
  {
   "cell_type": "markdown",
   "metadata": {},
   "source": [
    "## Общий вывод"
   ]
  },
  {
   "cell_type": "markdown",
   "metadata": {},
   "source": [
    "58,49% выручки приносят пользователи тарифа \"Смарт\" за счет:\n",
    "- перелимитов за звонки, сообщения и интернет-трафик;\n",
    "- бОльшему числу абонентов данного тарифа (70,20% от общего количества).\n",
    "\n",
    "При этом средняя выручка пользователей тарифов \"Ультра\" и \"Смарт\" сильно различаются:\n",
    "- средняя выручка пользователя \"Ультра\" составляет 2,070.03 руб.\n",
    "- средняя выручка пользователя \"Смарт\" составляет 1,289.64 руб.\n",
    "\n",
    "Данная разница обусловлена повышенной стоимостью абон.платы за тариф \"Ультра\" (в 3,5 раза больше).\n",
    "\n",
    "Вывод: Тариф \"Ультра\" в среднем приносит в 1,6 раза больше выручки чем тариф \"Смарт\".\n",
    "\n",
    "Рекомендации:\n",
    "Создать новый промежуточный тарифный план для удовлетворения потребностей пользователей \"Смарт\", которые часто выходят за пределы установленных лимитов."
   ]
  }
 ],
 "metadata": {
  "ExecuteTimeLog": [
   {
    "duration": 769,
    "start_time": "2022-04-07T12:04:40.273Z"
   },
   {
    "duration": 81,
    "start_time": "2022-04-07T12:07:21.696Z"
   },
   {
    "duration": 3,
    "start_time": "2022-04-07T12:07:35.963Z"
   },
   {
    "duration": 9,
    "start_time": "2022-04-07T12:07:37.659Z"
   },
   {
    "duration": 8,
    "start_time": "2022-04-07T12:07:51.973Z"
   },
   {
    "duration": 417,
    "start_time": "2022-04-07T12:08:14.754Z"
   },
   {
    "duration": 12,
    "start_time": "2022-04-07T12:09:50.142Z"
   },
   {
    "duration": 31,
    "start_time": "2022-04-07T12:10:18.983Z"
   },
   {
    "duration": 15,
    "start_time": "2022-04-07T12:10:26.208Z"
   },
   {
    "duration": 31,
    "start_time": "2022-04-07T12:10:28.021Z"
   },
   {
    "duration": 33,
    "start_time": "2022-04-07T12:18:44.833Z"
   },
   {
    "duration": 33,
    "start_time": "2022-04-07T12:18:52.527Z"
   },
   {
    "duration": 8,
    "start_time": "2022-04-07T12:19:07.945Z"
   },
   {
    "duration": 21,
    "start_time": "2022-04-07T12:22:10.587Z"
   },
   {
    "duration": 3,
    "start_time": "2022-04-07T12:22:38.874Z"
   },
   {
    "duration": 37,
    "start_time": "2022-04-07T12:22:42.124Z"
   },
   {
    "duration": 31,
    "start_time": "2022-04-07T12:22:47.351Z"
   },
   {
    "duration": 82,
    "start_time": "2022-04-07T12:23:39.164Z"
   },
   {
    "duration": 47,
    "start_time": "2022-04-07T12:24:02.089Z"
   },
   {
    "duration": 35,
    "start_time": "2022-04-07T12:24:10.259Z"
   },
   {
    "duration": 44,
    "start_time": "2022-04-07T12:24:29.773Z"
   },
   {
    "duration": 26,
    "start_time": "2022-04-07T12:25:04.925Z"
   },
   {
    "duration": 31,
    "start_time": "2022-04-07T12:25:24.690Z"
   },
   {
    "duration": 58,
    "start_time": "2022-04-07T12:35:51.082Z"
   },
   {
    "duration": 1643,
    "start_time": "2022-04-07T12:36:10.316Z"
   },
   {
    "duration": 37,
    "start_time": "2022-04-07T12:36:19.953Z"
   },
   {
    "duration": 24,
    "start_time": "2022-04-07T12:39:03.191Z"
   },
   {
    "duration": 67,
    "start_time": "2022-04-07T12:43:02.313Z"
   },
   {
    "duration": 43,
    "start_time": "2022-04-07T12:44:15.430Z"
   },
   {
    "duration": 30,
    "start_time": "2022-04-07T12:44:26.227Z"
   },
   {
    "duration": 16,
    "start_time": "2022-04-07T12:45:00.345Z"
   },
   {
    "duration": 18,
    "start_time": "2022-04-07T12:47:08.275Z"
   },
   {
    "duration": 17,
    "start_time": "2022-04-07T12:54:06.112Z"
   },
   {
    "duration": 20,
    "start_time": "2022-04-07T12:54:09.918Z"
   },
   {
    "duration": 11,
    "start_time": "2022-04-07T12:54:15.836Z"
   },
   {
    "duration": 602,
    "start_time": "2022-04-07T12:54:26.073Z"
   },
   {
    "duration": 573,
    "start_time": "2022-04-07T12:54:26.677Z"
   },
   {
    "duration": 34,
    "start_time": "2022-04-07T12:54:27.251Z"
   },
   {
    "duration": 67,
    "start_time": "2022-04-07T12:54:27.287Z"
   },
   {
    "duration": 28,
    "start_time": "2022-04-07T12:54:27.357Z"
   },
   {
    "duration": 72,
    "start_time": "2022-04-07T12:54:27.386Z"
   },
   {
    "duration": 22,
    "start_time": "2022-04-07T12:54:27.460Z"
   },
   {
    "duration": 66,
    "start_time": "2022-04-07T12:54:27.483Z"
   },
   {
    "duration": 16,
    "start_time": "2022-04-07T12:54:27.551Z"
   },
   {
    "duration": 50,
    "start_time": "2022-04-07T12:54:27.568Z"
   },
   {
    "duration": 24,
    "start_time": "2022-04-07T12:54:27.619Z"
   },
   {
    "duration": 4,
    "start_time": "2022-04-07T13:22:11.573Z"
   },
   {
    "duration": 1714,
    "start_time": "2022-04-07T13:22:54.723Z"
   },
   {
    "duration": 1926,
    "start_time": "2022-04-07T13:23:23.512Z"
   },
   {
    "duration": 24,
    "start_time": "2022-04-07T13:27:48.919Z"
   },
   {
    "duration": 643,
    "start_time": "2022-04-07T13:31:56.877Z"
   },
   {
    "duration": 2467,
    "start_time": "2022-04-07T13:31:57.523Z"
   },
   {
    "duration": 47,
    "start_time": "2022-04-07T13:31:59.992Z"
   },
   {
    "duration": 28,
    "start_time": "2022-04-07T13:32:00.042Z"
   },
   {
    "duration": 47,
    "start_time": "2022-04-07T13:32:00.072Z"
   },
   {
    "duration": 16,
    "start_time": "2022-04-07T13:32:00.123Z"
   },
   {
    "duration": 19,
    "start_time": "2022-04-07T13:32:00.141Z"
   },
   {
    "duration": 4,
    "start_time": "2022-04-07T13:32:00.162Z"
   },
   {
    "duration": 1749,
    "start_time": "2022-04-07T13:32:00.168Z"
   },
   {
    "duration": 1650,
    "start_time": "2022-04-07T13:32:06.520Z"
   },
   {
    "duration": 1607,
    "start_time": "2022-04-07T13:32:49.123Z"
   },
   {
    "duration": 646,
    "start_time": "2022-04-07T13:33:33.706Z"
   },
   {
    "duration": 392,
    "start_time": "2022-04-07T13:33:34.354Z"
   },
   {
    "duration": 38,
    "start_time": "2022-04-07T13:33:34.747Z"
   },
   {
    "duration": 36,
    "start_time": "2022-04-07T13:33:34.787Z"
   },
   {
    "duration": 24,
    "start_time": "2022-04-07T13:33:34.825Z"
   },
   {
    "duration": 15,
    "start_time": "2022-04-07T13:33:34.850Z"
   },
   {
    "duration": 18,
    "start_time": "2022-04-07T13:33:34.866Z"
   },
   {
    "duration": 27,
    "start_time": "2022-04-07T13:33:34.885Z"
   },
   {
    "duration": 102,
    "start_time": "2022-04-07T13:33:34.923Z"
   },
   {
    "duration": 1665,
    "start_time": "2022-04-07T13:33:45.791Z"
   },
   {
    "duration": 80,
    "start_time": "2022-04-07T13:38:29.878Z"
   },
   {
    "duration": 23,
    "start_time": "2022-04-07T13:38:37.966Z"
   },
   {
    "duration": 27,
    "start_time": "2022-04-07T13:38:47.961Z"
   },
   {
    "duration": 22,
    "start_time": "2022-04-07T13:40:16.222Z"
   },
   {
    "duration": 18,
    "start_time": "2022-04-07T13:41:44.851Z"
   },
   {
    "duration": 22,
    "start_time": "2022-04-07T13:41:48.111Z"
   },
   {
    "duration": 51,
    "start_time": "2022-04-11T11:15:01.160Z"
   },
   {
    "duration": 757,
    "start_time": "2022-04-11T11:15:07.655Z"
   },
   {
    "duration": 396,
    "start_time": "2022-04-11T11:15:08.415Z"
   },
   {
    "duration": 42,
    "start_time": "2022-04-11T11:15:08.813Z"
   },
   {
    "duration": 30,
    "start_time": "2022-04-11T11:15:08.856Z"
   },
   {
    "duration": 38,
    "start_time": "2022-04-11T11:15:08.889Z"
   },
   {
    "duration": 16,
    "start_time": "2022-04-11T11:15:08.929Z"
   },
   {
    "duration": 18,
    "start_time": "2022-04-11T11:15:08.946Z"
   },
   {
    "duration": 3,
    "start_time": "2022-04-11T11:15:08.966Z"
   },
   {
    "duration": 1695,
    "start_time": "2022-04-11T11:15:08.971Z"
   },
   {
    "duration": 146,
    "start_time": "2022-04-11T11:15:10.668Z"
   },
   {
    "duration": 0,
    "start_time": "2022-04-11T11:15:10.816Z"
   },
   {
    "duration": 0,
    "start_time": "2022-04-11T11:15:10.817Z"
   },
   {
    "duration": 57,
    "start_time": "2022-04-11T11:15:21.199Z"
   },
   {
    "duration": 56,
    "start_time": "2022-04-11T11:16:03.226Z"
   },
   {
    "duration": 53,
    "start_time": "2022-04-11T11:16:07.330Z"
   },
   {
    "duration": 59,
    "start_time": "2022-04-11T11:17:29.504Z"
   },
   {
    "duration": 62,
    "start_time": "2022-04-11T11:23:14.302Z"
   },
   {
    "duration": 60,
    "start_time": "2022-04-11T11:28:05.752Z"
   },
   {
    "duration": 59,
    "start_time": "2022-04-11T11:30:05.278Z"
   },
   {
    "duration": 61,
    "start_time": "2022-04-11T11:31:12.420Z"
   },
   {
    "duration": 49,
    "start_time": "2022-04-11T11:31:38.562Z"
   },
   {
    "duration": 56,
    "start_time": "2022-04-11T11:31:44.656Z"
   },
   {
    "duration": 61,
    "start_time": "2022-04-11T11:32:33.828Z"
   },
   {
    "duration": 76,
    "start_time": "2022-04-11T11:33:18.701Z"
   },
   {
    "duration": 72,
    "start_time": "2022-04-11T11:34:10.087Z"
   },
   {
    "duration": 69,
    "start_time": "2022-04-11T11:34:35.477Z"
   },
   {
    "duration": 69,
    "start_time": "2022-04-11T11:34:40.987Z"
   },
   {
    "duration": 73,
    "start_time": "2022-04-11T11:35:03.619Z"
   },
   {
    "duration": 92,
    "start_time": "2022-04-11T11:35:12.951Z"
   },
   {
    "duration": 1573,
    "start_time": "2022-04-11T11:37:30.184Z"
   },
   {
    "duration": 82,
    "start_time": "2022-04-11T11:38:09.282Z"
   },
   {
    "duration": 137,
    "start_time": "2022-04-11T11:38:34.921Z"
   },
   {
    "duration": 21,
    "start_time": "2022-04-11T11:39:04.573Z"
   },
   {
    "duration": 362,
    "start_time": "2022-04-11T11:42:36.697Z"
   },
   {
    "duration": 52,
    "start_time": "2022-04-11T11:43:01.661Z"
   },
   {
    "duration": 63,
    "start_time": "2022-04-11T11:43:19.880Z"
   },
   {
    "duration": 46,
    "start_time": "2022-04-11T11:43:27.938Z"
   },
   {
    "duration": 52,
    "start_time": "2022-04-11T11:43:44.497Z"
   },
   {
    "duration": 65,
    "start_time": "2022-04-11T11:43:51.289Z"
   },
   {
    "duration": 50,
    "start_time": "2022-04-11T11:44:00.092Z"
   },
   {
    "duration": 61,
    "start_time": "2022-04-11T11:44:19.516Z"
   },
   {
    "duration": 60,
    "start_time": "2022-04-11T11:44:37.518Z"
   },
   {
    "duration": 55,
    "start_time": "2022-04-11T11:44:47.686Z"
   },
   {
    "duration": 61,
    "start_time": "2022-04-11T11:46:06.021Z"
   },
   {
    "duration": 51,
    "start_time": "2022-04-11T11:46:27.659Z"
   },
   {
    "duration": 61,
    "start_time": "2022-04-11T11:48:24.786Z"
   },
   {
    "duration": 66,
    "start_time": "2022-04-11T11:48:33.074Z"
   },
   {
    "duration": 52,
    "start_time": "2022-04-11T11:48:42.614Z"
   },
   {
    "duration": 57,
    "start_time": "2022-04-11T11:49:13.297Z"
   },
   {
    "duration": 287,
    "start_time": "2022-04-11T11:50:34.201Z"
   },
   {
    "duration": 51,
    "start_time": "2022-04-11T11:50:46.033Z"
   },
   {
    "duration": 62,
    "start_time": "2022-04-11T11:51:32.534Z"
   },
   {
    "duration": 60,
    "start_time": "2022-04-11T11:52:55.636Z"
   },
   {
    "duration": 58,
    "start_time": "2022-04-11T11:53:07.889Z"
   },
   {
    "duration": 57,
    "start_time": "2022-04-11T11:53:53.735Z"
   },
   {
    "duration": 65,
    "start_time": "2022-04-11T11:54:19.208Z"
   },
   {
    "duration": 62,
    "start_time": "2022-04-11T11:55:14.560Z"
   },
   {
    "duration": 61,
    "start_time": "2022-04-11T11:55:48.999Z"
   },
   {
    "duration": 53,
    "start_time": "2022-04-11T11:59:07.997Z"
   },
   {
    "duration": 319,
    "start_time": "2022-04-11T12:00:58.573Z"
   },
   {
    "duration": 55,
    "start_time": "2022-04-11T12:01:23.902Z"
   },
   {
    "duration": 55,
    "start_time": "2022-04-11T12:02:19.401Z"
   },
   {
    "duration": 62,
    "start_time": "2022-04-11T12:02:30.176Z"
   },
   {
    "duration": 69,
    "start_time": "2022-04-11T12:03:48.156Z"
   },
   {
    "duration": 67,
    "start_time": "2022-04-11T12:04:46.534Z"
   },
   {
    "duration": 123,
    "start_time": "2022-04-11T12:05:09.295Z"
   },
   {
    "duration": 13,
    "start_time": "2022-04-11T12:13:30.601Z"
   },
   {
    "duration": 1234,
    "start_time": "2022-04-11T12:15:20.392Z"
   },
   {
    "duration": 1174,
    "start_time": "2022-04-11T12:15:35.359Z"
   },
   {
    "duration": 1265,
    "start_time": "2022-04-11T12:15:57.917Z"
   },
   {
    "duration": 13,
    "start_time": "2022-04-11T12:16:15.949Z"
   },
   {
    "duration": 13,
    "start_time": "2022-04-11T12:17:39.971Z"
   },
   {
    "duration": 652,
    "start_time": "2022-04-11T12:17:54.485Z"
   },
   {
    "duration": 361,
    "start_time": "2022-04-11T12:17:55.139Z"
   },
   {
    "duration": 38,
    "start_time": "2022-04-11T12:17:55.502Z"
   },
   {
    "duration": 29,
    "start_time": "2022-04-11T12:17:55.542Z"
   },
   {
    "duration": 46,
    "start_time": "2022-04-11T12:17:55.574Z"
   },
   {
    "duration": 17,
    "start_time": "2022-04-11T12:17:55.623Z"
   },
   {
    "duration": 20,
    "start_time": "2022-04-11T12:17:55.642Z"
   },
   {
    "duration": 4,
    "start_time": "2022-04-11T12:17:55.664Z"
   },
   {
    "duration": 1649,
    "start_time": "2022-04-11T12:17:55.670Z"
   },
   {
    "duration": 129,
    "start_time": "2022-04-11T12:17:57.321Z"
   },
   {
    "duration": 14,
    "start_time": "2022-04-11T12:17:57.452Z"
   },
   {
    "duration": 62,
    "start_time": "2022-04-11T12:35:00.674Z"
   },
   {
    "duration": 75,
    "start_time": "2022-04-11T12:35:20.136Z"
   },
   {
    "duration": 10,
    "start_time": "2022-04-11T12:35:43.939Z"
   },
   {
    "duration": 68,
    "start_time": "2022-04-11T12:38:49.530Z"
   },
   {
    "duration": 22,
    "start_time": "2022-04-11T12:38:55.827Z"
   },
   {
    "duration": 10,
    "start_time": "2022-04-11T12:39:38.386Z"
   },
   {
    "duration": 10,
    "start_time": "2022-04-11T12:40:17.796Z"
   },
   {
    "duration": 154,
    "start_time": "2022-04-11T12:40:59.987Z"
   },
   {
    "duration": 68,
    "start_time": "2022-04-11T12:41:20.400Z"
   },
   {
    "duration": 10,
    "start_time": "2022-04-11T12:41:29.334Z"
   },
   {
    "duration": 9,
    "start_time": "2022-04-11T12:41:32.914Z"
   },
   {
    "duration": 11,
    "start_time": "2022-04-11T12:44:19.358Z"
   },
   {
    "duration": 10,
    "start_time": "2022-04-11T12:45:33.335Z"
   },
   {
    "duration": 8,
    "start_time": "2022-04-11T12:45:51.458Z"
   },
   {
    "duration": 27,
    "start_time": "2022-04-11T12:49:20.564Z"
   },
   {
    "duration": 18,
    "start_time": "2022-04-11T12:50:23.806Z"
   },
   {
    "duration": 12,
    "start_time": "2022-04-11T12:51:30.270Z"
   },
   {
    "duration": 105,
    "start_time": "2022-04-11T12:53:44.080Z"
   },
   {
    "duration": 71,
    "start_time": "2022-04-11T12:54:12.554Z"
   },
   {
    "duration": 11,
    "start_time": "2022-04-11T12:57:37.626Z"
   },
   {
    "duration": 12,
    "start_time": "2022-04-11T13:04:22.528Z"
   },
   {
    "duration": 17,
    "start_time": "2022-04-11T13:04:39.956Z"
   },
   {
    "duration": 9,
    "start_time": "2022-04-11T13:04:59.349Z"
   },
   {
    "duration": 10,
    "start_time": "2022-04-11T13:05:44.411Z"
   },
   {
    "duration": 10,
    "start_time": "2022-04-11T13:05:48.923Z"
   },
   {
    "duration": 11,
    "start_time": "2022-04-11T13:05:54.635Z"
   },
   {
    "duration": 21,
    "start_time": "2022-04-11T13:06:10.267Z"
   },
   {
    "duration": 100,
    "start_time": "2022-04-11T13:06:30.830Z"
   },
   {
    "duration": 18,
    "start_time": "2022-04-11T13:06:35.288Z"
   },
   {
    "duration": 22,
    "start_time": "2022-04-11T13:06:43.870Z"
   },
   {
    "duration": 25,
    "start_time": "2022-04-11T13:06:58.253Z"
   },
   {
    "duration": 31,
    "start_time": "2022-04-11T13:07:34.782Z"
   },
   {
    "duration": 24,
    "start_time": "2022-04-11T13:08:35.411Z"
   },
   {
    "duration": 16,
    "start_time": "2022-04-11T13:27:50.758Z"
   },
   {
    "duration": 21,
    "start_time": "2022-04-11T13:28:29.935Z"
   },
   {
    "duration": 119,
    "start_time": "2022-04-11T13:38:22.000Z"
   },
   {
    "duration": 1699,
    "start_time": "2022-04-11T13:49:34.236Z"
   },
   {
    "duration": 109,
    "start_time": "2022-04-11T13:49:38.294Z"
   },
   {
    "duration": 613,
    "start_time": "2022-04-11T13:49:54.820Z"
   },
   {
    "duration": 383,
    "start_time": "2022-04-11T13:49:55.435Z"
   },
   {
    "duration": 37,
    "start_time": "2022-04-11T13:49:55.819Z"
   },
   {
    "duration": 29,
    "start_time": "2022-04-11T13:49:55.858Z"
   },
   {
    "duration": 38,
    "start_time": "2022-04-11T13:49:55.890Z"
   },
   {
    "duration": 15,
    "start_time": "2022-04-11T13:49:55.930Z"
   },
   {
    "duration": 18,
    "start_time": "2022-04-11T13:49:55.947Z"
   },
   {
    "duration": 4,
    "start_time": "2022-04-11T13:49:55.967Z"
   },
   {
    "duration": 1636,
    "start_time": "2022-04-11T13:49:56.008Z"
   },
   {
    "duration": 121,
    "start_time": "2022-04-11T13:49:57.645Z"
   },
   {
    "duration": 13,
    "start_time": "2022-04-11T13:49:57.768Z"
   },
   {
    "duration": 1194,
    "start_time": "2022-04-11T13:49:57.783Z"
   },
   {
    "duration": 18,
    "start_time": "2022-04-11T13:50:40.322Z"
   },
   {
    "duration": 16,
    "start_time": "2022-04-11T13:50:54.026Z"
   },
   {
    "duration": 702,
    "start_time": "2022-04-11T13:51:14.389Z"
   },
   {
    "duration": 410,
    "start_time": "2022-04-11T13:51:15.093Z"
   },
   {
    "duration": 56,
    "start_time": "2022-04-11T13:51:15.505Z"
   },
   {
    "duration": 50,
    "start_time": "2022-04-11T13:51:15.563Z"
   },
   {
    "duration": 36,
    "start_time": "2022-04-11T13:51:15.616Z"
   },
   {
    "duration": 17,
    "start_time": "2022-04-11T13:51:15.654Z"
   },
   {
    "duration": 55,
    "start_time": "2022-04-11T13:51:15.673Z"
   },
   {
    "duration": 5,
    "start_time": "2022-04-11T13:51:15.730Z"
   },
   {
    "duration": 1710,
    "start_time": "2022-04-11T13:51:15.737Z"
   },
   {
    "duration": 124,
    "start_time": "2022-04-11T13:51:17.449Z"
   },
   {
    "duration": 15,
    "start_time": "2022-04-11T13:51:17.574Z"
   },
   {
    "duration": 22,
    "start_time": "2022-04-11T13:51:17.591Z"
   },
   {
    "duration": 99,
    "start_time": "2022-04-11T13:52:20.966Z"
   },
   {
    "duration": 6,
    "start_time": "2022-04-11T13:57:59.324Z"
   },
   {
    "duration": 25,
    "start_time": "2022-04-11T13:58:08.409Z"
   },
   {
    "duration": 12,
    "start_time": "2022-04-11T14:00:42.868Z"
   },
   {
    "duration": 11,
    "start_time": "2022-04-11T14:01:04.967Z"
   },
   {
    "duration": 5,
    "start_time": "2022-04-11T14:02:04.979Z"
   },
   {
    "duration": 71,
    "start_time": "2022-04-11T14:03:00.380Z"
   },
   {
    "duration": 1829,
    "start_time": "2022-04-11T14:03:11.116Z"
   },
   {
    "duration": 122,
    "start_time": "2022-04-11T14:03:16.398Z"
   },
   {
    "duration": 113,
    "start_time": "2022-04-11T14:03:33.471Z"
   },
   {
    "duration": 654,
    "start_time": "2022-04-11T14:06:45.701Z"
   },
   {
    "duration": 415,
    "start_time": "2022-04-11T14:06:46.357Z"
   },
   {
    "duration": 52,
    "start_time": "2022-04-11T14:06:46.774Z"
   },
   {
    "duration": 47,
    "start_time": "2022-04-11T14:06:46.828Z"
   },
   {
    "duration": 46,
    "start_time": "2022-04-11T14:06:46.879Z"
   },
   {
    "duration": 21,
    "start_time": "2022-04-11T14:06:46.927Z"
   },
   {
    "duration": 25,
    "start_time": "2022-04-11T14:06:46.952Z"
   },
   {
    "duration": 34,
    "start_time": "2022-04-11T14:06:46.979Z"
   },
   {
    "duration": 1720,
    "start_time": "2022-04-11T14:06:47.016Z"
   },
   {
    "duration": 121,
    "start_time": "2022-04-11T14:06:48.738Z"
   },
   {
    "duration": 22,
    "start_time": "2022-04-11T14:06:48.861Z"
   },
   {
    "duration": 25,
    "start_time": "2022-04-11T14:06:48.885Z"
   },
   {
    "duration": 105,
    "start_time": "2022-04-11T14:06:48.912Z"
   },
   {
    "duration": 0,
    "start_time": "2022-04-11T14:06:49.020Z"
   },
   {
    "duration": 0,
    "start_time": "2022-04-11T14:06:49.022Z"
   },
   {
    "duration": 1035,
    "start_time": "2022-04-11T14:06:55.401Z"
   },
   {
    "duration": 4,
    "start_time": "2022-04-11T14:07:07.258Z"
   },
   {
    "duration": 67,
    "start_time": "2022-04-11T14:07:12.771Z"
   },
   {
    "duration": 75,
    "start_time": "2022-04-11T14:07:19.315Z"
   },
   {
    "duration": 88,
    "start_time": "2022-04-11T14:07:26.549Z"
   },
   {
    "duration": 117,
    "start_time": "2022-04-11T14:07:52.587Z"
   },
   {
    "duration": 144,
    "start_time": "2022-04-11T14:08:07.881Z"
   },
   {
    "duration": 98,
    "start_time": "2022-04-11T14:08:35.337Z"
   },
   {
    "duration": 130,
    "start_time": "2022-04-11T14:09:10.193Z"
   },
   {
    "duration": 99,
    "start_time": "2022-04-11T14:09:18.172Z"
   },
   {
    "duration": 5,
    "start_time": "2022-04-11T14:10:32.268Z"
   },
   {
    "duration": 1052,
    "start_time": "2022-04-11T14:10:34.138Z"
   },
   {
    "duration": 5,
    "start_time": "2022-04-11T14:10:41.724Z"
   },
   {
    "duration": 17,
    "start_time": "2022-04-11T14:10:44.260Z"
   },
   {
    "duration": 76,
    "start_time": "2022-04-11T14:12:25.825Z"
   },
   {
    "duration": 6,
    "start_time": "2022-04-11T14:12:36.740Z"
   },
   {
    "duration": 181,
    "start_time": "2022-04-11T14:12:38.484Z"
   },
   {
    "duration": 17,
    "start_time": "2022-04-11T14:12:44.216Z"
   },
   {
    "duration": 5,
    "start_time": "2022-04-11T14:19:06.772Z"
   },
   {
    "duration": 158,
    "start_time": "2022-04-11T14:19:08.073Z"
   },
   {
    "duration": 18,
    "start_time": "2022-04-11T14:19:14.496Z"
   },
   {
    "duration": 5,
    "start_time": "2022-04-11T14:21:49.097Z"
   },
   {
    "duration": 135,
    "start_time": "2022-04-11T14:21:50.555Z"
   },
   {
    "duration": 18,
    "start_time": "2022-04-11T14:21:53.066Z"
   },
   {
    "duration": 26,
    "start_time": "2022-04-11T14:22:23.951Z"
   },
   {
    "duration": 15,
    "start_time": "2022-04-11T14:23:38.742Z"
   },
   {
    "duration": 6,
    "start_time": "2022-04-11T14:23:41.269Z"
   },
   {
    "duration": 180,
    "start_time": "2022-04-11T14:23:44.563Z"
   },
   {
    "duration": 4,
    "start_time": "2022-04-11T14:23:46.037Z"
   },
   {
    "duration": 139,
    "start_time": "2022-04-11T14:23:47.955Z"
   },
   {
    "duration": 112,
    "start_time": "2022-04-11T14:24:20.172Z"
   },
   {
    "duration": 100,
    "start_time": "2022-04-11T14:24:29.626Z"
   },
   {
    "duration": 13,
    "start_time": "2022-04-11T14:24:45.714Z"
   },
   {
    "duration": 589,
    "start_time": "2022-04-11T14:36:58.757Z"
   },
   {
    "duration": 636,
    "start_time": "2022-04-11T14:37:44.378Z"
   },
   {
    "duration": 574,
    "start_time": "2022-04-11T14:37:54.087Z"
   },
   {
    "duration": 27,
    "start_time": "2022-04-11T14:41:15.410Z"
   },
   {
    "duration": 106,
    "start_time": "2022-04-11T14:41:49.680Z"
   },
   {
    "duration": 107,
    "start_time": "2022-04-11T14:41:55.243Z"
   },
   {
    "duration": 26,
    "start_time": "2022-04-11T14:42:04.625Z"
   },
   {
    "duration": 483,
    "start_time": "2022-04-11T14:43:35.387Z"
   },
   {
    "duration": 136,
    "start_time": "2022-04-11T14:43:51.875Z"
   },
   {
    "duration": 317,
    "start_time": "2022-04-11T14:44:02.024Z"
   },
   {
    "duration": 12,
    "start_time": "2022-04-11T14:44:20.441Z"
   },
   {
    "duration": 19,
    "start_time": "2022-04-11T14:45:46.466Z"
   },
   {
    "duration": 217,
    "start_time": "2022-04-11T14:50:15.074Z"
   },
   {
    "duration": 75,
    "start_time": "2022-04-11T14:58:55.097Z"
   },
   {
    "duration": 863,
    "start_time": "2022-04-11T14:59:15.593Z"
   },
   {
    "duration": 20,
    "start_time": "2022-04-11T14:59:36.550Z"
   },
   {
    "duration": 19,
    "start_time": "2022-04-11T14:59:44.532Z"
   },
   {
    "duration": 205,
    "start_time": "2022-04-11T15:01:31.281Z"
   },
   {
    "duration": 12,
    "start_time": "2022-04-11T15:02:38.057Z"
   },
   {
    "duration": 889,
    "start_time": "2022-04-11T15:02:42.503Z"
   },
   {
    "duration": 31,
    "start_time": "2022-04-11T15:02:52.827Z"
   },
   {
    "duration": 82,
    "start_time": "2022-04-11T15:02:57.380Z"
   },
   {
    "duration": 19,
    "start_time": "2022-04-11T15:03:08.353Z"
   },
   {
    "duration": 22,
    "start_time": "2022-04-11T15:03:16.998Z"
   },
   {
    "duration": 20,
    "start_time": "2022-04-11T15:03:19.258Z"
   },
   {
    "duration": 9,
    "start_time": "2022-04-11T15:03:25.043Z"
   },
   {
    "duration": 20,
    "start_time": "2022-04-11T15:03:31.941Z"
   },
   {
    "duration": 85,
    "start_time": "2022-04-11T15:04:00.109Z"
   },
   {
    "duration": 23,
    "start_time": "2022-04-11T15:04:39.734Z"
   },
   {
    "duration": 29,
    "start_time": "2022-04-11T15:07:10.515Z"
   },
   {
    "duration": 24,
    "start_time": "2022-04-11T15:07:17.740Z"
   },
   {
    "duration": 23,
    "start_time": "2022-04-11T15:07:22.660Z"
   },
   {
    "duration": 689,
    "start_time": "2022-04-11T15:07:35.009Z"
   },
   {
    "duration": 420,
    "start_time": "2022-04-11T15:07:35.700Z"
   },
   {
    "duration": 36,
    "start_time": "2022-04-11T15:07:36.122Z"
   },
   {
    "duration": 29,
    "start_time": "2022-04-11T15:07:36.160Z"
   },
   {
    "duration": 47,
    "start_time": "2022-04-11T15:07:36.191Z"
   },
   {
    "duration": 16,
    "start_time": "2022-04-11T15:07:36.239Z"
   },
   {
    "duration": 17,
    "start_time": "2022-04-11T15:07:36.256Z"
   },
   {
    "duration": 4,
    "start_time": "2022-04-11T15:07:36.274Z"
   },
   {
    "duration": 1749,
    "start_time": "2022-04-11T15:07:36.311Z"
   },
   {
    "duration": 136,
    "start_time": "2022-04-11T15:07:38.063Z"
   },
   {
    "duration": 23,
    "start_time": "2022-04-11T15:07:38.200Z"
   },
   {
    "duration": 6,
    "start_time": "2022-04-11T15:07:38.225Z"
   },
   {
    "duration": 200,
    "start_time": "2022-04-11T15:07:38.233Z"
   },
   {
    "duration": 18,
    "start_time": "2022-04-11T15:07:38.434Z"
   },
   {
    "duration": 5,
    "start_time": "2022-04-11T15:07:38.454Z"
   },
   {
    "duration": 164,
    "start_time": "2022-04-11T15:07:38.461Z"
   },
   {
    "duration": 26,
    "start_time": "2022-04-11T15:07:38.627Z"
   },
   {
    "duration": 23,
    "start_time": "2022-04-11T15:07:38.655Z"
   },
   {
    "duration": 21,
    "start_time": "2022-04-11T15:07:45.064Z"
   },
   {
    "duration": 30,
    "start_time": "2022-04-11T15:07:51.983Z"
   },
   {
    "duration": 76,
    "start_time": "2022-04-11T15:10:31.502Z"
   },
   {
    "duration": 38,
    "start_time": "2022-04-11T15:10:37.288Z"
   },
   {
    "duration": 28,
    "start_time": "2022-04-11T15:11:10.958Z"
   },
   {
    "duration": 28,
    "start_time": "2022-04-11T15:13:13.777Z"
   },
   {
    "duration": 36,
    "start_time": "2022-04-11T15:13:54.210Z"
   },
   {
    "duration": 24,
    "start_time": "2022-04-11T15:17:49.607Z"
   },
   {
    "duration": 27,
    "start_time": "2022-04-11T15:18:28.067Z"
   },
   {
    "duration": 52,
    "start_time": "2022-04-11T15:24:42.934Z"
   },
   {
    "duration": 47,
    "start_time": "2022-04-11T15:26:42.085Z"
   },
   {
    "duration": 9,
    "start_time": "2022-04-11T15:26:45.328Z"
   },
   {
    "duration": 10,
    "start_time": "2022-04-11T15:26:49.784Z"
   },
   {
    "duration": 41,
    "start_time": "2022-04-11T15:26:57.834Z"
   },
   {
    "duration": 17,
    "start_time": "2022-04-11T15:29:12.057Z"
   },
   {
    "duration": 65,
    "start_time": "2022-04-11T15:29:25.287Z"
   },
   {
    "duration": 17,
    "start_time": "2022-04-11T15:29:45.458Z"
   },
   {
    "duration": 18,
    "start_time": "2022-04-11T15:30:43.723Z"
   },
   {
    "duration": 19,
    "start_time": "2022-04-11T15:31:20.762Z"
   },
   {
    "duration": 17,
    "start_time": "2022-04-11T15:31:36.582Z"
   },
   {
    "duration": 12,
    "start_time": "2022-04-11T15:31:55.247Z"
   },
   {
    "duration": 12,
    "start_time": "2022-04-11T15:32:19.140Z"
   },
   {
    "duration": 25,
    "start_time": "2022-04-11T15:32:25.940Z"
   },
   {
    "duration": 97,
    "start_time": "2022-04-11T15:32:56.450Z"
   },
   {
    "duration": 24,
    "start_time": "2022-04-11T15:33:22.951Z"
   },
   {
    "duration": 21,
    "start_time": "2022-04-11T15:33:39.845Z"
   },
   {
    "duration": 24,
    "start_time": "2022-04-11T15:33:50.348Z"
   },
   {
    "duration": 25,
    "start_time": "2022-04-11T15:33:57.267Z"
   },
   {
    "duration": 44,
    "start_time": "2022-04-11T15:34:19.033Z"
   },
   {
    "duration": 30,
    "start_time": "2022-04-11T15:34:34.015Z"
   },
   {
    "duration": 17,
    "start_time": "2022-04-11T15:34:40.386Z"
   },
   {
    "duration": 18,
    "start_time": "2022-04-11T15:34:44.987Z"
   },
   {
    "duration": 14,
    "start_time": "2022-04-12T11:55:25.273Z"
   },
   {
    "duration": 58,
    "start_time": "2022-04-12T11:55:26.786Z"
   },
   {
    "duration": 985,
    "start_time": "2022-04-12T11:55:37.740Z"
   },
   {
    "duration": 481,
    "start_time": "2022-04-12T11:55:38.728Z"
   },
   {
    "duration": 66,
    "start_time": "2022-04-12T11:55:39.212Z"
   },
   {
    "duration": 63,
    "start_time": "2022-04-12T11:55:39.280Z"
   },
   {
    "duration": 31,
    "start_time": "2022-04-12T11:55:39.346Z"
   },
   {
    "duration": 43,
    "start_time": "2022-04-12T11:55:39.379Z"
   },
   {
    "duration": 23,
    "start_time": "2022-04-12T11:55:39.424Z"
   },
   {
    "duration": 4,
    "start_time": "2022-04-12T11:55:39.449Z"
   },
   {
    "duration": 2476,
    "start_time": "2022-04-12T11:55:39.455Z"
   },
   {
    "duration": 7,
    "start_time": "2022-04-12T11:55:41.933Z"
   },
   {
    "duration": 445,
    "start_time": "2022-04-12T11:55:41.943Z"
   },
   {
    "duration": 143,
    "start_time": "2022-04-12T11:55:42.391Z"
   },
   {
    "duration": 16,
    "start_time": "2022-04-12T11:55:42.536Z"
   },
   {
    "duration": 19,
    "start_time": "2022-04-12T11:55:42.555Z"
   },
   {
    "duration": 226,
    "start_time": "2022-04-12T11:55:42.576Z"
   },
   {
    "duration": 29,
    "start_time": "2022-04-12T11:55:42.804Z"
   },
   {
    "duration": 12,
    "start_time": "2022-04-12T11:55:42.839Z"
   },
   {
    "duration": 180,
    "start_time": "2022-04-12T11:55:42.853Z"
   },
   {
    "duration": 27,
    "start_time": "2022-04-12T11:55:43.035Z"
   },
   {
    "duration": 25,
    "start_time": "2022-04-12T11:55:43.064Z"
   },
   {
    "duration": 4,
    "start_time": "2022-04-12T12:02:44.990Z"
   },
   {
    "duration": 7,
    "start_time": "2022-04-12T12:02:46.154Z"
   },
   {
    "duration": 86,
    "start_time": "2022-04-12T12:02:47.678Z"
   },
   {
    "duration": 3,
    "start_time": "2022-04-12T12:02:55.904Z"
   },
   {
    "duration": 455,
    "start_time": "2022-04-12T12:02:55.911Z"
   },
   {
    "duration": 35,
    "start_time": "2022-04-12T12:02:56.369Z"
   },
   {
    "duration": 42,
    "start_time": "2022-04-12T12:02:56.406Z"
   },
   {
    "duration": 27,
    "start_time": "2022-04-12T12:02:56.451Z"
   },
   {
    "duration": 47,
    "start_time": "2022-04-12T12:02:56.480Z"
   },
   {
    "duration": 23,
    "start_time": "2022-04-12T12:02:56.529Z"
   },
   {
    "duration": 6,
    "start_time": "2022-04-12T12:02:56.554Z"
   },
   {
    "duration": 20,
    "start_time": "2022-04-12T12:02:56.562Z"
   },
   {
    "duration": 872,
    "start_time": "2022-04-12T12:02:56.584Z"
   },
   {
    "duration": 782,
    "start_time": "2022-04-12T12:02:59.784Z"
   },
   {
    "duration": 10,
    "start_time": "2022-04-12T12:03:01.214Z"
   },
   {
    "duration": 412,
    "start_time": "2022-04-12T12:03:03.672Z"
   },
   {
    "duration": 12,
    "start_time": "2022-04-12T12:04:23.475Z"
   },
   {
    "duration": 791,
    "start_time": "2022-04-12T12:04:30.910Z"
   },
   {
    "duration": 749,
    "start_time": "2022-04-12T12:04:39.817Z"
   },
   {
    "duration": 610,
    "start_time": "2022-04-12T12:06:14.831Z"
   },
   {
    "duration": 11,
    "start_time": "2022-04-12T12:06:21.078Z"
   },
   {
    "duration": 399,
    "start_time": "2022-04-12T12:06:26.277Z"
   },
   {
    "duration": 460,
    "start_time": "2022-04-12T12:06:56.833Z"
   },
   {
    "duration": 15,
    "start_time": "2022-04-12T12:07:12.763Z"
   },
   {
    "duration": 472,
    "start_time": "2022-04-12T12:08:47.225Z"
   },
   {
    "duration": 12,
    "start_time": "2022-04-12T12:08:48.728Z"
   },
   {
    "duration": 370,
    "start_time": "2022-04-12T12:10:11.966Z"
   },
   {
    "duration": 8,
    "start_time": "2022-04-12T12:11:01.777Z"
   },
   {
    "duration": 12,
    "start_time": "2022-04-12T12:11:21.261Z"
   },
   {
    "duration": 18,
    "start_time": "2022-04-12T12:12:06.393Z"
   },
   {
    "duration": 107,
    "start_time": "2022-04-12T12:14:18.763Z"
   },
   {
    "duration": 111,
    "start_time": "2022-04-12T12:14:25.971Z"
   },
   {
    "duration": 13,
    "start_time": "2022-04-12T12:14:47.563Z"
   },
   {
    "duration": 7,
    "start_time": "2022-04-12T12:15:12.637Z"
   },
   {
    "duration": 2679,
    "start_time": "2022-04-12T12:15:14.470Z"
   },
   {
    "duration": 0,
    "start_time": "2022-04-12T12:15:17.151Z"
   },
   {
    "duration": 7,
    "start_time": "2022-04-12T12:15:37.170Z"
   },
   {
    "duration": 207,
    "start_time": "2022-04-12T12:15:38.884Z"
   },
   {
    "duration": 19,
    "start_time": "2022-04-12T12:15:41.767Z"
   },
   {
    "duration": 5,
    "start_time": "2022-04-12T12:15:53.213Z"
   },
   {
    "duration": 152,
    "start_time": "2022-04-12T12:15:55.146Z"
   },
   {
    "duration": 116,
    "start_time": "2022-04-12T12:16:17.685Z"
   },
   {
    "duration": 20,
    "start_time": "2022-04-12T12:16:32.820Z"
   },
   {
    "duration": 7,
    "start_time": "2022-04-12T12:16:48.764Z"
   },
   {
    "duration": 257,
    "start_time": "2022-04-12T12:16:51.121Z"
   },
   {
    "duration": 5,
    "start_time": "2022-04-12T12:16:52.887Z"
   },
   {
    "duration": 152,
    "start_time": "2022-04-12T12:16:54.470Z"
   },
   {
    "duration": 26,
    "start_time": "2022-04-12T12:16:56.894Z"
   },
   {
    "duration": 8,
    "start_time": "2022-04-12T12:22:08.719Z"
   },
   {
    "duration": 15,
    "start_time": "2022-04-12T12:22:10.336Z"
   },
   {
    "duration": 243,
    "start_time": "2022-04-12T12:24:21.005Z"
   },
   {
    "duration": 537,
    "start_time": "2022-04-12T12:24:46.746Z"
   },
   {
    "duration": 27,
    "start_time": "2022-04-12T12:26:02.434Z"
   },
   {
    "duration": 23,
    "start_time": "2022-04-12T12:26:05.285Z"
   },
   {
    "duration": 226,
    "start_time": "2022-04-12T12:27:49.656Z"
   },
   {
    "duration": 211,
    "start_time": "2022-04-12T12:27:52.237Z"
   },
   {
    "duration": 497,
    "start_time": "2022-04-12T12:28:03.295Z"
   },
   {
    "duration": 218,
    "start_time": "2022-04-12T12:28:46.995Z"
   },
   {
    "duration": 650,
    "start_time": "2022-04-12T12:29:01.535Z"
   },
   {
    "duration": 205,
    "start_time": "2022-04-12T12:29:49.335Z"
   },
   {
    "duration": 480,
    "start_time": "2022-04-12T12:30:10.184Z"
   },
   {
    "duration": 9,
    "start_time": "2022-04-12T12:31:01.603Z"
   },
   {
    "duration": 527,
    "start_time": "2022-04-12T12:31:08.660Z"
   },
   {
    "duration": 494,
    "start_time": "2022-04-12T12:31:41.545Z"
   },
   {
    "duration": 494,
    "start_time": "2022-04-12T12:32:00.457Z"
   },
   {
    "duration": 137,
    "start_time": "2022-04-12T12:38:42.951Z"
   },
   {
    "duration": 10,
    "start_time": "2022-04-12T12:39:58.710Z"
   },
   {
    "duration": 14,
    "start_time": "2022-04-12T12:40:10.671Z"
   },
   {
    "duration": 710,
    "start_time": "2022-04-12T12:40:32.737Z"
   },
   {
    "duration": 11,
    "start_time": "2022-04-12T12:40:37.650Z"
   },
   {
    "duration": 507,
    "start_time": "2022-04-12T12:57:52.865Z"
   },
   {
    "duration": 531,
    "start_time": "2022-04-12T12:58:27.510Z"
   },
   {
    "duration": 345,
    "start_time": "2022-04-12T13:05:06.316Z"
   },
   {
    "duration": 300,
    "start_time": "2022-04-12T13:05:37.206Z"
   },
   {
    "duration": 210,
    "start_time": "2022-04-12T13:05:46.365Z"
   },
   {
    "duration": 214,
    "start_time": "2022-04-12T13:05:49.036Z"
   },
   {
    "duration": 264,
    "start_time": "2022-04-12T13:05:52.800Z"
   },
   {
    "duration": 211,
    "start_time": "2022-04-12T13:05:56.990Z"
   },
   {
    "duration": 224,
    "start_time": "2022-04-12T13:06:04.137Z"
   },
   {
    "duration": 210,
    "start_time": "2022-04-12T13:06:06.923Z"
   },
   {
    "duration": 214,
    "start_time": "2022-04-12T13:06:13.454Z"
   },
   {
    "duration": 206,
    "start_time": "2022-04-12T13:06:18.375Z"
   },
   {
    "duration": 204,
    "start_time": "2022-04-12T13:06:23.501Z"
   },
   {
    "duration": 223,
    "start_time": "2022-04-12T13:08:15.405Z"
   },
   {
    "duration": 204,
    "start_time": "2022-04-12T13:08:22.232Z"
   },
   {
    "duration": 226,
    "start_time": "2022-04-12T13:08:30.712Z"
   },
   {
    "duration": 125,
    "start_time": "2022-04-12T13:08:50.538Z"
   },
   {
    "duration": 186,
    "start_time": "2022-04-12T13:09:01.158Z"
   },
   {
    "duration": 103,
    "start_time": "2022-04-12T13:09:19.030Z"
   },
   {
    "duration": 100,
    "start_time": "2022-04-12T13:09:57.122Z"
   },
   {
    "duration": 78,
    "start_time": "2022-04-12T13:10:11.109Z"
   },
   {
    "duration": 10,
    "start_time": "2022-04-12T13:11:32.623Z"
   },
   {
    "duration": 153,
    "start_time": "2022-04-12T13:11:34.550Z"
   },
   {
    "duration": 10,
    "start_time": "2022-04-12T13:11:36.033Z"
   },
   {
    "duration": 164,
    "start_time": "2022-04-12T13:11:39.638Z"
   },
   {
    "duration": 84,
    "start_time": "2022-04-12T13:11:46.819Z"
   },
   {
    "duration": 4,
    "start_time": "2022-04-12T13:11:48.707Z"
   },
   {
    "duration": 5,
    "start_time": "2022-04-12T13:11:58.092Z"
   },
   {
    "duration": 5,
    "start_time": "2022-04-12T13:12:06.572Z"
   },
   {
    "duration": 97,
    "start_time": "2022-04-12T13:12:43.621Z"
   },
   {
    "duration": 89,
    "start_time": "2022-04-12T13:15:32.835Z"
   },
   {
    "duration": 100,
    "start_time": "2022-04-12T13:15:43.557Z"
   },
   {
    "duration": 153,
    "start_time": "2022-04-12T13:16:14.617Z"
   },
   {
    "duration": 334,
    "start_time": "2022-04-12T13:16:32.090Z"
   },
   {
    "duration": 339,
    "start_time": "2022-04-12T13:16:55.430Z"
   },
   {
    "duration": 115,
    "start_time": "2022-04-12T13:19:17.822Z"
   },
   {
    "duration": 104,
    "start_time": "2022-04-12T13:19:39.185Z"
   },
   {
    "duration": 14,
    "start_time": "2022-04-12T13:21:08.903Z"
   },
   {
    "duration": 100,
    "start_time": "2022-04-12T13:21:10.525Z"
   },
   {
    "duration": 158,
    "start_time": "2022-04-12T13:21:32.305Z"
   },
   {
    "duration": 13,
    "start_time": "2022-04-12T13:21:49.402Z"
   },
   {
    "duration": 96,
    "start_time": "2022-04-12T13:21:52.059Z"
   },
   {
    "duration": 195,
    "start_time": "2022-04-12T13:23:13.826Z"
   },
   {
    "duration": 249,
    "start_time": "2022-04-12T13:23:40.554Z"
   },
   {
    "duration": 207,
    "start_time": "2022-04-12T13:23:45.811Z"
   },
   {
    "duration": 286,
    "start_time": "2022-04-12T13:25:38.778Z"
   },
   {
    "duration": 267,
    "start_time": "2022-04-12T13:26:15.523Z"
   },
   {
    "duration": 171,
    "start_time": "2022-04-12T13:26:30.560Z"
   },
   {
    "duration": 118,
    "start_time": "2022-04-12T13:26:57.535Z"
   },
   {
    "duration": 164,
    "start_time": "2022-04-12T13:27:04.570Z"
   },
   {
    "duration": 116,
    "start_time": "2022-04-12T13:27:10.391Z"
   },
   {
    "duration": 111,
    "start_time": "2022-04-12T13:28:39.147Z"
   },
   {
    "duration": 130,
    "start_time": "2022-04-12T13:28:56.716Z"
   },
   {
    "duration": 128,
    "start_time": "2022-04-12T13:29:05.237Z"
   },
   {
    "duration": 188,
    "start_time": "2022-04-12T13:29:14.060Z"
   },
   {
    "duration": 120,
    "start_time": "2022-04-12T13:29:26.079Z"
   },
   {
    "duration": 131,
    "start_time": "2022-04-12T13:29:39.019Z"
   },
   {
    "duration": 1282,
    "start_time": "2022-04-12T13:29:49.219Z"
   },
   {
    "duration": 434,
    "start_time": "2022-04-12T13:29:50.504Z"
   },
   {
    "duration": 41,
    "start_time": "2022-04-12T13:29:50.940Z"
   },
   {
    "duration": 35,
    "start_time": "2022-04-12T13:29:50.983Z"
   },
   {
    "duration": 26,
    "start_time": "2022-04-12T13:29:51.021Z"
   },
   {
    "duration": 17,
    "start_time": "2022-04-12T13:29:51.049Z"
   },
   {
    "duration": 50,
    "start_time": "2022-04-12T13:29:51.068Z"
   },
   {
    "duration": 4,
    "start_time": "2022-04-12T13:29:51.121Z"
   },
   {
    "duration": 13,
    "start_time": "2022-04-12T13:29:51.127Z"
   },
   {
    "duration": 739,
    "start_time": "2022-04-12T13:29:51.143Z"
   },
   {
    "duration": 10,
    "start_time": "2022-04-12T13:29:51.884Z"
   },
   {
    "duration": 371,
    "start_time": "2022-04-12T13:29:51.896Z"
   },
   {
    "duration": 498,
    "start_time": "2022-04-12T13:29:52.269Z"
   },
   {
    "duration": 11,
    "start_time": "2022-04-12T13:29:52.769Z"
   },
   {
    "duration": 453,
    "start_time": "2022-04-12T13:29:52.782Z"
   },
   {
    "duration": 432,
    "start_time": "2022-04-12T13:29:53.237Z"
   },
   {
    "duration": 10,
    "start_time": "2022-04-12T13:29:53.670Z"
   },
   {
    "duration": 358,
    "start_time": "2022-04-12T13:29:53.681Z"
   },
   {
    "duration": 6,
    "start_time": "2022-04-12T13:29:54.041Z"
   },
   {
    "duration": 20,
    "start_time": "2022-04-12T13:29:54.049Z"
   },
   {
    "duration": 124,
    "start_time": "2022-04-12T13:29:54.071Z"
   },
   {
    "duration": 28,
    "start_time": "2022-04-12T13:29:54.198Z"
   },
   {
    "duration": 7,
    "start_time": "2022-04-12T13:29:54.228Z"
   },
   {
    "duration": 137,
    "start_time": "2022-04-12T13:29:54.237Z"
   },
   {
    "duration": 1,
    "start_time": "2022-04-12T13:29:54.376Z"
   },
   {
    "duration": 0,
    "start_time": "2022-04-12T13:29:54.378Z"
   },
   {
    "duration": 0,
    "start_time": "2022-04-12T13:29:54.380Z"
   },
   {
    "duration": 0,
    "start_time": "2022-04-12T13:29:54.381Z"
   },
   {
    "duration": 0,
    "start_time": "2022-04-12T13:29:54.382Z"
   },
   {
    "duration": 0,
    "start_time": "2022-04-12T13:29:54.384Z"
   },
   {
    "duration": 0,
    "start_time": "2022-04-12T13:29:54.385Z"
   },
   {
    "duration": 0,
    "start_time": "2022-04-12T13:29:54.387Z"
   },
   {
    "duration": 0,
    "start_time": "2022-04-12T13:29:54.388Z"
   },
   {
    "duration": 0,
    "start_time": "2022-04-12T13:29:54.418Z"
   },
   {
    "duration": 0,
    "start_time": "2022-04-12T13:29:54.421Z"
   },
   {
    "duration": 0,
    "start_time": "2022-04-12T13:29:54.423Z"
   },
   {
    "duration": 0,
    "start_time": "2022-04-12T13:29:54.424Z"
   },
   {
    "duration": 0,
    "start_time": "2022-04-12T13:29:54.426Z"
   },
   {
    "duration": 0,
    "start_time": "2022-04-12T13:29:54.427Z"
   },
   {
    "duration": 0,
    "start_time": "2022-04-12T13:29:54.429Z"
   },
   {
    "duration": 0,
    "start_time": "2022-04-12T13:29:54.432Z"
   },
   {
    "duration": 12,
    "start_time": "2022-04-12T13:30:19.986Z"
   },
   {
    "duration": 2697,
    "start_time": "2022-04-12T13:30:32.426Z"
   },
   {
    "duration": 3,
    "start_time": "2022-04-12T13:30:41.459Z"
   },
   {
    "duration": 447,
    "start_time": "2022-04-12T13:30:41.470Z"
   },
   {
    "duration": 58,
    "start_time": "2022-04-12T13:30:41.919Z"
   },
   {
    "duration": 68,
    "start_time": "2022-04-12T13:30:41.979Z"
   },
   {
    "duration": 31,
    "start_time": "2022-04-12T13:30:42.049Z"
   },
   {
    "duration": 44,
    "start_time": "2022-04-12T13:30:42.083Z"
   },
   {
    "duration": 23,
    "start_time": "2022-04-12T13:30:42.129Z"
   },
   {
    "duration": 5,
    "start_time": "2022-04-12T13:30:42.155Z"
   },
   {
    "duration": 13,
    "start_time": "2022-04-12T13:30:42.162Z"
   },
   {
    "duration": 796,
    "start_time": "2022-04-12T13:30:42.177Z"
   },
   {
    "duration": 10,
    "start_time": "2022-04-12T13:30:42.975Z"
   },
   {
    "duration": 420,
    "start_time": "2022-04-12T13:30:42.988Z"
   },
   {
    "duration": 600,
    "start_time": "2022-04-12T13:30:43.418Z"
   },
   {
    "duration": 11,
    "start_time": "2022-04-12T13:30:44.020Z"
   },
   {
    "duration": 529,
    "start_time": "2022-04-12T13:30:44.036Z"
   },
   {
    "duration": 715,
    "start_time": "2022-04-12T13:30:44.568Z"
   },
   {
    "duration": 12,
    "start_time": "2022-04-12T13:30:45.286Z"
   },
   {
    "duration": 568,
    "start_time": "2022-04-12T13:30:45.300Z"
   },
   {
    "duration": 9,
    "start_time": "2022-04-12T13:30:45.871Z"
   },
   {
    "duration": 21,
    "start_time": "2022-04-12T13:30:45.882Z"
   },
   {
    "duration": 193,
    "start_time": "2022-04-12T13:30:45.905Z"
   },
   {
    "duration": 26,
    "start_time": "2022-04-12T13:30:46.100Z"
   },
   {
    "duration": 9,
    "start_time": "2022-04-12T13:30:46.129Z"
   },
   {
    "duration": 35,
    "start_time": "2022-04-12T13:30:46.140Z"
   },
   {
    "duration": 0,
    "start_time": "2022-04-12T13:30:46.177Z"
   },
   {
    "duration": 0,
    "start_time": "2022-04-12T13:30:46.179Z"
   },
   {
    "duration": 0,
    "start_time": "2022-04-12T13:30:46.182Z"
   },
   {
    "duration": 0,
    "start_time": "2022-04-12T13:30:46.183Z"
   },
   {
    "duration": 0,
    "start_time": "2022-04-12T13:30:46.185Z"
   },
   {
    "duration": 0,
    "start_time": "2022-04-12T13:30:46.186Z"
   },
   {
    "duration": 0,
    "start_time": "2022-04-12T13:30:46.219Z"
   },
   {
    "duration": 0,
    "start_time": "2022-04-12T13:30:46.221Z"
   },
   {
    "duration": 0,
    "start_time": "2022-04-12T13:30:46.222Z"
   },
   {
    "duration": 0,
    "start_time": "2022-04-12T13:30:46.223Z"
   },
   {
    "duration": 0,
    "start_time": "2022-04-12T13:30:46.224Z"
   },
   {
    "duration": 0,
    "start_time": "2022-04-12T13:30:46.226Z"
   },
   {
    "duration": 0,
    "start_time": "2022-04-12T13:30:46.227Z"
   },
   {
    "duration": 7,
    "start_time": "2022-04-12T13:31:26.729Z"
   },
   {
    "duration": 203,
    "start_time": "2022-04-12T13:31:28.977Z"
   },
   {
    "duration": 29,
    "start_time": "2022-04-12T13:31:31.124Z"
   },
   {
    "duration": 1249,
    "start_time": "2022-04-12T13:31:51.044Z"
   },
   {
    "duration": 427,
    "start_time": "2022-04-12T13:31:52.296Z"
   },
   {
    "duration": 44,
    "start_time": "2022-04-12T13:31:52.725Z"
   },
   {
    "duration": 55,
    "start_time": "2022-04-12T13:31:52.772Z"
   },
   {
    "duration": 29,
    "start_time": "2022-04-12T13:31:52.830Z"
   },
   {
    "duration": 19,
    "start_time": "2022-04-12T13:31:52.861Z"
   },
   {
    "duration": 53,
    "start_time": "2022-04-12T13:31:52.882Z"
   },
   {
    "duration": 4,
    "start_time": "2022-04-12T13:31:52.938Z"
   },
   {
    "duration": 10,
    "start_time": "2022-04-12T13:31:52.945Z"
   },
   {
    "duration": 790,
    "start_time": "2022-04-12T13:31:52.957Z"
   },
   {
    "duration": 11,
    "start_time": "2022-04-12T13:31:53.751Z"
   },
   {
    "duration": 514,
    "start_time": "2022-04-12T13:31:53.764Z"
   },
   {
    "duration": 908,
    "start_time": "2022-04-12T13:31:54.280Z"
   },
   {
    "duration": 16,
    "start_time": "2022-04-12T13:31:55.193Z"
   },
   {
    "duration": 537,
    "start_time": "2022-04-12T13:31:55.219Z"
   },
   {
    "duration": 739,
    "start_time": "2022-04-12T13:31:55.758Z"
   },
   {
    "duration": 19,
    "start_time": "2022-04-12T13:31:56.500Z"
   },
   {
    "duration": 349,
    "start_time": "2022-04-12T13:31:56.521Z"
   },
   {
    "duration": 8,
    "start_time": "2022-04-12T13:31:56.872Z"
   },
   {
    "duration": 23,
    "start_time": "2022-04-12T13:31:56.883Z"
   },
   {
    "duration": 174,
    "start_time": "2022-04-12T13:31:56.920Z"
   },
   {
    "duration": 34,
    "start_time": "2022-04-12T13:31:57.096Z"
   },
   {
    "duration": 9,
    "start_time": "2022-04-12T13:31:57.133Z"
   },
   {
    "duration": 331,
    "start_time": "2022-04-12T13:31:57.144Z"
   },
   {
    "duration": 30,
    "start_time": "2022-04-12T13:31:57.478Z"
   },
   {
    "duration": 10,
    "start_time": "2022-04-12T13:31:57.510Z"
   },
   {
    "duration": 144,
    "start_time": "2022-04-12T13:31:57.522Z"
   },
   {
    "duration": 0,
    "start_time": "2022-04-12T13:31:57.668Z"
   },
   {
    "duration": 0,
    "start_time": "2022-04-12T13:31:57.670Z"
   },
   {
    "duration": 0,
    "start_time": "2022-04-12T13:31:57.671Z"
   },
   {
    "duration": 0,
    "start_time": "2022-04-12T13:31:57.673Z"
   },
   {
    "duration": 0,
    "start_time": "2022-04-12T13:31:57.678Z"
   },
   {
    "duration": 0,
    "start_time": "2022-04-12T13:31:57.680Z"
   },
   {
    "duration": 0,
    "start_time": "2022-04-12T13:31:57.681Z"
   },
   {
    "duration": 0,
    "start_time": "2022-04-12T13:31:57.682Z"
   },
   {
    "duration": 0,
    "start_time": "2022-04-12T13:31:57.684Z"
   },
   {
    "duration": 0,
    "start_time": "2022-04-12T13:31:57.685Z"
   },
   {
    "duration": 0,
    "start_time": "2022-04-12T13:31:57.688Z"
   },
   {
    "duration": 0,
    "start_time": "2022-04-12T13:31:57.689Z"
   },
   {
    "duration": 0,
    "start_time": "2022-04-12T13:31:57.719Z"
   },
   {
    "duration": 0,
    "start_time": "2022-04-12T13:31:57.720Z"
   },
   {
    "duration": 7,
    "start_time": "2022-04-12T13:32:29.734Z"
   },
   {
    "duration": 30,
    "start_time": "2022-04-12T13:32:31.612Z"
   },
   {
    "duration": 5,
    "start_time": "2022-04-12T13:32:40.078Z"
   },
   {
    "duration": 197,
    "start_time": "2022-04-12T13:32:44.095Z"
   },
   {
    "duration": 41,
    "start_time": "2022-04-12T13:32:45.685Z"
   },
   {
    "duration": 7,
    "start_time": "2022-04-12T13:32:57.099Z"
   },
   {
    "duration": 1250,
    "start_time": "2022-04-12T13:33:06.825Z"
   },
   {
    "duration": 421,
    "start_time": "2022-04-12T13:33:08.077Z"
   },
   {
    "duration": 41,
    "start_time": "2022-04-12T13:33:08.500Z"
   },
   {
    "duration": 33,
    "start_time": "2022-04-12T13:33:08.544Z"
   },
   {
    "duration": 51,
    "start_time": "2022-04-12T13:33:08.580Z"
   },
   {
    "duration": 18,
    "start_time": "2022-04-12T13:33:08.633Z"
   },
   {
    "duration": 20,
    "start_time": "2022-04-12T13:33:08.652Z"
   },
   {
    "duration": 10,
    "start_time": "2022-04-12T13:33:08.674Z"
   },
   {
    "duration": 32,
    "start_time": "2022-04-12T13:33:08.686Z"
   },
   {
    "duration": 776,
    "start_time": "2022-04-12T13:33:08.722Z"
   },
   {
    "duration": 12,
    "start_time": "2022-04-12T13:33:09.500Z"
   },
   {
    "duration": 438,
    "start_time": "2022-04-12T13:33:09.517Z"
   },
   {
    "duration": 867,
    "start_time": "2022-04-12T13:33:09.958Z"
   },
   {
    "duration": 16,
    "start_time": "2022-04-12T13:33:10.827Z"
   },
   {
    "duration": 615,
    "start_time": "2022-04-12T13:33:10.845Z"
   },
   {
    "duration": 716,
    "start_time": "2022-04-12T13:33:11.463Z"
   },
   {
    "duration": 13,
    "start_time": "2022-04-12T13:33:12.182Z"
   },
   {
    "duration": 539,
    "start_time": "2022-04-12T13:33:12.197Z"
   },
   {
    "duration": 9,
    "start_time": "2022-04-12T13:33:12.739Z"
   },
   {
    "duration": 23,
    "start_time": "2022-04-12T13:33:12.750Z"
   },
   {
    "duration": 126,
    "start_time": "2022-04-12T13:33:12.775Z"
   },
   {
    "duration": 30,
    "start_time": "2022-04-12T13:33:12.904Z"
   },
   {
    "duration": 7,
    "start_time": "2022-04-12T13:33:12.936Z"
   },
   {
    "duration": 210,
    "start_time": "2022-04-12T13:33:12.944Z"
   },
   {
    "duration": 21,
    "start_time": "2022-04-12T13:33:13.156Z"
   },
   {
    "duration": 8,
    "start_time": "2022-04-12T13:33:13.179Z"
   },
   {
    "duration": 174,
    "start_time": "2022-04-12T13:33:13.190Z"
   },
   {
    "duration": 25,
    "start_time": "2022-04-12T13:33:13.368Z"
   },
   {
    "duration": 8,
    "start_time": "2022-04-12T13:33:13.395Z"
   },
   {
    "duration": 248,
    "start_time": "2022-04-12T13:33:13.418Z"
   },
   {
    "duration": 799,
    "start_time": "2022-04-12T13:33:13.668Z"
   },
   {
    "duration": 913,
    "start_time": "2022-04-12T13:33:14.470Z"
   },
   {
    "duration": 376,
    "start_time": "2022-04-12T13:33:15.386Z"
   },
   {
    "duration": 753,
    "start_time": "2022-04-12T13:33:15.765Z"
   },
   {
    "duration": 530,
    "start_time": "2022-04-12T13:33:16.520Z"
   },
   {
    "duration": 218,
    "start_time": "2022-04-12T13:33:17.053Z"
   },
   {
    "duration": 485,
    "start_time": "2022-04-12T13:33:17.273Z"
   },
   {
    "duration": 11,
    "start_time": "2022-04-12T13:33:17.761Z"
   },
   {
    "duration": 151,
    "start_time": "2022-04-12T13:33:17.773Z"
   },
   {
    "duration": 13,
    "start_time": "2022-04-12T13:33:17.926Z"
   },
   {
    "duration": 139,
    "start_time": "2022-04-12T13:33:17.941Z"
   },
   {
    "duration": 411,
    "start_time": "2022-04-12T13:33:31.957Z"
   },
   {
    "duration": 193,
    "start_time": "2022-04-12T13:33:47.663Z"
   },
   {
    "duration": 278,
    "start_time": "2022-04-12T13:33:54.561Z"
   },
   {
    "duration": 177,
    "start_time": "2022-04-12T13:33:57.990Z"
   },
   {
    "duration": 267,
    "start_time": "2022-04-12T13:34:09.195Z"
   },
   {
    "duration": 275,
    "start_time": "2022-04-12T13:34:13.210Z"
   },
   {
    "duration": 309,
    "start_time": "2022-04-12T13:34:15.509Z"
   },
   {
    "duration": 123,
    "start_time": "2022-04-12T13:34:19.082Z"
   },
   {
    "duration": 271,
    "start_time": "2022-04-12T13:34:25.738Z"
   },
   {
    "duration": 173,
    "start_time": "2022-04-12T13:34:29.516Z"
   },
   {
    "duration": 144,
    "start_time": "2022-04-12T13:34:35.440Z"
   },
   {
    "duration": 174,
    "start_time": "2022-04-12T13:34:53.863Z"
   },
   {
    "duration": 167,
    "start_time": "2022-04-12T13:35:05.743Z"
   },
   {
    "duration": 301,
    "start_time": "2022-04-12T13:35:11.278Z"
   },
   {
    "duration": 130,
    "start_time": "2022-04-12T13:35:16.070Z"
   },
   {
    "duration": 165,
    "start_time": "2022-04-12T13:35:21.868Z"
   },
   {
    "duration": 127,
    "start_time": "2022-04-12T13:38:14.010Z"
   },
   {
    "duration": 132,
    "start_time": "2022-04-12T13:38:21.331Z"
   },
   {
    "duration": 163,
    "start_time": "2022-04-12T13:39:38.926Z"
   },
   {
    "duration": 135,
    "start_time": "2022-04-12T13:39:46.131Z"
   },
   {
    "duration": 265,
    "start_time": "2022-04-12T13:39:55.218Z"
   },
   {
    "duration": 105,
    "start_time": "2022-04-12T13:39:57.628Z"
   },
   {
    "duration": 136,
    "start_time": "2022-04-12T13:40:03.296Z"
   },
   {
    "duration": 173,
    "start_time": "2022-04-12T13:40:15.952Z"
   },
   {
    "duration": 136,
    "start_time": "2022-04-12T13:41:26.310Z"
   },
   {
    "duration": 10,
    "start_time": "2022-04-12T13:43:52.252Z"
   },
   {
    "duration": 9,
    "start_time": "2022-04-12T13:43:55.309Z"
   },
   {
    "duration": 5,
    "start_time": "2022-04-12T13:44:11.416Z"
   },
   {
    "duration": 5,
    "start_time": "2022-04-12T13:44:13.132Z"
   },
   {
    "duration": 4,
    "start_time": "2022-04-12T13:44:14.701Z"
   },
   {
    "duration": 11,
    "start_time": "2022-04-12T13:45:23.719Z"
   },
   {
    "duration": 6,
    "start_time": "2022-04-12T13:45:25.265Z"
   },
   {
    "duration": 10,
    "start_time": "2022-04-12T13:45:37.460Z"
   },
   {
    "duration": 11,
    "start_time": "2022-04-12T13:46:02.459Z"
   },
   {
    "duration": 5,
    "start_time": "2022-04-12T13:46:05.228Z"
   },
   {
    "duration": 179,
    "start_time": "2022-04-12T13:47:12.224Z"
   },
   {
    "duration": 140,
    "start_time": "2022-04-12T13:47:21.761Z"
   },
   {
    "duration": 9,
    "start_time": "2022-04-12T13:49:32.329Z"
   },
   {
    "duration": 722,
    "start_time": "2022-04-12T13:59:56.243Z"
   },
   {
    "duration": 558,
    "start_time": "2022-04-12T14:04:15.022Z"
   },
   {
    "duration": 517,
    "start_time": "2022-04-12T14:04:17.453Z"
   },
   {
    "duration": 5,
    "start_time": "2022-04-12T14:19:51.321Z"
   },
   {
    "duration": 5,
    "start_time": "2022-04-12T14:21:08.680Z"
   },
   {
    "duration": 5,
    "start_time": "2022-04-12T14:21:21.048Z"
   },
   {
    "duration": 4,
    "start_time": "2022-04-12T14:21:29.618Z"
   },
   {
    "duration": 11,
    "start_time": "2022-04-12T14:26:28.756Z"
   },
   {
    "duration": 16,
    "start_time": "2022-04-12T14:30:43.795Z"
   },
   {
    "duration": 9,
    "start_time": "2022-04-12T14:31:39.821Z"
   },
   {
    "duration": 4,
    "start_time": "2022-04-12T14:35:19.208Z"
   },
   {
    "duration": 4,
    "start_time": "2022-04-12T14:53:10.259Z"
   },
   {
    "duration": 137,
    "start_time": "2022-04-12T14:54:16.175Z"
   },
   {
    "duration": 109,
    "start_time": "2022-04-12T14:54:35.168Z"
   },
   {
    "duration": 72,
    "start_time": "2022-04-12T14:54:45.752Z"
   },
   {
    "duration": 21,
    "start_time": "2022-04-12T14:54:53.696Z"
   },
   {
    "duration": 24,
    "start_time": "2022-04-12T14:55:16.186Z"
   },
   {
    "duration": 1758,
    "start_time": "2022-04-12T15:00:01.445Z"
   },
   {
    "duration": 1837,
    "start_time": "2022-04-12T15:00:21.739Z"
   },
   {
    "duration": 144,
    "start_time": "2022-04-12T15:19:48.562Z"
   },
   {
    "duration": 227,
    "start_time": "2022-04-12T15:24:13.863Z"
   },
   {
    "duration": 243,
    "start_time": "2022-04-12T15:24:18.618Z"
   },
   {
    "duration": 264,
    "start_time": "2022-04-12T15:24:38.804Z"
   },
   {
    "duration": 288,
    "start_time": "2022-04-12T15:25:04.264Z"
   },
   {
    "duration": 279,
    "start_time": "2022-04-12T15:25:23.253Z"
   },
   {
    "duration": 151,
    "start_time": "2022-04-12T15:27:20.117Z"
   },
   {
    "duration": 120,
    "start_time": "2022-04-12T15:27:40.347Z"
   },
   {
    "duration": 1180,
    "start_time": "2022-04-12T15:28:53.111Z"
   },
   {
    "duration": 413,
    "start_time": "2022-04-12T15:28:54.294Z"
   },
   {
    "duration": 158,
    "start_time": "2022-04-12T15:28:54.709Z"
   },
   {
    "duration": 115,
    "start_time": "2022-04-12T15:28:54.868Z"
   },
   {
    "duration": 98,
    "start_time": "2022-04-12T15:28:54.986Z"
   },
   {
    "duration": 35,
    "start_time": "2022-04-12T15:28:55.086Z"
   },
   {
    "duration": 27,
    "start_time": "2022-04-12T15:28:55.123Z"
   },
   {
    "duration": 4,
    "start_time": "2022-04-12T15:28:55.153Z"
   },
   {
    "duration": 1759,
    "start_time": "2022-04-12T15:28:55.159Z"
   },
   {
    "duration": 119,
    "start_time": "2022-04-12T15:28:56.920Z"
   },
   {
    "duration": 15,
    "start_time": "2022-04-12T15:28:57.042Z"
   },
   {
    "duration": 8,
    "start_time": "2022-04-12T15:28:57.059Z"
   },
   {
    "duration": 212,
    "start_time": "2022-04-12T15:28:57.069Z"
   },
   {
    "duration": 19,
    "start_time": "2022-04-12T15:28:57.284Z"
   },
   {
    "duration": 14,
    "start_time": "2022-04-12T15:28:57.305Z"
   },
   {
    "duration": 184,
    "start_time": "2022-04-12T15:28:57.321Z"
   },
   {
    "duration": 41,
    "start_time": "2022-04-12T15:28:57.507Z"
   },
   {
    "duration": 14,
    "start_time": "2022-04-12T15:28:57.550Z"
   },
   {
    "duration": 301,
    "start_time": "2022-04-12T15:28:57.565Z"
   },
   {
    "duration": 533,
    "start_time": "2022-04-12T15:28:57.868Z"
   },
   {
    "duration": 608,
    "start_time": "2022-04-12T15:28:58.403Z"
   },
   {
    "duration": 263,
    "start_time": "2022-04-12T15:28:59.013Z"
   },
   {
    "duration": 580,
    "start_time": "2022-04-12T15:28:59.279Z"
   },
   {
    "duration": 499,
    "start_time": "2022-04-12T15:28:59.861Z"
   },
   {
    "duration": 222,
    "start_time": "2022-04-12T15:29:00.363Z"
   },
   {
    "duration": 470,
    "start_time": "2022-04-12T15:29:00.587Z"
   },
   {
    "duration": 11,
    "start_time": "2022-04-12T15:29:01.059Z"
   },
   {
    "duration": 169,
    "start_time": "2022-04-12T15:29:01.072Z"
   },
   {
    "duration": 12,
    "start_time": "2022-04-12T15:29:01.244Z"
   },
   {
    "duration": 140,
    "start_time": "2022-04-12T15:29:01.259Z"
   },
   {
    "duration": 20,
    "start_time": "2022-04-12T15:29:01.402Z"
   },
   {
    "duration": 23,
    "start_time": "2022-04-12T15:29:01.424Z"
   },
   {
    "duration": 22,
    "start_time": "2022-04-12T15:29:01.449Z"
   },
   {
    "duration": 20,
    "start_time": "2022-04-12T15:29:01.474Z"
   },
   {
    "duration": 1170,
    "start_time": "2022-04-22T10:29:28.433Z"
   },
   {
    "duration": 364,
    "start_time": "2022-04-22T10:29:29.605Z"
   },
   {
    "duration": 141,
    "start_time": "2022-04-22T10:29:29.971Z"
   },
   {
    "duration": 106,
    "start_time": "2022-04-22T10:29:30.114Z"
   },
   {
    "duration": 81,
    "start_time": "2022-04-22T10:29:30.222Z"
   },
   {
    "duration": 14,
    "start_time": "2022-04-22T10:29:30.305Z"
   },
   {
    "duration": 38,
    "start_time": "2022-04-22T10:29:30.321Z"
   },
   {
    "duration": 3,
    "start_time": "2022-04-22T10:29:30.362Z"
   },
   {
    "duration": 1588,
    "start_time": "2022-04-22T10:29:30.367Z"
   },
   {
    "duration": 108,
    "start_time": "2022-04-22T10:29:31.959Z"
   },
   {
    "duration": 12,
    "start_time": "2022-04-22T10:29:32.068Z"
   },
   {
    "duration": 8,
    "start_time": "2022-04-22T10:29:32.082Z"
   },
   {
    "duration": 190,
    "start_time": "2022-04-22T10:29:32.091Z"
   },
   {
    "duration": 15,
    "start_time": "2022-04-22T10:29:32.283Z"
   },
   {
    "duration": 9,
    "start_time": "2022-04-22T10:29:32.300Z"
   },
   {
    "duration": 140,
    "start_time": "2022-04-22T10:29:32.310Z"
   },
   {
    "duration": 20,
    "start_time": "2022-04-22T10:29:32.453Z"
   },
   {
    "duration": 6,
    "start_time": "2022-04-22T10:29:32.475Z"
   },
   {
    "duration": 222,
    "start_time": "2022-04-22T10:29:32.483Z"
   },
   {
    "duration": 448,
    "start_time": "2022-04-22T10:29:32.706Z"
   },
   {
    "duration": 452,
    "start_time": "2022-04-22T10:29:33.156Z"
   },
   {
    "duration": 209,
    "start_time": "2022-04-22T10:29:33.610Z"
   },
   {
    "duration": 556,
    "start_time": "2022-04-22T10:29:33.820Z"
   },
   {
    "duration": 481,
    "start_time": "2022-04-22T10:29:34.378Z"
   },
   {
    "duration": 189,
    "start_time": "2022-04-22T10:29:34.860Z"
   },
   {
    "duration": 609,
    "start_time": "2022-04-22T10:29:35.051Z"
   },
   {
    "duration": 10,
    "start_time": "2022-04-22T10:29:35.663Z"
   },
   {
    "duration": 130,
    "start_time": "2022-04-22T10:29:35.676Z"
   },
   {
    "duration": 10,
    "start_time": "2022-04-22T10:29:35.807Z"
   },
   {
    "duration": 139,
    "start_time": "2022-04-22T10:29:35.819Z"
   },
   {
    "duration": 9,
    "start_time": "2022-04-22T10:29:35.959Z"
   },
   {
    "duration": 41,
    "start_time": "2022-04-22T10:29:35.970Z"
   },
   {
    "duration": 30,
    "start_time": "2022-04-22T10:29:36.013Z"
   },
   {
    "duration": 25,
    "start_time": "2022-04-22T10:29:36.045Z"
   },
   {
    "duration": 26,
    "start_time": "2022-04-22T10:41:49.151Z"
   },
   {
    "duration": 2632,
    "start_time": "2022-04-22T10:42:04.165Z"
   },
   {
    "duration": 26,
    "start_time": "2022-04-22T10:42:12.639Z"
   },
   {
    "duration": 19,
    "start_time": "2022-04-22T10:42:28.080Z"
   },
   {
    "duration": 16,
    "start_time": "2022-04-22T10:43:27.020Z"
   },
   {
    "duration": 7,
    "start_time": "2022-04-22T10:43:56.701Z"
   },
   {
    "duration": 9,
    "start_time": "2022-04-22T10:44:52.265Z"
   },
   {
    "duration": 4,
    "start_time": "2022-04-22T10:45:01.045Z"
   },
   {
    "duration": 5,
    "start_time": "2022-04-22T10:45:04.099Z"
   },
   {
    "duration": 7,
    "start_time": "2022-04-22T10:53:29.814Z"
   },
   {
    "duration": 1135,
    "start_time": "2022-04-22T10:57:18.658Z"
   },
   {
    "duration": 376,
    "start_time": "2022-04-22T10:57:19.796Z"
   },
   {
    "duration": 142,
    "start_time": "2022-04-22T10:57:20.174Z"
   },
   {
    "duration": 96,
    "start_time": "2022-04-22T10:57:20.318Z"
   },
   {
    "duration": 91,
    "start_time": "2022-04-22T10:57:20.416Z"
   },
   {
    "duration": 17,
    "start_time": "2022-04-22T10:57:20.508Z"
   },
   {
    "duration": 62,
    "start_time": "2022-04-22T10:57:20.527Z"
   },
   {
    "duration": 3,
    "start_time": "2022-04-22T10:57:20.591Z"
   },
   {
    "duration": 1622,
    "start_time": "2022-04-22T10:57:20.596Z"
   },
   {
    "duration": 111,
    "start_time": "2022-04-22T10:57:22.220Z"
   },
   {
    "duration": 24,
    "start_time": "2022-04-22T10:57:22.333Z"
   },
   {
    "duration": 6,
    "start_time": "2022-04-22T10:57:22.358Z"
   },
   {
    "duration": 188,
    "start_time": "2022-04-22T10:57:22.366Z"
   },
   {
    "duration": 16,
    "start_time": "2022-04-22T10:57:22.558Z"
   },
   {
    "duration": 9,
    "start_time": "2022-04-22T10:57:22.575Z"
   },
   {
    "duration": 148,
    "start_time": "2022-04-22T10:57:22.585Z"
   },
   {
    "duration": 25,
    "start_time": "2022-04-22T10:57:22.734Z"
   },
   {
    "duration": 8,
    "start_time": "2022-04-22T10:57:22.760Z"
   },
   {
    "duration": 222,
    "start_time": "2022-04-22T10:57:22.769Z"
   },
   {
    "duration": 465,
    "start_time": "2022-04-22T10:57:22.994Z"
   },
   {
    "duration": 469,
    "start_time": "2022-04-22T10:57:23.460Z"
   },
   {
    "duration": 204,
    "start_time": "2022-04-22T10:57:23.931Z"
   },
   {
    "duration": 523,
    "start_time": "2022-04-22T10:57:24.136Z"
   },
   {
    "duration": 449,
    "start_time": "2022-04-22T10:57:24.661Z"
   },
   {
    "duration": 202,
    "start_time": "2022-04-22T10:57:25.112Z"
   },
   {
    "duration": 438,
    "start_time": "2022-04-22T10:57:25.316Z"
   },
   {
    "duration": 10,
    "start_time": "2022-04-22T10:57:25.756Z"
   },
   {
    "duration": 124,
    "start_time": "2022-04-22T10:57:25.768Z"
   },
   {
    "duration": 10,
    "start_time": "2022-04-22T10:57:25.894Z"
   },
   {
    "duration": 113,
    "start_time": "2022-04-22T10:57:25.905Z"
   },
   {
    "duration": 9,
    "start_time": "2022-04-22T10:57:26.020Z"
   },
   {
    "duration": 9,
    "start_time": "2022-04-22T10:57:26.030Z"
   },
   {
    "duration": 20,
    "start_time": "2022-04-22T10:57:26.041Z"
   },
   {
    "duration": 5,
    "start_time": "2022-04-22T10:57:26.063Z"
   },
   {
    "duration": 1128,
    "start_time": "2022-05-17T06:08:24.753Z"
   },
   {
    "duration": 414,
    "start_time": "2022-05-17T06:08:25.883Z"
   },
   {
    "duration": 153,
    "start_time": "2022-05-17T06:08:26.298Z"
   },
   {
    "duration": 88,
    "start_time": "2022-05-17T06:08:26.453Z"
   },
   {
    "duration": 70,
    "start_time": "2022-05-17T06:08:26.550Z"
   },
   {
    "duration": 32,
    "start_time": "2022-05-17T06:08:26.622Z"
   },
   {
    "duration": 20,
    "start_time": "2022-05-17T06:08:26.656Z"
   },
   {
    "duration": 3,
    "start_time": "2022-05-17T06:08:26.678Z"
   },
   {
    "duration": 1566,
    "start_time": "2022-05-17T06:08:26.683Z"
   },
   {
    "duration": 100,
    "start_time": "2022-05-17T06:08:28.252Z"
   },
   {
    "duration": 12,
    "start_time": "2022-05-17T06:08:28.354Z"
   },
   {
    "duration": 6,
    "start_time": "2022-05-17T06:08:28.367Z"
   },
   {
    "duration": 200,
    "start_time": "2022-05-17T06:08:28.375Z"
   },
   {
    "duration": 17,
    "start_time": "2022-05-17T06:08:28.577Z"
   },
   {
    "duration": 8,
    "start_time": "2022-05-17T06:08:28.596Z"
   },
   {
    "duration": 154,
    "start_time": "2022-05-17T06:08:28.605Z"
   },
   {
    "duration": 22,
    "start_time": "2022-05-17T06:08:28.761Z"
   },
   {
    "duration": 7,
    "start_time": "2022-05-17T06:08:28.785Z"
   },
   {
    "duration": 233,
    "start_time": "2022-05-17T06:08:28.793Z"
   },
   {
    "duration": 461,
    "start_time": "2022-05-17T06:08:29.028Z"
   },
   {
    "duration": 483,
    "start_time": "2022-05-17T06:08:29.491Z"
   },
   {
    "duration": 226,
    "start_time": "2022-05-17T06:08:29.975Z"
   },
   {
    "duration": 546,
    "start_time": "2022-05-17T06:08:30.203Z"
   },
   {
    "duration": 444,
    "start_time": "2022-05-17T06:08:30.751Z"
   },
   {
    "duration": 199,
    "start_time": "2022-05-17T06:08:31.197Z"
   },
   {
    "duration": 437,
    "start_time": "2022-05-17T06:08:31.398Z"
   },
   {
    "duration": 14,
    "start_time": "2022-05-17T06:08:31.837Z"
   },
   {
    "duration": 110,
    "start_time": "2022-05-17T06:08:31.854Z"
   },
   {
    "duration": 8,
    "start_time": "2022-05-17T06:08:31.966Z"
   },
   {
    "duration": 105,
    "start_time": "2022-05-17T06:08:31.976Z"
   },
   {
    "duration": 7,
    "start_time": "2022-05-17T06:08:32.083Z"
   },
   {
    "duration": 7,
    "start_time": "2022-05-17T06:08:32.092Z"
   },
   {
    "duration": 7,
    "start_time": "2022-05-17T06:08:32.100Z"
   },
   {
    "duration": 4,
    "start_time": "2022-05-17T06:08:32.108Z"
   },
   {
    "duration": 15,
    "start_time": "2022-05-17T06:09:37.869Z"
   },
   {
    "duration": 22,
    "start_time": "2022-05-17T06:11:54.570Z"
   },
   {
    "duration": 9,
    "start_time": "2022-05-17T06:16:05.247Z"
   },
   {
    "duration": 1558,
    "start_time": "2022-05-17T14:04:43.121Z"
   },
   {
    "duration": 527,
    "start_time": "2022-05-17T14:04:44.682Z"
   },
   {
    "duration": 213,
    "start_time": "2022-05-17T14:04:45.211Z"
   },
   {
    "duration": 177,
    "start_time": "2022-05-17T14:04:45.428Z"
   },
   {
    "duration": 119,
    "start_time": "2022-05-17T14:04:45.607Z"
   },
   {
    "duration": 51,
    "start_time": "2022-05-17T14:04:45.729Z"
   },
   {
    "duration": 34,
    "start_time": "2022-05-17T14:04:45.783Z"
   },
   {
    "duration": 6,
    "start_time": "2022-05-17T14:04:45.819Z"
   },
   {
    "duration": 2690,
    "start_time": "2022-05-17T14:04:45.828Z"
   },
   {
    "duration": 213,
    "start_time": "2022-05-17T14:04:48.522Z"
   },
   {
    "duration": 21,
    "start_time": "2022-05-17T14:04:48.737Z"
   },
   {
    "duration": 10,
    "start_time": "2022-05-17T14:04:48.781Z"
   },
   {
    "duration": 335,
    "start_time": "2022-05-17T14:04:48.794Z"
   },
   {
    "duration": 25,
    "start_time": "2022-05-17T14:04:49.132Z"
   },
   {
    "duration": 23,
    "start_time": "2022-05-17T14:04:49.159Z"
   },
   {
    "duration": 260,
    "start_time": "2022-05-17T14:04:49.184Z"
   },
   {
    "duration": 43,
    "start_time": "2022-05-17T14:04:49.446Z"
   },
   {
    "duration": 11,
    "start_time": "2022-05-17T14:04:49.491Z"
   },
   {
    "duration": 438,
    "start_time": "2022-05-17T14:04:49.504Z"
   },
   {
    "duration": 879,
    "start_time": "2022-05-17T14:04:49.945Z"
   },
   {
    "duration": 771,
    "start_time": "2022-05-17T14:04:50.827Z"
   },
   {
    "duration": 385,
    "start_time": "2022-05-17T14:04:51.600Z"
   },
   {
    "duration": 854,
    "start_time": "2022-05-17T14:04:51.988Z"
   },
   {
    "duration": 770,
    "start_time": "2022-05-17T14:04:52.845Z"
   },
   {
    "duration": 383,
    "start_time": "2022-05-17T14:04:53.618Z"
   },
   {
    "duration": 720,
    "start_time": "2022-05-17T14:04:54.004Z"
   },
   {
    "duration": 15,
    "start_time": "2022-05-17T14:04:54.727Z"
   },
   {
    "duration": 211,
    "start_time": "2022-05-17T14:04:54.748Z"
   },
   {
    "duration": 24,
    "start_time": "2022-05-17T14:04:54.961Z"
   },
   {
    "duration": 200,
    "start_time": "2022-05-17T14:04:54.987Z"
   },
   {
    "duration": 13,
    "start_time": "2022-05-17T14:04:55.190Z"
   },
   {
    "duration": 49,
    "start_time": "2022-05-17T14:04:55.205Z"
   },
   {
    "duration": 60,
    "start_time": "2022-05-17T14:04:55.257Z"
   },
   {
    "duration": 33,
    "start_time": "2022-05-17T14:04:55.320Z"
   },
   {
    "duration": 35,
    "start_time": "2022-05-17T14:05:30.145Z"
   }
  ],
  "kernelspec": {
   "display_name": "Python 3 (ipykernel)",
   "language": "python",
   "name": "python3"
  },
  "language_info": {
   "codemirror_mode": {
    "name": "ipython",
    "version": 3
   },
   "file_extension": ".py",
   "mimetype": "text/x-python",
   "name": "python",
   "nbconvert_exporter": "python",
   "pygments_lexer": "ipython3",
   "version": "3.9.7"
  },
  "toc": {
   "base_numbering": 1,
   "nav_menu": {},
   "number_sections": true,
   "sideBar": true,
   "skip_h1_title": true,
   "title_cell": "Table of Contents",
   "title_sidebar": "Contents",
   "toc_cell": false,
   "toc_position": {
    "height": "calc(100% - 180px)",
    "left": "10px",
    "top": "150px",
    "width": "474.348px"
   },
   "toc_section_display": true,
   "toc_window_display": true
  }
 },
 "nbformat": 4,
 "nbformat_minor": 2
}
