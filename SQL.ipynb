{
 "cells": [
  {
   "cell_type": "markdown",
   "metadata": {},
   "source": [
    "# Проект по SQL"
   ]
  },
  {
   "cell_type": "markdown",
   "metadata": {},
   "source": [
    "Коронавирус застал мир врасплох, изменив привычный порядок вещей. В свободное время жители городов больше не выходят на улицу, не посещают кафе и торговые центры. Зато стало больше времени для книг. Это заметили стартаперы — и бросились создавать приложения для тех, кто любит читать. Ваша компания решила быть на волне и купила крупный сервис для чтения книг по подписке. \n",
    "\n",
    "**Цель исследования**   \n",
    "Проанализировать базу данных (информация о книгах, издательствах, авторах, пользовательские обзоры книг), чтобы сформулировать ценностное предложение для нового продукта.\n",
    "\n",
    "**Описание данных**  \n",
    "\n",
    "Таблица `books` — содержит данные о книгах:\n",
    "\n",
    "    book_id — идентификатор книги;\n",
    "    author_id — идентификатор автора;\n",
    "    title — название книги;\n",
    "    num_pages — количество страниц;\n",
    "    publication_date — дата публикации книги;\n",
    "    publisher_id — идентификатор издателя.\n",
    "\n",
    "Таблица `authors` — содержит данные об авторах:\n",
    "\n",
    "    author_id — идентификатор автора;\n",
    "    author — имя автора.\n",
    "\n",
    "Таблица `publishers` — содержит данные об издательствах:\n",
    "\n",
    "    publisher_id — идентификатор издательства;\n",
    "    publisher — название издательства;\n",
    "\n",
    "Таблица `ratings` — содержит данные о пользовательских оценках книг:\n",
    "\n",
    "    rating_id — идентификатор оценки;\n",
    "    book_id — идентификатор книги;\n",
    "    username — имя пользователя, оставившего оценку;\n",
    "    rating — оценка книги.\n",
    "\n",
    "Таблица `reviews` — содержит данные о пользовательских обзорах:\n",
    "\n",
    "    review_id — идентификатор обзора;\n",
    "    book_id — идентификатор книги;\n",
    "    username — имя автора обзора;\n",
    "    text — текст обзора."
   ]
  },
  {
   "cell_type": "code",
   "execution_count": 1,
   "metadata": {},
   "outputs": [],
   "source": [
    "# импортируем библиотеки\n",
    "import pandas as pd \n",
    "from sqlalchemy import create_engine \n",
    "# устанавливаем параметры\n",
    "db_config = {'user': '_______', # имя пользователя\n",
    "'pwd': '_________', # пароль\n",
    "'host': '________', \n",
    "'port': ______, # порт подключения\n",
    "'db': '_________'} # название базы данных\n",
    "connection_string = 'postgresql://{}:{}@{}:{}/{}'.format(db_config['user'], \n",
    " db_config['pwd'], \n",
    " db_config['host'], \n",
    " db_config['port'], \n",
    " db_config['db']) \n",
    "# сохраняем коннектор\n",
    "engine = create_engine(connection_string, connect_args={'sslmode':'require'})"
   ]
  },
  {
   "cell_type": "code",
   "execution_count": 2,
   "metadata": {},
   "outputs": [],
   "source": [
    "# напишем функцию для выполнения запроса\n",
    "def select(query):\n",
    "    return pd.io.sql.read_sql(query, con = engine)"
   ]
  },
  {
   "cell_type": "markdown",
   "metadata": {},
   "source": [
    "## Исследование таблиц"
   ]
  },
  {
   "cell_type": "code",
   "execution_count": 3,
   "metadata": {},
   "outputs": [],
   "source": [
    "def get_info(df):\n",
    "    print('------ Первые 5 строк ------')\n",
    "    display(df.head())\n",
    "    print()\n",
    "    print('------ Типы данных ------')\n",
    "    df.info()\n",
    "    print()\n",
    "    display(df.describe())\n",
    "    display(df.describe(include='object'))\n",
    "    print()\n",
    "    print('------ Уникальные значения в файле ------')\n",
    "    display(df.nunique())\n",
    "    print()\n",
    "    print('------ Пропуски в файле ------')\n",
    "    display(df.isna().sum())\n",
    "    print()\n",
    "    print('------ Дубликаты в файле ------')\n",
    "    display(df.duplicated().sum())"
   ]
  },
  {
   "cell_type": "markdown",
   "metadata": {},
   "source": [
    "### Таблица `books`"
   ]
  },
  {
   "cell_type": "code",
   "execution_count": 4,
   "metadata": {},
   "outputs": [
    {
     "name": "stdout",
     "output_type": "stream",
     "text": [
      "------ Первые 5 строк ------\n"
     ]
    },
    {
     "data": {
      "text/html": [
       "<div>\n",
       "<style scoped>\n",
       "    .dataframe tbody tr th:only-of-type {\n",
       "        vertical-align: middle;\n",
       "    }\n",
       "\n",
       "    .dataframe tbody tr th {\n",
       "        vertical-align: top;\n",
       "    }\n",
       "\n",
       "    .dataframe thead th {\n",
       "        text-align: right;\n",
       "    }\n",
       "</style>\n",
       "<table border=\"1\" class=\"dataframe\">\n",
       "  <thead>\n",
       "    <tr style=\"text-align: right;\">\n",
       "      <th></th>\n",
       "      <th>book_id</th>\n",
       "      <th>author_id</th>\n",
       "      <th>title</th>\n",
       "      <th>num_pages</th>\n",
       "      <th>publication_date</th>\n",
       "      <th>publisher_id</th>\n",
       "    </tr>\n",
       "  </thead>\n",
       "  <tbody>\n",
       "    <tr>\n",
       "      <th>0</th>\n",
       "      <td>1</td>\n",
       "      <td>546</td>\n",
       "      <td>'Salem's Lot</td>\n",
       "      <td>594</td>\n",
       "      <td>2005-11-01</td>\n",
       "      <td>93</td>\n",
       "    </tr>\n",
       "    <tr>\n",
       "      <th>1</th>\n",
       "      <td>2</td>\n",
       "      <td>465</td>\n",
       "      <td>1 000 Places to See Before You Die</td>\n",
       "      <td>992</td>\n",
       "      <td>2003-05-22</td>\n",
       "      <td>336</td>\n",
       "    </tr>\n",
       "    <tr>\n",
       "      <th>2</th>\n",
       "      <td>3</td>\n",
       "      <td>407</td>\n",
       "      <td>13 Little Blue Envelopes (Little Blue Envelope...</td>\n",
       "      <td>322</td>\n",
       "      <td>2010-12-21</td>\n",
       "      <td>135</td>\n",
       "    </tr>\n",
       "    <tr>\n",
       "      <th>3</th>\n",
       "      <td>4</td>\n",
       "      <td>82</td>\n",
       "      <td>1491: New Revelations of the Americas Before C...</td>\n",
       "      <td>541</td>\n",
       "      <td>2006-10-10</td>\n",
       "      <td>309</td>\n",
       "    </tr>\n",
       "    <tr>\n",
       "      <th>4</th>\n",
       "      <td>5</td>\n",
       "      <td>125</td>\n",
       "      <td>1776</td>\n",
       "      <td>386</td>\n",
       "      <td>2006-07-04</td>\n",
       "      <td>268</td>\n",
       "    </tr>\n",
       "  </tbody>\n",
       "</table>\n",
       "</div>"
      ],
      "text/plain": [
       "   book_id  author_id                                              title  \\\n",
       "0        1        546                                       'Salem's Lot   \n",
       "1        2        465                 1 000 Places to See Before You Die   \n",
       "2        3        407  13 Little Blue Envelopes (Little Blue Envelope...   \n",
       "3        4         82  1491: New Revelations of the Americas Before C...   \n",
       "4        5        125                                               1776   \n",
       "\n",
       "   num_pages publication_date  publisher_id  \n",
       "0        594       2005-11-01            93  \n",
       "1        992       2003-05-22           336  \n",
       "2        322       2010-12-21           135  \n",
       "3        541       2006-10-10           309  \n",
       "4        386       2006-07-04           268  "
      ]
     },
     "metadata": {},
     "output_type": "display_data"
    },
    {
     "name": "stdout",
     "output_type": "stream",
     "text": [
      "\n",
      "------ Типы данных ------\n",
      "<class 'pandas.core.frame.DataFrame'>\n",
      "RangeIndex: 1000 entries, 0 to 999\n",
      "Data columns (total 6 columns):\n",
      " #   Column            Non-Null Count  Dtype \n",
      "---  ------            --------------  ----- \n",
      " 0   book_id           1000 non-null   int64 \n",
      " 1   author_id         1000 non-null   int64 \n",
      " 2   title             1000 non-null   object\n",
      " 3   num_pages         1000 non-null   int64 \n",
      " 4   publication_date  1000 non-null   object\n",
      " 5   publisher_id      1000 non-null   int64 \n",
      "dtypes: int64(4), object(2)\n",
      "memory usage: 47.0+ KB\n",
      "\n"
     ]
    },
    {
     "data": {
      "text/html": [
       "<div>\n",
       "<style scoped>\n",
       "    .dataframe tbody tr th:only-of-type {\n",
       "        vertical-align: middle;\n",
       "    }\n",
       "\n",
       "    .dataframe tbody tr th {\n",
       "        vertical-align: top;\n",
       "    }\n",
       "\n",
       "    .dataframe thead th {\n",
       "        text-align: right;\n",
       "    }\n",
       "</style>\n",
       "<table border=\"1\" class=\"dataframe\">\n",
       "  <thead>\n",
       "    <tr style=\"text-align: right;\">\n",
       "      <th></th>\n",
       "      <th>book_id</th>\n",
       "      <th>author_id</th>\n",
       "      <th>num_pages</th>\n",
       "      <th>publisher_id</th>\n",
       "    </tr>\n",
       "  </thead>\n",
       "  <tbody>\n",
       "    <tr>\n",
       "      <th>count</th>\n",
       "      <td>1000.000000</td>\n",
       "      <td>1000.000000</td>\n",
       "      <td>1000.00000</td>\n",
       "      <td>1000.000000</td>\n",
       "    </tr>\n",
       "    <tr>\n",
       "      <th>mean</th>\n",
       "      <td>500.500000</td>\n",
       "      <td>320.417000</td>\n",
       "      <td>389.11100</td>\n",
       "      <td>171.270000</td>\n",
       "    </tr>\n",
       "    <tr>\n",
       "      <th>std</th>\n",
       "      <td>288.819436</td>\n",
       "      <td>181.620172</td>\n",
       "      <td>229.39014</td>\n",
       "      <td>99.082685</td>\n",
       "    </tr>\n",
       "    <tr>\n",
       "      <th>min</th>\n",
       "      <td>1.000000</td>\n",
       "      <td>1.000000</td>\n",
       "      <td>14.00000</td>\n",
       "      <td>1.000000</td>\n",
       "    </tr>\n",
       "    <tr>\n",
       "      <th>25%</th>\n",
       "      <td>250.750000</td>\n",
       "      <td>162.750000</td>\n",
       "      <td>249.00000</td>\n",
       "      <td>83.000000</td>\n",
       "    </tr>\n",
       "    <tr>\n",
       "      <th>50%</th>\n",
       "      <td>500.500000</td>\n",
       "      <td>316.500000</td>\n",
       "      <td>352.00000</td>\n",
       "      <td>177.500000</td>\n",
       "    </tr>\n",
       "    <tr>\n",
       "      <th>75%</th>\n",
       "      <td>750.250000</td>\n",
       "      <td>481.000000</td>\n",
       "      <td>453.00000</td>\n",
       "      <td>258.000000</td>\n",
       "    </tr>\n",
       "    <tr>\n",
       "      <th>max</th>\n",
       "      <td>1000.000000</td>\n",
       "      <td>636.000000</td>\n",
       "      <td>2690.00000</td>\n",
       "      <td>340.000000</td>\n",
       "    </tr>\n",
       "  </tbody>\n",
       "</table>\n",
       "</div>"
      ],
      "text/plain": [
       "           book_id    author_id   num_pages  publisher_id\n",
       "count  1000.000000  1000.000000  1000.00000   1000.000000\n",
       "mean    500.500000   320.417000   389.11100    171.270000\n",
       "std     288.819436   181.620172   229.39014     99.082685\n",
       "min       1.000000     1.000000    14.00000      1.000000\n",
       "25%     250.750000   162.750000   249.00000     83.000000\n",
       "50%     500.500000   316.500000   352.00000    177.500000\n",
       "75%     750.250000   481.000000   453.00000    258.000000\n",
       "max    1000.000000   636.000000  2690.00000    340.000000"
      ]
     },
     "metadata": {},
     "output_type": "display_data"
    },
    {
     "data": {
      "text/html": [
       "<div>\n",
       "<style scoped>\n",
       "    .dataframe tbody tr th:only-of-type {\n",
       "        vertical-align: middle;\n",
       "    }\n",
       "\n",
       "    .dataframe tbody tr th {\n",
       "        vertical-align: top;\n",
       "    }\n",
       "\n",
       "    .dataframe thead th {\n",
       "        text-align: right;\n",
       "    }\n",
       "</style>\n",
       "<table border=\"1\" class=\"dataframe\">\n",
       "  <thead>\n",
       "    <tr style=\"text-align: right;\">\n",
       "      <th></th>\n",
       "      <th>title</th>\n",
       "      <th>publication_date</th>\n",
       "    </tr>\n",
       "  </thead>\n",
       "  <tbody>\n",
       "    <tr>\n",
       "      <th>count</th>\n",
       "      <td>1000</td>\n",
       "      <td>1000</td>\n",
       "    </tr>\n",
       "    <tr>\n",
       "      <th>unique</th>\n",
       "      <td>999</td>\n",
       "      <td>618</td>\n",
       "    </tr>\n",
       "    <tr>\n",
       "      <th>top</th>\n",
       "      <td>Memoirs of a Geisha</td>\n",
       "      <td>2006-08-29</td>\n",
       "    </tr>\n",
       "    <tr>\n",
       "      <th>freq</th>\n",
       "      <td>2</td>\n",
       "      <td>10</td>\n",
       "    </tr>\n",
       "  </tbody>\n",
       "</table>\n",
       "</div>"
      ],
      "text/plain": [
       "                      title publication_date\n",
       "count                  1000             1000\n",
       "unique                  999              618\n",
       "top     Memoirs of a Geisha       2006-08-29\n",
       "freq                      2               10"
      ]
     },
     "metadata": {},
     "output_type": "display_data"
    },
    {
     "name": "stdout",
     "output_type": "stream",
     "text": [
      "\n",
      "------ Уникальные значения в файле ------\n"
     ]
    },
    {
     "data": {
      "text/plain": [
       "book_id             1000\n",
       "author_id            636\n",
       "title                999\n",
       "num_pages            454\n",
       "publication_date     618\n",
       "publisher_id         340\n",
       "dtype: int64"
      ]
     },
     "metadata": {},
     "output_type": "display_data"
    },
    {
     "name": "stdout",
     "output_type": "stream",
     "text": [
      "\n",
      "------ Пропуски в файле ------\n"
     ]
    },
    {
     "data": {
      "text/plain": [
       "book_id             0\n",
       "author_id           0\n",
       "title               0\n",
       "num_pages           0\n",
       "publication_date    0\n",
       "publisher_id        0\n",
       "dtype: int64"
      ]
     },
     "metadata": {},
     "output_type": "display_data"
    },
    {
     "name": "stdout",
     "output_type": "stream",
     "text": [
      "\n",
      "------ Дубликаты в файле ------\n"
     ]
    },
    {
     "data": {
      "text/plain": [
       "0"
      ]
     },
     "metadata": {},
     "output_type": "display_data"
    }
   ],
   "source": [
    "get_info(\n",
    "    select(\n",
    "        '''\n",
    "            SELECT *\n",
    "            FROM books\n",
    "        '''\n",
    "    )\n",
    ")"
   ]
  },
  {
   "cell_type": "markdown",
   "metadata": {},
   "source": [
    "Пропуски и дубликаты отсутствуют. Название книги `Memoirs of a Geisha` встречается 2 раза."
   ]
  },
  {
   "cell_type": "code",
   "execution_count": 5,
   "metadata": {},
   "outputs": [
    {
     "data": {
      "text/html": [
       "<div>\n",
       "<style scoped>\n",
       "    .dataframe tbody tr th:only-of-type {\n",
       "        vertical-align: middle;\n",
       "    }\n",
       "\n",
       "    .dataframe tbody tr th {\n",
       "        vertical-align: top;\n",
       "    }\n",
       "\n",
       "    .dataframe thead th {\n",
       "        text-align: right;\n",
       "    }\n",
       "</style>\n",
       "<table border=\"1\" class=\"dataframe\">\n",
       "  <thead>\n",
       "    <tr style=\"text-align: right;\">\n",
       "      <th></th>\n",
       "      <th>book_id</th>\n",
       "      <th>author_id</th>\n",
       "      <th>title</th>\n",
       "      <th>num_pages</th>\n",
       "      <th>publication_date</th>\n",
       "      <th>publisher_id</th>\n",
       "    </tr>\n",
       "  </thead>\n",
       "  <tbody>\n",
       "    <tr>\n",
       "      <th>425</th>\n",
       "      <td>426</td>\n",
       "      <td>39</td>\n",
       "      <td>Memoirs of a Geisha</td>\n",
       "      <td>434</td>\n",
       "      <td>2005-11-15</td>\n",
       "      <td>241</td>\n",
       "    </tr>\n",
       "    <tr>\n",
       "      <th>426</th>\n",
       "      <td>427</td>\n",
       "      <td>39</td>\n",
       "      <td>Memoirs of a Geisha</td>\n",
       "      <td>503</td>\n",
       "      <td>2005-11-22</td>\n",
       "      <td>311</td>\n",
       "    </tr>\n",
       "  </tbody>\n",
       "</table>\n",
       "</div>"
      ],
      "text/plain": [
       "     book_id  author_id                title  num_pages publication_date  \\\n",
       "425      426         39  Memoirs of a Geisha        434       2005-11-15   \n",
       "426      427         39  Memoirs of a Geisha        503       2005-11-22   \n",
       "\n",
       "     publisher_id  \n",
       "425           241  \n",
       "426           311  "
      ]
     },
     "execution_count": 5,
     "metadata": {},
     "output_type": "execute_result"
    }
   ],
   "source": [
    "# найдем книгу Memoirs of a Geisha\n",
    "books = select(\n",
    "        '''\n",
    "            SELECT *\n",
    "            FROM books\n",
    "        '''\n",
    "    )\n",
    "\n",
    "books[books['title'] == \"Memoirs of a Geisha\"]"
   ]
  },
  {
   "cell_type": "markdown",
   "metadata": {},
   "source": [
    "Данную книгу одного автора выпускали два издательства с разным количеством страниц и под разным номером id книги."
   ]
  },
  {
   "cell_type": "markdown",
   "metadata": {},
   "source": [
    "### Таблица `authors`"
   ]
  },
  {
   "cell_type": "code",
   "execution_count": 6,
   "metadata": {},
   "outputs": [
    {
     "name": "stdout",
     "output_type": "stream",
     "text": [
      "------ Первые 5 строк ------\n"
     ]
    },
    {
     "data": {
      "text/html": [
       "<div>\n",
       "<style scoped>\n",
       "    .dataframe tbody tr th:only-of-type {\n",
       "        vertical-align: middle;\n",
       "    }\n",
       "\n",
       "    .dataframe tbody tr th {\n",
       "        vertical-align: top;\n",
       "    }\n",
       "\n",
       "    .dataframe thead th {\n",
       "        text-align: right;\n",
       "    }\n",
       "</style>\n",
       "<table border=\"1\" class=\"dataframe\">\n",
       "  <thead>\n",
       "    <tr style=\"text-align: right;\">\n",
       "      <th></th>\n",
       "      <th>author_id</th>\n",
       "      <th>author</th>\n",
       "    </tr>\n",
       "  </thead>\n",
       "  <tbody>\n",
       "    <tr>\n",
       "      <th>0</th>\n",
       "      <td>1</td>\n",
       "      <td>A.S. Byatt</td>\n",
       "    </tr>\n",
       "    <tr>\n",
       "      <th>1</th>\n",
       "      <td>2</td>\n",
       "      <td>Aesop/Laura Harris/Laura Gibbs</td>\n",
       "    </tr>\n",
       "    <tr>\n",
       "      <th>2</th>\n",
       "      <td>3</td>\n",
       "      <td>Agatha Christie</td>\n",
       "    </tr>\n",
       "    <tr>\n",
       "      <th>3</th>\n",
       "      <td>4</td>\n",
       "      <td>Alan Brennert</td>\n",
       "    </tr>\n",
       "    <tr>\n",
       "      <th>4</th>\n",
       "      <td>5</td>\n",
       "      <td>Alan Moore/David   Lloyd</td>\n",
       "    </tr>\n",
       "  </tbody>\n",
       "</table>\n",
       "</div>"
      ],
      "text/plain": [
       "   author_id                          author\n",
       "0          1                      A.S. Byatt\n",
       "1          2  Aesop/Laura Harris/Laura Gibbs\n",
       "2          3                 Agatha Christie\n",
       "3          4                   Alan Brennert\n",
       "4          5        Alan Moore/David   Lloyd"
      ]
     },
     "metadata": {},
     "output_type": "display_data"
    },
    {
     "name": "stdout",
     "output_type": "stream",
     "text": [
      "\n",
      "------ Типы данных ------\n",
      "<class 'pandas.core.frame.DataFrame'>\n",
      "RangeIndex: 636 entries, 0 to 635\n",
      "Data columns (total 2 columns):\n",
      " #   Column     Non-Null Count  Dtype \n",
      "---  ------     --------------  ----- \n",
      " 0   author_id  636 non-null    int64 \n",
      " 1   author     636 non-null    object\n",
      "dtypes: int64(1), object(1)\n",
      "memory usage: 10.1+ KB\n",
      "\n"
     ]
    },
    {
     "data": {
      "text/html": [
       "<div>\n",
       "<style scoped>\n",
       "    .dataframe tbody tr th:only-of-type {\n",
       "        vertical-align: middle;\n",
       "    }\n",
       "\n",
       "    .dataframe tbody tr th {\n",
       "        vertical-align: top;\n",
       "    }\n",
       "\n",
       "    .dataframe thead th {\n",
       "        text-align: right;\n",
       "    }\n",
       "</style>\n",
       "<table border=\"1\" class=\"dataframe\">\n",
       "  <thead>\n",
       "    <tr style=\"text-align: right;\">\n",
       "      <th></th>\n",
       "      <th>author_id</th>\n",
       "    </tr>\n",
       "  </thead>\n",
       "  <tbody>\n",
       "    <tr>\n",
       "      <th>count</th>\n",
       "      <td>636.000000</td>\n",
       "    </tr>\n",
       "    <tr>\n",
       "      <th>mean</th>\n",
       "      <td>318.500000</td>\n",
       "    </tr>\n",
       "    <tr>\n",
       "      <th>std</th>\n",
       "      <td>183.741666</td>\n",
       "    </tr>\n",
       "    <tr>\n",
       "      <th>min</th>\n",
       "      <td>1.000000</td>\n",
       "    </tr>\n",
       "    <tr>\n",
       "      <th>25%</th>\n",
       "      <td>159.750000</td>\n",
       "    </tr>\n",
       "    <tr>\n",
       "      <th>50%</th>\n",
       "      <td>318.500000</td>\n",
       "    </tr>\n",
       "    <tr>\n",
       "      <th>75%</th>\n",
       "      <td>477.250000</td>\n",
       "    </tr>\n",
       "    <tr>\n",
       "      <th>max</th>\n",
       "      <td>636.000000</td>\n",
       "    </tr>\n",
       "  </tbody>\n",
       "</table>\n",
       "</div>"
      ],
      "text/plain": [
       "        author_id\n",
       "count  636.000000\n",
       "mean   318.500000\n",
       "std    183.741666\n",
       "min      1.000000\n",
       "25%    159.750000\n",
       "50%    318.500000\n",
       "75%    477.250000\n",
       "max    636.000000"
      ]
     },
     "metadata": {},
     "output_type": "display_data"
    },
    {
     "data": {
      "text/html": [
       "<div>\n",
       "<style scoped>\n",
       "    .dataframe tbody tr th:only-of-type {\n",
       "        vertical-align: middle;\n",
       "    }\n",
       "\n",
       "    .dataframe tbody tr th {\n",
       "        vertical-align: top;\n",
       "    }\n",
       "\n",
       "    .dataframe thead th {\n",
       "        text-align: right;\n",
       "    }\n",
       "</style>\n",
       "<table border=\"1\" class=\"dataframe\">\n",
       "  <thead>\n",
       "    <tr style=\"text-align: right;\">\n",
       "      <th></th>\n",
       "      <th>author</th>\n",
       "    </tr>\n",
       "  </thead>\n",
       "  <tbody>\n",
       "    <tr>\n",
       "      <th>count</th>\n",
       "      <td>636</td>\n",
       "    </tr>\n",
       "    <tr>\n",
       "      <th>unique</th>\n",
       "      <td>636</td>\n",
       "    </tr>\n",
       "    <tr>\n",
       "      <th>top</th>\n",
       "      <td>Clayton M. Christensen/L.J. Ganser</td>\n",
       "    </tr>\n",
       "    <tr>\n",
       "      <th>freq</th>\n",
       "      <td>1</td>\n",
       "    </tr>\n",
       "  </tbody>\n",
       "</table>\n",
       "</div>"
      ],
      "text/plain": [
       "                                    author\n",
       "count                                  636\n",
       "unique                                 636\n",
       "top     Clayton M. Christensen/L.J. Ganser\n",
       "freq                                     1"
      ]
     },
     "metadata": {},
     "output_type": "display_data"
    },
    {
     "name": "stdout",
     "output_type": "stream",
     "text": [
      "\n",
      "------ Уникальные значения в файле ------\n"
     ]
    },
    {
     "data": {
      "text/plain": [
       "author_id    636\n",
       "author       636\n",
       "dtype: int64"
      ]
     },
     "metadata": {},
     "output_type": "display_data"
    },
    {
     "name": "stdout",
     "output_type": "stream",
     "text": [
      "\n",
      "------ Пропуски в файле ------\n"
     ]
    },
    {
     "data": {
      "text/plain": [
       "author_id    0\n",
       "author       0\n",
       "dtype: int64"
      ]
     },
     "metadata": {},
     "output_type": "display_data"
    },
    {
     "name": "stdout",
     "output_type": "stream",
     "text": [
      "\n",
      "------ Дубликаты в файле ------\n"
     ]
    },
    {
     "data": {
      "text/plain": [
       "0"
      ]
     },
     "metadata": {},
     "output_type": "display_data"
    }
   ],
   "source": [
    "get_info(\n",
    "    select(\n",
    "        '''\n",
    "            SELECT *\n",
    "            FROM authors\n",
    "        '''\n",
    "    )\n",
    ")"
   ]
  },
  {
   "cell_type": "markdown",
   "metadata": {},
   "source": [
    "Пропуски и дубликаты отсутствуют."
   ]
  },
  {
   "cell_type": "markdown",
   "metadata": {},
   "source": [
    "### Таблица `publishers`"
   ]
  },
  {
   "cell_type": "code",
   "execution_count": 7,
   "metadata": {},
   "outputs": [
    {
     "name": "stdout",
     "output_type": "stream",
     "text": [
      "------ Первые 5 строк ------\n"
     ]
    },
    {
     "data": {
      "text/html": [
       "<div>\n",
       "<style scoped>\n",
       "    .dataframe tbody tr th:only-of-type {\n",
       "        vertical-align: middle;\n",
       "    }\n",
       "\n",
       "    .dataframe tbody tr th {\n",
       "        vertical-align: top;\n",
       "    }\n",
       "\n",
       "    .dataframe thead th {\n",
       "        text-align: right;\n",
       "    }\n",
       "</style>\n",
       "<table border=\"1\" class=\"dataframe\">\n",
       "  <thead>\n",
       "    <tr style=\"text-align: right;\">\n",
       "      <th></th>\n",
       "      <th>publisher_id</th>\n",
       "      <th>publisher</th>\n",
       "    </tr>\n",
       "  </thead>\n",
       "  <tbody>\n",
       "    <tr>\n",
       "      <th>0</th>\n",
       "      <td>1</td>\n",
       "      <td>Ace</td>\n",
       "    </tr>\n",
       "    <tr>\n",
       "      <th>1</th>\n",
       "      <td>2</td>\n",
       "      <td>Ace Book</td>\n",
       "    </tr>\n",
       "    <tr>\n",
       "      <th>2</th>\n",
       "      <td>3</td>\n",
       "      <td>Ace Books</td>\n",
       "    </tr>\n",
       "    <tr>\n",
       "      <th>3</th>\n",
       "      <td>4</td>\n",
       "      <td>Ace Hardcover</td>\n",
       "    </tr>\n",
       "    <tr>\n",
       "      <th>4</th>\n",
       "      <td>5</td>\n",
       "      <td>Addison Wesley Publishing Company</td>\n",
       "    </tr>\n",
       "  </tbody>\n",
       "</table>\n",
       "</div>"
      ],
      "text/plain": [
       "   publisher_id                          publisher\n",
       "0             1                                Ace\n",
       "1             2                           Ace Book\n",
       "2             3                          Ace Books\n",
       "3             4                      Ace Hardcover\n",
       "4             5  Addison Wesley Publishing Company"
      ]
     },
     "metadata": {},
     "output_type": "display_data"
    },
    {
     "name": "stdout",
     "output_type": "stream",
     "text": [
      "\n",
      "------ Типы данных ------\n",
      "<class 'pandas.core.frame.DataFrame'>\n",
      "RangeIndex: 340 entries, 0 to 339\n",
      "Data columns (total 2 columns):\n",
      " #   Column        Non-Null Count  Dtype \n",
      "---  ------        --------------  ----- \n",
      " 0   publisher_id  340 non-null    int64 \n",
      " 1   publisher     340 non-null    object\n",
      "dtypes: int64(1), object(1)\n",
      "memory usage: 5.4+ KB\n",
      "\n"
     ]
    },
    {
     "data": {
      "text/html": [
       "<div>\n",
       "<style scoped>\n",
       "    .dataframe tbody tr th:only-of-type {\n",
       "        vertical-align: middle;\n",
       "    }\n",
       "\n",
       "    .dataframe tbody tr th {\n",
       "        vertical-align: top;\n",
       "    }\n",
       "\n",
       "    .dataframe thead th {\n",
       "        text-align: right;\n",
       "    }\n",
       "</style>\n",
       "<table border=\"1\" class=\"dataframe\">\n",
       "  <thead>\n",
       "    <tr style=\"text-align: right;\">\n",
       "      <th></th>\n",
       "      <th>publisher_id</th>\n",
       "    </tr>\n",
       "  </thead>\n",
       "  <tbody>\n",
       "    <tr>\n",
       "      <th>count</th>\n",
       "      <td>340.000000</td>\n",
       "    </tr>\n",
       "    <tr>\n",
       "      <th>mean</th>\n",
       "      <td>170.500000</td>\n",
       "    </tr>\n",
       "    <tr>\n",
       "      <th>std</th>\n",
       "      <td>98.293777</td>\n",
       "    </tr>\n",
       "    <tr>\n",
       "      <th>min</th>\n",
       "      <td>1.000000</td>\n",
       "    </tr>\n",
       "    <tr>\n",
       "      <th>25%</th>\n",
       "      <td>85.750000</td>\n",
       "    </tr>\n",
       "    <tr>\n",
       "      <th>50%</th>\n",
       "      <td>170.500000</td>\n",
       "    </tr>\n",
       "    <tr>\n",
       "      <th>75%</th>\n",
       "      <td>255.250000</td>\n",
       "    </tr>\n",
       "    <tr>\n",
       "      <th>max</th>\n",
       "      <td>340.000000</td>\n",
       "    </tr>\n",
       "  </tbody>\n",
       "</table>\n",
       "</div>"
      ],
      "text/plain": [
       "       publisher_id\n",
       "count    340.000000\n",
       "mean     170.500000\n",
       "std       98.293777\n",
       "min        1.000000\n",
       "25%       85.750000\n",
       "50%      170.500000\n",
       "75%      255.250000\n",
       "max      340.000000"
      ]
     },
     "metadata": {},
     "output_type": "display_data"
    },
    {
     "data": {
      "text/html": [
       "<div>\n",
       "<style scoped>\n",
       "    .dataframe tbody tr th:only-of-type {\n",
       "        vertical-align: middle;\n",
       "    }\n",
       "\n",
       "    .dataframe tbody tr th {\n",
       "        vertical-align: top;\n",
       "    }\n",
       "\n",
       "    .dataframe thead th {\n",
       "        text-align: right;\n",
       "    }\n",
       "</style>\n",
       "<table border=\"1\" class=\"dataframe\">\n",
       "  <thead>\n",
       "    <tr style=\"text-align: right;\">\n",
       "      <th></th>\n",
       "      <th>publisher</th>\n",
       "    </tr>\n",
       "  </thead>\n",
       "  <tbody>\n",
       "    <tr>\n",
       "      <th>count</th>\n",
       "      <td>340</td>\n",
       "    </tr>\n",
       "    <tr>\n",
       "      <th>unique</th>\n",
       "      <td>340</td>\n",
       "    </tr>\n",
       "    <tr>\n",
       "      <th>top</th>\n",
       "      <td>HarperCollins Publishers</td>\n",
       "    </tr>\n",
       "    <tr>\n",
       "      <th>freq</th>\n",
       "      <td>1</td>\n",
       "    </tr>\n",
       "  </tbody>\n",
       "</table>\n",
       "</div>"
      ],
      "text/plain": [
       "                       publisher\n",
       "count                        340\n",
       "unique                       340\n",
       "top     HarperCollins Publishers\n",
       "freq                           1"
      ]
     },
     "metadata": {},
     "output_type": "display_data"
    },
    {
     "name": "stdout",
     "output_type": "stream",
     "text": [
      "\n",
      "------ Уникальные значения в файле ------\n"
     ]
    },
    {
     "data": {
      "text/plain": [
       "publisher_id    340\n",
       "publisher       340\n",
       "dtype: int64"
      ]
     },
     "metadata": {},
     "output_type": "display_data"
    },
    {
     "name": "stdout",
     "output_type": "stream",
     "text": [
      "\n",
      "------ Пропуски в файле ------\n"
     ]
    },
    {
     "data": {
      "text/plain": [
       "publisher_id    0\n",
       "publisher       0\n",
       "dtype: int64"
      ]
     },
     "metadata": {},
     "output_type": "display_data"
    },
    {
     "name": "stdout",
     "output_type": "stream",
     "text": [
      "\n",
      "------ Дубликаты в файле ------\n"
     ]
    },
    {
     "data": {
      "text/plain": [
       "0"
      ]
     },
     "metadata": {},
     "output_type": "display_data"
    }
   ],
   "source": [
    "get_info(\n",
    "    select(\n",
    "        '''\n",
    "            SELECT *\n",
    "            FROM publishers\n",
    "        '''\n",
    "    )\n",
    ")"
   ]
  },
  {
   "cell_type": "markdown",
   "metadata": {},
   "source": [
    "Пропуски и дубликаты отсутствуют."
   ]
  },
  {
   "cell_type": "code",
   "execution_count": 8,
   "metadata": {},
   "outputs": [
    {
     "data": {
      "text/html": [
       "<div>\n",
       "<style scoped>\n",
       "    .dataframe tbody tr th:only-of-type {\n",
       "        vertical-align: middle;\n",
       "    }\n",
       "\n",
       "    .dataframe tbody tr th {\n",
       "        vertical-align: top;\n",
       "    }\n",
       "\n",
       "    .dataframe thead th {\n",
       "        text-align: right;\n",
       "    }\n",
       "</style>\n",
       "<table border=\"1\" class=\"dataframe\">\n",
       "  <thead>\n",
       "    <tr style=\"text-align: right;\">\n",
       "      <th></th>\n",
       "      <th>publisher_id</th>\n",
       "      <th>publisher</th>\n",
       "    </tr>\n",
       "  </thead>\n",
       "  <tbody>\n",
       "    <tr>\n",
       "      <th>240</th>\n",
       "      <td>241</td>\n",
       "      <td>Random House Large Print Publishing</td>\n",
       "    </tr>\n",
       "    <tr>\n",
       "      <th>310</th>\n",
       "      <td>311</td>\n",
       "      <td>Vintage Books USA</td>\n",
       "    </tr>\n",
       "  </tbody>\n",
       "</table>\n",
       "</div>"
      ],
      "text/plain": [
       "     publisher_id                            publisher\n",
       "240           241  Random House Large Print Publishing\n",
       "310           311                    Vintage Books USA"
      ]
     },
     "execution_count": 8,
     "metadata": {},
     "output_type": "execute_result"
    }
   ],
   "source": [
    "# найдем издателей книги Memoirs of a Geisha\n",
    "publishers = select(\n",
    "        '''\n",
    "            SELECT *\n",
    "            FROM publishers\n",
    "        '''\n",
    "    )\n",
    "publishers.query('publisher_id == 241 or publisher_id == 311')"
   ]
  },
  {
   "cell_type": "markdown",
   "metadata": {},
   "source": [
    "Книга `Memoirs of a Geisha` было выпущено двумя издателями: `Random House Large Print Publishing` и `Vintage Books USA`."
   ]
  },
  {
   "cell_type": "markdown",
   "metadata": {},
   "source": [
    "### Таблица `ratings`"
   ]
  },
  {
   "cell_type": "code",
   "execution_count": 9,
   "metadata": {},
   "outputs": [
    {
     "name": "stdout",
     "output_type": "stream",
     "text": [
      "------ Первые 5 строк ------\n"
     ]
    },
    {
     "data": {
      "text/html": [
       "<div>\n",
       "<style scoped>\n",
       "    .dataframe tbody tr th:only-of-type {\n",
       "        vertical-align: middle;\n",
       "    }\n",
       "\n",
       "    .dataframe tbody tr th {\n",
       "        vertical-align: top;\n",
       "    }\n",
       "\n",
       "    .dataframe thead th {\n",
       "        text-align: right;\n",
       "    }\n",
       "</style>\n",
       "<table border=\"1\" class=\"dataframe\">\n",
       "  <thead>\n",
       "    <tr style=\"text-align: right;\">\n",
       "      <th></th>\n",
       "      <th>rating_id</th>\n",
       "      <th>book_id</th>\n",
       "      <th>username</th>\n",
       "      <th>rating</th>\n",
       "    </tr>\n",
       "  </thead>\n",
       "  <tbody>\n",
       "    <tr>\n",
       "      <th>0</th>\n",
       "      <td>1</td>\n",
       "      <td>1</td>\n",
       "      <td>ryanfranco</td>\n",
       "      <td>4</td>\n",
       "    </tr>\n",
       "    <tr>\n",
       "      <th>1</th>\n",
       "      <td>2</td>\n",
       "      <td>1</td>\n",
       "      <td>grantpatricia</td>\n",
       "      <td>2</td>\n",
       "    </tr>\n",
       "    <tr>\n",
       "      <th>2</th>\n",
       "      <td>3</td>\n",
       "      <td>1</td>\n",
       "      <td>brandtandrea</td>\n",
       "      <td>5</td>\n",
       "    </tr>\n",
       "    <tr>\n",
       "      <th>3</th>\n",
       "      <td>4</td>\n",
       "      <td>2</td>\n",
       "      <td>lorichen</td>\n",
       "      <td>3</td>\n",
       "    </tr>\n",
       "    <tr>\n",
       "      <th>4</th>\n",
       "      <td>5</td>\n",
       "      <td>2</td>\n",
       "      <td>mariokeller</td>\n",
       "      <td>2</td>\n",
       "    </tr>\n",
       "  </tbody>\n",
       "</table>\n",
       "</div>"
      ],
      "text/plain": [
       "   rating_id  book_id       username  rating\n",
       "0          1        1     ryanfranco       4\n",
       "1          2        1  grantpatricia       2\n",
       "2          3        1   brandtandrea       5\n",
       "3          4        2       lorichen       3\n",
       "4          5        2    mariokeller       2"
      ]
     },
     "metadata": {},
     "output_type": "display_data"
    },
    {
     "name": "stdout",
     "output_type": "stream",
     "text": [
      "\n",
      "------ Типы данных ------\n",
      "<class 'pandas.core.frame.DataFrame'>\n",
      "RangeIndex: 6456 entries, 0 to 6455\n",
      "Data columns (total 4 columns):\n",
      " #   Column     Non-Null Count  Dtype \n",
      "---  ------     --------------  ----- \n",
      " 0   rating_id  6456 non-null   int64 \n",
      " 1   book_id    6456 non-null   int64 \n",
      " 2   username   6456 non-null   object\n",
      " 3   rating     6456 non-null   int64 \n",
      "dtypes: int64(3), object(1)\n",
      "memory usage: 201.9+ KB\n",
      "\n"
     ]
    },
    {
     "data": {
      "text/html": [
       "<div>\n",
       "<style scoped>\n",
       "    .dataframe tbody tr th:only-of-type {\n",
       "        vertical-align: middle;\n",
       "    }\n",
       "\n",
       "    .dataframe tbody tr th {\n",
       "        vertical-align: top;\n",
       "    }\n",
       "\n",
       "    .dataframe thead th {\n",
       "        text-align: right;\n",
       "    }\n",
       "</style>\n",
       "<table border=\"1\" class=\"dataframe\">\n",
       "  <thead>\n",
       "    <tr style=\"text-align: right;\">\n",
       "      <th></th>\n",
       "      <th>rating_id</th>\n",
       "      <th>book_id</th>\n",
       "      <th>rating</th>\n",
       "    </tr>\n",
       "  </thead>\n",
       "  <tbody>\n",
       "    <tr>\n",
       "      <th>count</th>\n",
       "      <td>6456.000000</td>\n",
       "      <td>6456.000000</td>\n",
       "      <td>6456.000000</td>\n",
       "    </tr>\n",
       "    <tr>\n",
       "      <th>mean</th>\n",
       "      <td>3228.500000</td>\n",
       "      <td>510.574195</td>\n",
       "      <td>3.928284</td>\n",
       "    </tr>\n",
       "    <tr>\n",
       "      <th>std</th>\n",
       "      <td>1863.831001</td>\n",
       "      <td>284.141636</td>\n",
       "      <td>0.943303</td>\n",
       "    </tr>\n",
       "    <tr>\n",
       "      <th>min</th>\n",
       "      <td>1.000000</td>\n",
       "      <td>1.000000</td>\n",
       "      <td>1.000000</td>\n",
       "    </tr>\n",
       "    <tr>\n",
       "      <th>25%</th>\n",
       "      <td>1614.750000</td>\n",
       "      <td>291.000000</td>\n",
       "      <td>3.000000</td>\n",
       "    </tr>\n",
       "    <tr>\n",
       "      <th>50%</th>\n",
       "      <td>3228.500000</td>\n",
       "      <td>506.000000</td>\n",
       "      <td>4.000000</td>\n",
       "    </tr>\n",
       "    <tr>\n",
       "      <th>75%</th>\n",
       "      <td>4842.250000</td>\n",
       "      <td>750.000000</td>\n",
       "      <td>5.000000</td>\n",
       "    </tr>\n",
       "    <tr>\n",
       "      <th>max</th>\n",
       "      <td>6456.000000</td>\n",
       "      <td>1000.000000</td>\n",
       "      <td>5.000000</td>\n",
       "    </tr>\n",
       "  </tbody>\n",
       "</table>\n",
       "</div>"
      ],
      "text/plain": [
       "         rating_id      book_id       rating\n",
       "count  6456.000000  6456.000000  6456.000000\n",
       "mean   3228.500000   510.574195     3.928284\n",
       "std    1863.831001   284.141636     0.943303\n",
       "min       1.000000     1.000000     1.000000\n",
       "25%    1614.750000   291.000000     3.000000\n",
       "50%    3228.500000   506.000000     4.000000\n",
       "75%    4842.250000   750.000000     5.000000\n",
       "max    6456.000000  1000.000000     5.000000"
      ]
     },
     "metadata": {},
     "output_type": "display_data"
    },
    {
     "data": {
      "text/html": [
       "<div>\n",
       "<style scoped>\n",
       "    .dataframe tbody tr th:only-of-type {\n",
       "        vertical-align: middle;\n",
       "    }\n",
       "\n",
       "    .dataframe tbody tr th {\n",
       "        vertical-align: top;\n",
       "    }\n",
       "\n",
       "    .dataframe thead th {\n",
       "        text-align: right;\n",
       "    }\n",
       "</style>\n",
       "<table border=\"1\" class=\"dataframe\">\n",
       "  <thead>\n",
       "    <tr style=\"text-align: right;\">\n",
       "      <th></th>\n",
       "      <th>username</th>\n",
       "    </tr>\n",
       "  </thead>\n",
       "  <tbody>\n",
       "    <tr>\n",
       "      <th>count</th>\n",
       "      <td>6456</td>\n",
       "    </tr>\n",
       "    <tr>\n",
       "      <th>unique</th>\n",
       "      <td>160</td>\n",
       "    </tr>\n",
       "    <tr>\n",
       "      <th>top</th>\n",
       "      <td>paul88</td>\n",
       "    </tr>\n",
       "    <tr>\n",
       "      <th>freq</th>\n",
       "      <td>56</td>\n",
       "    </tr>\n",
       "  </tbody>\n",
       "</table>\n",
       "</div>"
      ],
      "text/plain": [
       "       username\n",
       "count      6456\n",
       "unique      160\n",
       "top      paul88\n",
       "freq         56"
      ]
     },
     "metadata": {},
     "output_type": "display_data"
    },
    {
     "name": "stdout",
     "output_type": "stream",
     "text": [
      "\n",
      "------ Уникальные значения в файле ------\n"
     ]
    },
    {
     "data": {
      "text/plain": [
       "rating_id    6456\n",
       "book_id      1000\n",
       "username      160\n",
       "rating          5\n",
       "dtype: int64"
      ]
     },
     "metadata": {},
     "output_type": "display_data"
    },
    {
     "name": "stdout",
     "output_type": "stream",
     "text": [
      "\n",
      "------ Пропуски в файле ------\n"
     ]
    },
    {
     "data": {
      "text/plain": [
       "rating_id    0\n",
       "book_id      0\n",
       "username     0\n",
       "rating       0\n",
       "dtype: int64"
      ]
     },
     "metadata": {},
     "output_type": "display_data"
    },
    {
     "name": "stdout",
     "output_type": "stream",
     "text": [
      "\n",
      "------ Дубликаты в файле ------\n"
     ]
    },
    {
     "data": {
      "text/plain": [
       "0"
      ]
     },
     "metadata": {},
     "output_type": "display_data"
    }
   ],
   "source": [
    "get_info(\n",
    "    select(\n",
    "        '''\n",
    "            SELECT *\n",
    "            FROM ratings\n",
    "        '''\n",
    "    )\n",
    ")"
   ]
  },
  {
   "cell_type": "markdown",
   "metadata": {},
   "source": [
    "Пропуски и дубликаты отсутствуют.  \n",
    "Наиболее активным оценщиком является пользователь под ником paul88, который 56 раз ставил оценки.  \n",
    "Всего уникальных пользователей 160.  \n",
    "Оценка осуществляется по 5-ти бальной системе."
   ]
  },
  {
   "cell_type": "markdown",
   "metadata": {},
   "source": [
    "### Таблица `reviews`"
   ]
  },
  {
   "cell_type": "code",
   "execution_count": 10,
   "metadata": {},
   "outputs": [
    {
     "name": "stdout",
     "output_type": "stream",
     "text": [
      "------ Первые 5 строк ------\n"
     ]
    },
    {
     "data": {
      "text/html": [
       "<div>\n",
       "<style scoped>\n",
       "    .dataframe tbody tr th:only-of-type {\n",
       "        vertical-align: middle;\n",
       "    }\n",
       "\n",
       "    .dataframe tbody tr th {\n",
       "        vertical-align: top;\n",
       "    }\n",
       "\n",
       "    .dataframe thead th {\n",
       "        text-align: right;\n",
       "    }\n",
       "</style>\n",
       "<table border=\"1\" class=\"dataframe\">\n",
       "  <thead>\n",
       "    <tr style=\"text-align: right;\">\n",
       "      <th></th>\n",
       "      <th>review_id</th>\n",
       "      <th>book_id</th>\n",
       "      <th>username</th>\n",
       "      <th>text</th>\n",
       "    </tr>\n",
       "  </thead>\n",
       "  <tbody>\n",
       "    <tr>\n",
       "      <th>0</th>\n",
       "      <td>1</td>\n",
       "      <td>1</td>\n",
       "      <td>brandtandrea</td>\n",
       "      <td>Mention society tell send professor analysis. ...</td>\n",
       "    </tr>\n",
       "    <tr>\n",
       "      <th>1</th>\n",
       "      <td>2</td>\n",
       "      <td>1</td>\n",
       "      <td>ryanfranco</td>\n",
       "      <td>Foot glass pretty audience hit themselves. Amo...</td>\n",
       "    </tr>\n",
       "    <tr>\n",
       "      <th>2</th>\n",
       "      <td>3</td>\n",
       "      <td>2</td>\n",
       "      <td>lorichen</td>\n",
       "      <td>Listen treat keep worry. Miss husband tax but ...</td>\n",
       "    </tr>\n",
       "    <tr>\n",
       "      <th>3</th>\n",
       "      <td>4</td>\n",
       "      <td>3</td>\n",
       "      <td>johnsonamanda</td>\n",
       "      <td>Finally month interesting blue could nature cu...</td>\n",
       "    </tr>\n",
       "    <tr>\n",
       "      <th>4</th>\n",
       "      <td>5</td>\n",
       "      <td>3</td>\n",
       "      <td>scotttamara</td>\n",
       "      <td>Nation purpose heavy give wait song will. List...</td>\n",
       "    </tr>\n",
       "  </tbody>\n",
       "</table>\n",
       "</div>"
      ],
      "text/plain": [
       "   review_id  book_id       username  \\\n",
       "0          1        1   brandtandrea   \n",
       "1          2        1     ryanfranco   \n",
       "2          3        2       lorichen   \n",
       "3          4        3  johnsonamanda   \n",
       "4          5        3    scotttamara   \n",
       "\n",
       "                                                text  \n",
       "0  Mention society tell send professor analysis. ...  \n",
       "1  Foot glass pretty audience hit themselves. Amo...  \n",
       "2  Listen treat keep worry. Miss husband tax but ...  \n",
       "3  Finally month interesting blue could nature cu...  \n",
       "4  Nation purpose heavy give wait song will. List...  "
      ]
     },
     "metadata": {},
     "output_type": "display_data"
    },
    {
     "name": "stdout",
     "output_type": "stream",
     "text": [
      "\n",
      "------ Типы данных ------\n",
      "<class 'pandas.core.frame.DataFrame'>\n",
      "RangeIndex: 2793 entries, 0 to 2792\n",
      "Data columns (total 4 columns):\n",
      " #   Column     Non-Null Count  Dtype \n",
      "---  ------     --------------  ----- \n",
      " 0   review_id  2793 non-null   int64 \n",
      " 1   book_id    2793 non-null   int64 \n",
      " 2   username   2793 non-null   object\n",
      " 3   text       2793 non-null   object\n",
      "dtypes: int64(2), object(2)\n",
      "memory usage: 87.4+ KB\n",
      "\n"
     ]
    },
    {
     "data": {
      "text/html": [
       "<div>\n",
       "<style scoped>\n",
       "    .dataframe tbody tr th:only-of-type {\n",
       "        vertical-align: middle;\n",
       "    }\n",
       "\n",
       "    .dataframe tbody tr th {\n",
       "        vertical-align: top;\n",
       "    }\n",
       "\n",
       "    .dataframe thead th {\n",
       "        text-align: right;\n",
       "    }\n",
       "</style>\n",
       "<table border=\"1\" class=\"dataframe\">\n",
       "  <thead>\n",
       "    <tr style=\"text-align: right;\">\n",
       "      <th></th>\n",
       "      <th>review_id</th>\n",
       "      <th>book_id</th>\n",
       "    </tr>\n",
       "  </thead>\n",
       "  <tbody>\n",
       "    <tr>\n",
       "      <th>count</th>\n",
       "      <td>2793.000000</td>\n",
       "      <td>2793.000000</td>\n",
       "    </tr>\n",
       "    <tr>\n",
       "      <th>mean</th>\n",
       "      <td>1397.000000</td>\n",
       "      <td>504.693161</td>\n",
       "    </tr>\n",
       "    <tr>\n",
       "      <th>std</th>\n",
       "      <td>806.413976</td>\n",
       "      <td>288.472931</td>\n",
       "    </tr>\n",
       "    <tr>\n",
       "      <th>min</th>\n",
       "      <td>1.000000</td>\n",
       "      <td>1.000000</td>\n",
       "    </tr>\n",
       "    <tr>\n",
       "      <th>25%</th>\n",
       "      <td>699.000000</td>\n",
       "      <td>259.000000</td>\n",
       "    </tr>\n",
       "    <tr>\n",
       "      <th>50%</th>\n",
       "      <td>1397.000000</td>\n",
       "      <td>505.000000</td>\n",
       "    </tr>\n",
       "    <tr>\n",
       "      <th>75%</th>\n",
       "      <td>2095.000000</td>\n",
       "      <td>753.000000</td>\n",
       "    </tr>\n",
       "    <tr>\n",
       "      <th>max</th>\n",
       "      <td>2793.000000</td>\n",
       "      <td>1000.000000</td>\n",
       "    </tr>\n",
       "  </tbody>\n",
       "</table>\n",
       "</div>"
      ],
      "text/plain": [
       "         review_id      book_id\n",
       "count  2793.000000  2793.000000\n",
       "mean   1397.000000   504.693161\n",
       "std     806.413976   288.472931\n",
       "min       1.000000     1.000000\n",
       "25%     699.000000   259.000000\n",
       "50%    1397.000000   505.000000\n",
       "75%    2095.000000   753.000000\n",
       "max    2793.000000  1000.000000"
      ]
     },
     "metadata": {},
     "output_type": "display_data"
    },
    {
     "data": {
      "text/html": [
       "<div>\n",
       "<style scoped>\n",
       "    .dataframe tbody tr th:only-of-type {\n",
       "        vertical-align: middle;\n",
       "    }\n",
       "\n",
       "    .dataframe tbody tr th {\n",
       "        vertical-align: top;\n",
       "    }\n",
       "\n",
       "    .dataframe thead th {\n",
       "        text-align: right;\n",
       "    }\n",
       "</style>\n",
       "<table border=\"1\" class=\"dataframe\">\n",
       "  <thead>\n",
       "    <tr style=\"text-align: right;\">\n",
       "      <th></th>\n",
       "      <th>username</th>\n",
       "      <th>text</th>\n",
       "    </tr>\n",
       "  </thead>\n",
       "  <tbody>\n",
       "    <tr>\n",
       "      <th>count</th>\n",
       "      <td>2793</td>\n",
       "      <td>2793</td>\n",
       "    </tr>\n",
       "    <tr>\n",
       "      <th>unique</th>\n",
       "      <td>160</td>\n",
       "      <td>2793</td>\n",
       "    </tr>\n",
       "    <tr>\n",
       "      <th>top</th>\n",
       "      <td>susan85</td>\n",
       "      <td>Language win analysis research debate life the...</td>\n",
       "    </tr>\n",
       "    <tr>\n",
       "      <th>freq</th>\n",
       "      <td>29</td>\n",
       "      <td>1</td>\n",
       "    </tr>\n",
       "  </tbody>\n",
       "</table>\n",
       "</div>"
      ],
      "text/plain": [
       "       username                                               text\n",
       "count      2793                                               2793\n",
       "unique      160                                               2793\n",
       "top     susan85  Language win analysis research debate life the...\n",
       "freq         29                                                  1"
      ]
     },
     "metadata": {},
     "output_type": "display_data"
    },
    {
     "name": "stdout",
     "output_type": "stream",
     "text": [
      "\n",
      "------ Уникальные значения в файле ------\n"
     ]
    },
    {
     "data": {
      "text/plain": [
       "review_id    2793\n",
       "book_id       994\n",
       "username      160\n",
       "text         2793\n",
       "dtype: int64"
      ]
     },
     "metadata": {},
     "output_type": "display_data"
    },
    {
     "name": "stdout",
     "output_type": "stream",
     "text": [
      "\n",
      "------ Пропуски в файле ------\n"
     ]
    },
    {
     "data": {
      "text/plain": [
       "review_id    0\n",
       "book_id      0\n",
       "username     0\n",
       "text         0\n",
       "dtype: int64"
      ]
     },
     "metadata": {},
     "output_type": "display_data"
    },
    {
     "name": "stdout",
     "output_type": "stream",
     "text": [
      "\n",
      "------ Дубликаты в файле ------\n"
     ]
    },
    {
     "data": {
      "text/plain": [
       "0"
      ]
     },
     "metadata": {},
     "output_type": "display_data"
    }
   ],
   "source": [
    "get_info(\n",
    "    select(\n",
    "        '''\n",
    "            SELECT *\n",
    "            FROM reviews\n",
    "        '''\n",
    "    )\n",
    ")"
   ]
  },
  {
   "cell_type": "markdown",
   "metadata": {},
   "source": [
    "Пропуски и дубликаты отсутствуют.  \n",
    "Наиболее активным ревьюером является пользователь под ником susan85, который 29 раз оставляла обзоры.  \n",
    "Всего уникальных пользователей 160."
   ]
  },
  {
   "cell_type": "markdown",
   "metadata": {},
   "source": [
    "## Задания"
   ]
  },
  {
   "cell_type": "markdown",
   "metadata": {},
   "source": [
    "### Количество книг, вышедших после 1 января 2000 года"
   ]
  },
  {
   "cell_type": "code",
   "execution_count": 12,
   "metadata": {},
   "outputs": [
    {
     "data": {
      "text/html": [
       "<div>\n",
       "<style scoped>\n",
       "    .dataframe tbody tr th:only-of-type {\n",
       "        vertical-align: middle;\n",
       "    }\n",
       "\n",
       "    .dataframe tbody tr th {\n",
       "        vertical-align: top;\n",
       "    }\n",
       "\n",
       "    .dataframe thead th {\n",
       "        text-align: right;\n",
       "    }\n",
       "</style>\n",
       "<table border=\"1\" class=\"dataframe\">\n",
       "  <thead>\n",
       "    <tr style=\"text-align: right;\">\n",
       "      <th></th>\n",
       "      <th>books_count</th>\n",
       "    </tr>\n",
       "  </thead>\n",
       "  <tbody>\n",
       "    <tr>\n",
       "      <th>0</th>\n",
       "      <td>819</td>\n",
       "    </tr>\n",
       "  </tbody>\n",
       "</table>\n",
       "</div>"
      ],
      "text/plain": [
       "   books_count\n",
       "0          819"
      ]
     },
     "execution_count": 12,
     "metadata": {},
     "output_type": "execute_result"
    }
   ],
   "source": [
    "select(\n",
    "    '''\n",
    "        SELECT COUNT(book_id) AS books_count\n",
    "        FROM books\n",
    "        WHERE publication_date > '01-01-2000'\n",
    "    '''\n",
    ")"
   ]
  },
  {
   "cell_type": "markdown",
   "metadata": {},
   "source": [
    "После 1 января 2000 года всего было выпущено 819 книг."
   ]
  },
  {
   "cell_type": "markdown",
   "metadata": {},
   "source": [
    "### Количество обзоров и средняя оценка каждой книги"
   ]
  },
  {
   "cell_type": "code",
   "execution_count": 13,
   "metadata": {},
   "outputs": [
    {
     "data": {
      "text/html": [
       "<div>\n",
       "<style scoped>\n",
       "    .dataframe tbody tr th:only-of-type {\n",
       "        vertical-align: middle;\n",
       "    }\n",
       "\n",
       "    .dataframe tbody tr th {\n",
       "        vertical-align: top;\n",
       "    }\n",
       "\n",
       "    .dataframe thead th {\n",
       "        text-align: right;\n",
       "    }\n",
       "</style>\n",
       "<table border=\"1\" class=\"dataframe\">\n",
       "  <thead>\n",
       "    <tr style=\"text-align: right;\">\n",
       "      <th></th>\n",
       "      <th>book_id</th>\n",
       "      <th>title</th>\n",
       "      <th>reviews_count</th>\n",
       "      <th>avg_rating</th>\n",
       "    </tr>\n",
       "  </thead>\n",
       "  <tbody>\n",
       "    <tr>\n",
       "      <th>0</th>\n",
       "      <td>948</td>\n",
       "      <td>Twilight (Twilight  #1)</td>\n",
       "      <td>7</td>\n",
       "      <td>3.66</td>\n",
       "    </tr>\n",
       "    <tr>\n",
       "      <th>1</th>\n",
       "      <td>302</td>\n",
       "      <td>Harry Potter and the Prisoner of Azkaban (Harr...</td>\n",
       "      <td>6</td>\n",
       "      <td>4.41</td>\n",
       "    </tr>\n",
       "    <tr>\n",
       "      <th>2</th>\n",
       "      <td>299</td>\n",
       "      <td>Harry Potter and the Chamber of Secrets (Harry...</td>\n",
       "      <td>6</td>\n",
       "      <td>4.29</td>\n",
       "    </tr>\n",
       "    <tr>\n",
       "      <th>3</th>\n",
       "      <td>656</td>\n",
       "      <td>The Book Thief</td>\n",
       "      <td>6</td>\n",
       "      <td>4.26</td>\n",
       "    </tr>\n",
       "    <tr>\n",
       "      <th>4</th>\n",
       "      <td>734</td>\n",
       "      <td>The Glass Castle</td>\n",
       "      <td>6</td>\n",
       "      <td>4.21</td>\n",
       "    </tr>\n",
       "  </tbody>\n",
       "</table>\n",
       "</div>"
      ],
      "text/plain": [
       "   book_id                                              title  reviews_count  \\\n",
       "0      948                            Twilight (Twilight  #1)              7   \n",
       "1      302  Harry Potter and the Prisoner of Azkaban (Harr...              6   \n",
       "2      299  Harry Potter and the Chamber of Secrets (Harry...              6   \n",
       "3      656                                     The Book Thief              6   \n",
       "4      734                                   The Glass Castle              6   \n",
       "\n",
       "   avg_rating  \n",
       "0        3.66  \n",
       "1        4.41  \n",
       "2        4.29  \n",
       "3        4.26  \n",
       "4        4.21  "
      ]
     },
     "execution_count": 13,
     "metadata": {},
     "output_type": "execute_result"
    }
   ],
   "source": [
    "select(\n",
    "    '''\n",
    "        SELECT b.book_id,\n",
    "            b.title,\n",
    "            COUNT(DISTINCT reviews.review_id) AS reviews_count,\n",
    "            ROUND(AVG(ratings.rating),2) AS avg_rating\n",
    "        FROM books AS b\n",
    "        FULL JOIN reviews ON reviews.book_id = b.book_id\n",
    "        FULL JOIN ratings ON ratings.book_id = b.book_id\n",
    "        GROUP BY b.book_id\n",
    "        ORDER BY reviews_count DESC,\n",
    "                avg_rating DESC\n",
    "        LIMIT 5\n",
    "    '''\n",
    ")"
   ]
  },
  {
   "cell_type": "markdown",
   "metadata": {},
   "source": [
    "Количество обзоров на книги варьируется от 0 до 7, рейтинг от 1.50 до 5.00:\n",
    "- максимальное количество обзоров у книги - Twilight (Twilight #1) - 7;\n",
    "- минимальный средний рейтинг у книги Harvesting the Heart - 1.50.\n"
   ]
  },
  {
   "cell_type": "markdown",
   "metadata": {},
   "source": [
    "### Издательство, которое выпустило наибольшее число книг толще 50 страниц"
   ]
  },
  {
   "cell_type": "code",
   "execution_count": 14,
   "metadata": {},
   "outputs": [
    {
     "data": {
      "text/html": [
       "<div>\n",
       "<style scoped>\n",
       "    .dataframe tbody tr th:only-of-type {\n",
       "        vertical-align: middle;\n",
       "    }\n",
       "\n",
       "    .dataframe tbody tr th {\n",
       "        vertical-align: top;\n",
       "    }\n",
       "\n",
       "    .dataframe thead th {\n",
       "        text-align: right;\n",
       "    }\n",
       "</style>\n",
       "<table border=\"1\" class=\"dataframe\">\n",
       "  <thead>\n",
       "    <tr style=\"text-align: right;\">\n",
       "      <th></th>\n",
       "      <th>publisher</th>\n",
       "      <th>books_count</th>\n",
       "    </tr>\n",
       "  </thead>\n",
       "  <tbody>\n",
       "    <tr>\n",
       "      <th>0</th>\n",
       "      <td>Penguin Books</td>\n",
       "      <td>42</td>\n",
       "    </tr>\n",
       "    <tr>\n",
       "      <th>1</th>\n",
       "      <td>Vintage</td>\n",
       "      <td>31</td>\n",
       "    </tr>\n",
       "    <tr>\n",
       "      <th>2</th>\n",
       "      <td>Grand Central Publishing</td>\n",
       "      <td>25</td>\n",
       "    </tr>\n",
       "    <tr>\n",
       "      <th>3</th>\n",
       "      <td>Penguin Classics</td>\n",
       "      <td>24</td>\n",
       "    </tr>\n",
       "    <tr>\n",
       "      <th>4</th>\n",
       "      <td>Bantam</td>\n",
       "      <td>19</td>\n",
       "    </tr>\n",
       "  </tbody>\n",
       "</table>\n",
       "</div>"
      ],
      "text/plain": [
       "                  publisher  books_count\n",
       "0             Penguin Books           42\n",
       "1                   Vintage           31\n",
       "2  Grand Central Publishing           25\n",
       "3          Penguin Classics           24\n",
       "4                    Bantam           19"
      ]
     },
     "execution_count": 14,
     "metadata": {},
     "output_type": "execute_result"
    }
   ],
   "source": [
    "select(\n",
    "    '''\n",
    "        SELECT p.publisher,\n",
    "            COUNT(books.book_id) AS books_count\n",
    "        FROM publishers AS p\n",
    "        FULL JOIN books ON books.publisher_id = p.publisher_id\n",
    "        WHERE books.num_pages > 50\n",
    "        GROUP BY p.publisher\n",
    "        ORDER BY books_count DESC\n",
    "        LIMIT 5\n",
    "    '''\n",
    ")"
   ]
  },
  {
   "cell_type": "markdown",
   "metadata": {},
   "source": [
    "Нибольшее число книг толще 50 страниц выпустило издательство Penguin Books, всего - 42 книги."
   ]
  },
  {
   "cell_type": "markdown",
   "metadata": {},
   "source": [
    "### Автор с самой высокой средней оценкой книг (книги с 50 и более оценками)"
   ]
  },
  {
   "cell_type": "code",
   "execution_count": 15,
   "metadata": {},
   "outputs": [
    {
     "data": {
      "text/html": [
       "<div>\n",
       "<style scoped>\n",
       "    .dataframe tbody tr th:only-of-type {\n",
       "        vertical-align: middle;\n",
       "    }\n",
       "\n",
       "    .dataframe tbody tr th {\n",
       "        vertical-align: top;\n",
       "    }\n",
       "\n",
       "    .dataframe thead th {\n",
       "        text-align: right;\n",
       "    }\n",
       "</style>\n",
       "<table border=\"1\" class=\"dataframe\">\n",
       "  <thead>\n",
       "    <tr style=\"text-align: right;\">\n",
       "      <th></th>\n",
       "      <th>author</th>\n",
       "      <th>avg_rating</th>\n",
       "    </tr>\n",
       "  </thead>\n",
       "  <tbody>\n",
       "    <tr>\n",
       "      <th>0</th>\n",
       "      <td>J.K. Rowling/Mary GrandPré</td>\n",
       "      <td>4.28</td>\n",
       "    </tr>\n",
       "    <tr>\n",
       "      <th>1</th>\n",
       "      <td>Markus Zusak/Cao Xuân Việt Khương</td>\n",
       "      <td>4.26</td>\n",
       "    </tr>\n",
       "    <tr>\n",
       "      <th>2</th>\n",
       "      <td>J.R.R. Tolkien</td>\n",
       "      <td>4.26</td>\n",
       "    </tr>\n",
       "    <tr>\n",
       "      <th>3</th>\n",
       "      <td>Louisa May Alcott</td>\n",
       "      <td>4.19</td>\n",
       "    </tr>\n",
       "    <tr>\n",
       "      <th>4</th>\n",
       "      <td>Rick Riordan</td>\n",
       "      <td>4.08</td>\n",
       "    </tr>\n",
       "  </tbody>\n",
       "</table>\n",
       "</div>"
      ],
      "text/plain": [
       "                              author  avg_rating\n",
       "0         J.K. Rowling/Mary GrandPré        4.28\n",
       "1  Markus Zusak/Cao Xuân Việt Khương        4.26\n",
       "2                     J.R.R. Tolkien        4.26\n",
       "3                  Louisa May Alcott        4.19\n",
       "4                       Rick Riordan        4.08"
      ]
     },
     "execution_count": 15,
     "metadata": {},
     "output_type": "execute_result"
    }
   ],
   "source": [
    "select(\n",
    "    '''\n",
    "        SELECT i.author,\n",
    "            ROUND(AVG(i.avg_rating),2) AS avg_rating\n",
    "        FROM \n",
    "            (SELECT authors.author,\n",
    "                books.book_id,\n",
    "                AVG(ratings.rating) AS avg_rating\n",
    "             FROM authors\n",
    "             FULL JOIN books ON books.author_id = authors.author_id\n",
    "             FULL JOIN ratings ON ratings.book_id = books.book_id\n",
    "             GROUP BY author,\n",
    "                 books.book_id\n",
    "             HAVING COUNT (ratings.rating) >= 50\n",
    "            ) AS i\n",
    "        GROUP BY author\n",
    "        ORDER BY avg_rating DESC\n",
    "        LIMIT 5\n",
    "    '''\n",
    ")"
   ]
  },
  {
   "cell_type": "markdown",
   "metadata": {},
   "source": [
    "Автором с самой высокой средней оценкой книг (книги с 50 и более оценками) является J.K. Rowling/Mary GrandPré, средняя оценка - 4,28."
   ]
  },
  {
   "cell_type": "markdown",
   "metadata": {},
   "source": [
    "### Среднее количество обзоров от пользователей, которые поставили больше 50 оценок"
   ]
  },
  {
   "cell_type": "code",
   "execution_count": 16,
   "metadata": {},
   "outputs": [
    {
     "data": {
      "text/html": [
       "<div>\n",
       "<style scoped>\n",
       "    .dataframe tbody tr th:only-of-type {\n",
       "        vertical-align: middle;\n",
       "    }\n",
       "\n",
       "    .dataframe tbody tr th {\n",
       "        vertical-align: top;\n",
       "    }\n",
       "\n",
       "    .dataframe thead th {\n",
       "        text-align: right;\n",
       "    }\n",
       "</style>\n",
       "<table border=\"1\" class=\"dataframe\">\n",
       "  <thead>\n",
       "    <tr style=\"text-align: right;\">\n",
       "      <th></th>\n",
       "      <th>avg_reviews</th>\n",
       "    </tr>\n",
       "  </thead>\n",
       "  <tbody>\n",
       "    <tr>\n",
       "      <th>0</th>\n",
       "      <td>24.0</td>\n",
       "    </tr>\n",
       "  </tbody>\n",
       "</table>\n",
       "</div>"
      ],
      "text/plain": [
       "   avg_reviews\n",
       "0         24.0"
      ]
     },
     "execution_count": 16,
     "metadata": {},
     "output_type": "execute_result"
    }
   ],
   "source": [
    "select(\n",
    "    '''\n",
    "        SELECT ROUND(AVG(i.reviews_count)) AS avg_reviews\n",
    "        FROM \n",
    "            (SELECT COUNT(reviews.review_id) AS reviews_count\n",
    "             FROM reviews\n",
    "             WHERE username IN\n",
    "                 (SELECT username\n",
    "                  FROM ratings\n",
    "                  GROUP BY username\n",
    "                  HAVING COUNT(rating_id) > 50\n",
    "                  )\n",
    "             GROUP BY username\n",
    "            ) AS i\n",
    "    '''\n",
    ")"
   ]
  },
  {
   "cell_type": "markdown",
   "metadata": {},
   "source": [
    "Среднее количество обзоров от пользователей, которые поставили больше 50 оценок, составляет 24."
   ]
  },
  {
   "cell_type": "markdown",
   "metadata": {},
   "source": [
    "## Общее заключение"
   ]
  },
  {
   "cell_type": "markdown",
   "metadata": {},
   "source": [
    "- После 1 января 2000 года всего было выпущено 819 книг;\n",
    "- Количество обзоров на книги варьируется от 0 до 7, рейтинг от 1.50 до 5.00;\n",
    "- Максимальное количество обзоров у книги - Twilight (Twilight #1) - 7;\n",
    "- Минимальный средний рейтинг у книги Harvesting the Heart - 1.50;\n",
    "- Нибольшее число книг выпустило издательство Penguin Books, всего - 42 книги;\n",
    "- Автором с самой высокой средней оценкой книг (книги с 50 и более оценками) является J.K. Rowling/Mary GrandPré, средняя оценка - 4,28;\n",
    "- Среднее количество обзоров от пользователей, которые поставили больше 50 оценок, составляет 24."
   ]
  }
 ],
 "metadata": {
  "ExecuteTimeLog": [
   {
    "duration": 48,
    "start_time": "2022-08-15T11:52:42.655Z"
   },
   {
    "duration": 9523,
    "start_time": "2022-08-15T11:52:48.268Z"
   },
   {
    "duration": 76,
    "start_time": "2022-08-15T11:53:02.756Z"
   },
   {
    "duration": 95,
    "start_time": "2022-08-15T11:56:45.678Z"
   },
   {
    "duration": 3,
    "start_time": "2022-08-15T11:56:49.032Z"
   },
   {
    "duration": 18,
    "start_time": "2022-08-15T11:56:50.765Z"
   },
   {
    "duration": 4,
    "start_time": "2022-08-15T11:57:43.626Z"
   },
   {
    "duration": 161,
    "start_time": "2022-08-15T11:57:50.217Z"
   },
   {
    "duration": 105,
    "start_time": "2022-08-15T11:58:11.019Z"
   },
   {
    "duration": 3,
    "start_time": "2022-08-15T11:58:14.713Z"
   },
   {
    "duration": 98,
    "start_time": "2022-08-15T11:58:16.389Z"
   },
   {
    "duration": 19,
    "start_time": "2022-08-15T11:58:50.236Z"
   },
   {
    "duration": 2,
    "start_time": "2022-08-15T11:59:35.514Z"
   },
   {
    "duration": 11,
    "start_time": "2022-08-15T11:59:36.894Z"
   },
   {
    "duration": 12,
    "start_time": "2022-08-15T11:59:44.445Z"
   },
   {
    "duration": 11,
    "start_time": "2022-08-15T11:59:50.546Z"
   },
   {
    "duration": 17,
    "start_time": "2022-08-15T11:59:55.043Z"
   },
   {
    "duration": 3,
    "start_time": "2022-08-15T12:00:02.809Z"
   },
   {
    "duration": 20,
    "start_time": "2022-08-15T12:00:05.270Z"
   },
   {
    "duration": 16,
    "start_time": "2022-08-15T12:00:09.652Z"
   },
   {
    "duration": 9,
    "start_time": "2022-08-15T12:00:50.162Z"
   },
   {
    "duration": 14,
    "start_time": "2022-08-15T12:01:03.353Z"
   },
   {
    "duration": 13,
    "start_time": "2022-08-15T12:01:43.486Z"
   },
   {
    "duration": 11,
    "start_time": "2022-08-15T12:02:14.309Z"
   },
   {
    "duration": 12,
    "start_time": "2022-08-15T12:02:24.909Z"
   },
   {
    "duration": 11,
    "start_time": "2022-08-15T12:02:49.189Z"
   },
   {
    "duration": 12,
    "start_time": "2022-08-15T12:02:50.713Z"
   },
   {
    "duration": 102,
    "start_time": "2022-08-15T12:07:44.421Z"
   },
   {
    "duration": 10,
    "start_time": "2022-08-15T12:07:58.272Z"
   },
   {
    "duration": 114,
    "start_time": "2022-08-15T12:14:44.358Z"
   },
   {
    "duration": 104,
    "start_time": "2022-08-15T12:15:56.449Z"
   },
   {
    "duration": 142,
    "start_time": "2022-08-15T12:16:03.935Z"
   },
   {
    "duration": 102,
    "start_time": "2022-08-15T12:16:21.863Z"
   },
   {
    "duration": 101,
    "start_time": "2022-08-15T12:16:34.351Z"
   },
   {
    "duration": 104,
    "start_time": "2022-08-15T12:16:55.157Z"
   },
   {
    "duration": 108,
    "start_time": "2022-08-15T12:17:01.440Z"
   },
   {
    "duration": 25,
    "start_time": "2022-08-15T12:17:03.348Z"
   },
   {
    "duration": 23,
    "start_time": "2022-08-15T12:17:25.544Z"
   },
   {
    "duration": 22,
    "start_time": "2022-08-15T12:17:47.386Z"
   },
   {
    "duration": 21,
    "start_time": "2022-08-15T12:17:51.858Z"
   },
   {
    "duration": 24,
    "start_time": "2022-08-15T12:17:55.241Z"
   },
   {
    "duration": 22,
    "start_time": "2022-08-15T12:18:06.641Z"
   },
   {
    "duration": 24,
    "start_time": "2022-08-15T12:18:23.476Z"
   },
   {
    "duration": 22,
    "start_time": "2022-08-15T12:18:59.612Z"
   },
   {
    "duration": 22,
    "start_time": "2022-08-15T12:21:35.096Z"
   },
   {
    "duration": 26,
    "start_time": "2022-08-15T12:21:54.565Z"
   },
   {
    "duration": 24,
    "start_time": "2022-08-15T12:22:05.597Z"
   },
   {
    "duration": 11,
    "start_time": "2022-08-15T12:25:25.279Z"
   },
   {
    "duration": 13,
    "start_time": "2022-08-15T12:25:44.816Z"
   },
   {
    "duration": 10,
    "start_time": "2022-08-15T12:25:47.812Z"
   },
   {
    "duration": 14,
    "start_time": "2022-08-15T12:26:19.233Z"
   },
   {
    "duration": 22,
    "start_time": "2022-08-15T12:28:05.061Z"
   },
   {
    "duration": 26,
    "start_time": "2022-08-15T12:28:11.294Z"
   },
   {
    "duration": 26,
    "start_time": "2022-08-15T12:28:57.185Z"
   },
   {
    "duration": 27,
    "start_time": "2022-08-15T12:29:45.100Z"
   },
   {
    "duration": 27,
    "start_time": "2022-08-15T12:29:54.969Z"
   },
   {
    "duration": 29,
    "start_time": "2022-08-15T12:30:02.048Z"
   },
   {
    "duration": 28,
    "start_time": "2022-08-15T12:30:16.860Z"
   },
   {
    "duration": 28,
    "start_time": "2022-08-15T12:30:26.527Z"
   },
   {
    "duration": 25,
    "start_time": "2022-08-15T12:30:29.678Z"
   },
   {
    "duration": 16,
    "start_time": "2022-08-15T12:35:16.182Z"
   },
   {
    "duration": 13,
    "start_time": "2022-08-15T12:35:26.066Z"
   },
   {
    "duration": 3,
    "start_time": "2022-08-15T12:36:12.758Z"
   },
   {
    "duration": 21,
    "start_time": "2022-08-15T12:36:16.743Z"
   },
   {
    "duration": 2,
    "start_time": "2022-08-15T12:36:23.298Z"
   },
   {
    "duration": 20,
    "start_time": "2022-08-15T12:36:25.161Z"
   },
   {
    "duration": 3,
    "start_time": "2022-08-15T12:36:34.072Z"
   },
   {
    "duration": 20,
    "start_time": "2022-08-15T12:36:35.776Z"
   },
   {
    "duration": 3,
    "start_time": "2022-08-15T12:36:41.699Z"
   },
   {
    "duration": 24,
    "start_time": "2022-08-15T12:36:43.083Z"
   },
   {
    "duration": 3,
    "start_time": "2022-08-15T12:36:57.447Z"
   },
   {
    "duration": 20,
    "start_time": "2022-08-15T12:37:00.213Z"
   },
   {
    "duration": 3,
    "start_time": "2022-08-15T12:37:14.160Z"
   },
   {
    "duration": 23,
    "start_time": "2022-08-15T12:37:15.837Z"
   },
   {
    "duration": 2,
    "start_time": "2022-08-15T12:37:57.183Z"
   },
   {
    "duration": 24,
    "start_time": "2022-08-15T12:37:58.558Z"
   },
   {
    "duration": 3,
    "start_time": "2022-08-15T12:38:10.937Z"
   },
   {
    "duration": 25,
    "start_time": "2022-08-15T12:38:12.210Z"
   },
   {
    "duration": 19,
    "start_time": "2022-08-15T12:38:14.653Z"
   },
   {
    "duration": 17,
    "start_time": "2022-08-15T12:38:17.572Z"
   },
   {
    "duration": 97,
    "start_time": "2022-08-15T12:38:23.512Z"
   },
   {
    "duration": 29,
    "start_time": "2022-08-15T12:38:27.459Z"
   },
   {
    "duration": 6,
    "start_time": "2022-08-15T12:39:58.219Z"
   },
   {
    "duration": 64,
    "start_time": "2022-08-15T12:39:59.888Z"
   },
   {
    "duration": 37,
    "start_time": "2022-08-15T12:41:10.427Z"
   },
   {
    "duration": 36,
    "start_time": "2022-08-15T12:41:28.793Z"
   },
   {
    "duration": 11,
    "start_time": "2022-08-15T12:43:06.653Z"
   },
   {
    "duration": 12,
    "start_time": "2022-08-15T12:43:36.179Z"
   },
   {
    "duration": 51,
    "start_time": "2022-08-15T12:46:34.689Z"
   },
   {
    "duration": 5,
    "start_time": "2022-08-15T12:49:30.521Z"
   },
   {
    "duration": 58,
    "start_time": "2022-08-15T12:49:32.615Z"
   },
   {
    "duration": 11,
    "start_time": "2022-08-15T12:49:46.231Z"
   },
   {
    "duration": 43,
    "start_time": "2022-08-15T12:49:48.619Z"
   },
   {
    "duration": 41,
    "start_time": "2022-08-15T12:49:56.524Z"
   },
   {
    "duration": 64,
    "start_time": "2022-08-15T12:50:06.571Z"
   },
   {
    "duration": 67,
    "start_time": "2022-08-15T12:51:31.418Z"
   },
   {
    "duration": 122,
    "start_time": "2022-08-15T12:57:27.928Z"
   },
   {
    "duration": 108,
    "start_time": "2022-08-15T12:57:48.528Z"
   },
   {
    "duration": 41,
    "start_time": "2022-08-15T12:57:55.803Z"
   },
   {
    "duration": 4,
    "start_time": "2022-08-15T12:59:21.987Z"
   },
   {
    "duration": 23,
    "start_time": "2022-08-15T12:59:23.733Z"
   },
   {
    "duration": 16,
    "start_time": "2022-08-15T12:59:45.367Z"
   },
   {
    "duration": 5,
    "start_time": "2022-08-15T12:59:50.277Z"
   },
   {
    "duration": 62,
    "start_time": "2022-08-15T12:59:51.504Z"
   },
   {
    "duration": 8,
    "start_time": "2022-08-15T13:00:26.183Z"
   },
   {
    "duration": 9,
    "start_time": "2022-08-15T13:00:32.953Z"
   },
   {
    "duration": 15,
    "start_time": "2022-08-15T13:00:44.534Z"
   },
   {
    "duration": 5,
    "start_time": "2022-08-15T13:00:49.559Z"
   },
   {
    "duration": 45,
    "start_time": "2022-08-15T13:01:01.264Z"
   },
   {
    "duration": 60,
    "start_time": "2022-08-15T13:01:13.477Z"
   },
   {
    "duration": 49,
    "start_time": "2022-08-15T13:01:51.586Z"
   },
   {
    "duration": 66,
    "start_time": "2022-08-15T13:02:06.187Z"
   },
   {
    "duration": 60,
    "start_time": "2022-08-15T13:02:22.564Z"
   },
   {
    "duration": 10,
    "start_time": "2022-08-15T13:02:27.929Z"
   },
   {
    "duration": 26,
    "start_time": "2022-08-15T13:02:31.137Z"
   },
   {
    "duration": 13,
    "start_time": "2022-08-15T13:02:34.284Z"
   },
   {
    "duration": 101,
    "start_time": "2022-08-15T13:14:50.779Z"
   },
   {
    "duration": 240,
    "start_time": "2022-08-15T13:15:01.521Z"
   },
   {
    "duration": 17,
    "start_time": "2022-08-15T13:15:05.594Z"
   },
   {
    "duration": 445,
    "start_time": "2022-08-15T13:21:07.198Z"
   },
   {
    "duration": 15,
    "start_time": "2022-08-15T13:21:30.431Z"
   },
   {
    "duration": 16,
    "start_time": "2022-08-15T13:27:34.633Z"
   },
   {
    "duration": 13,
    "start_time": "2022-08-15T13:29:51.625Z"
   },
   {
    "duration": 13,
    "start_time": "2022-08-15T13:29:55.428Z"
   },
   {
    "duration": 13,
    "start_time": "2022-08-15T13:30:01.071Z"
   },
   {
    "duration": 14,
    "start_time": "2022-08-15T13:31:21.549Z"
   },
   {
    "duration": 27,
    "start_time": "2022-08-15T13:31:37.922Z"
   },
   {
    "duration": 15,
    "start_time": "2022-08-15T13:32:23.813Z"
   },
   {
    "duration": 108,
    "start_time": "2022-08-15T13:33:04.741Z"
   },
   {
    "duration": 27,
    "start_time": "2022-08-15T13:33:07.970Z"
   },
   {
    "duration": 27,
    "start_time": "2022-08-15T13:33:35.568Z"
   },
   {
    "duration": 26,
    "start_time": "2022-08-15T13:33:41.217Z"
   },
   {
    "duration": 11,
    "start_time": "2022-08-15T13:36:52.174Z"
   },
   {
    "duration": 9,
    "start_time": "2022-08-15T13:36:54.623Z"
   },
   {
    "duration": 73,
    "start_time": "2022-08-15T13:38:28.392Z"
   },
   {
    "duration": 8,
    "start_time": "2022-08-15T13:38:34.332Z"
   },
   {
    "duration": 12,
    "start_time": "2022-08-15T13:38:37.514Z"
   },
   {
    "duration": 9,
    "start_time": "2022-08-15T13:38:39.107Z"
   },
   {
    "duration": 7,
    "start_time": "2022-08-15T13:38:52.182Z"
   },
   {
    "duration": 7,
    "start_time": "2022-08-15T13:38:59.887Z"
   },
   {
    "duration": 15,
    "start_time": "2022-08-15T13:39:01.837Z"
   },
   {
    "duration": 8,
    "start_time": "2022-08-15T13:39:03.608Z"
   },
   {
    "duration": 9,
    "start_time": "2022-08-15T13:39:09.623Z"
   },
   {
    "duration": 8,
    "start_time": "2022-08-15T13:39:19.173Z"
   },
   {
    "duration": 112,
    "start_time": "2022-08-15T13:39:22.637Z"
   },
   {
    "duration": 12,
    "start_time": "2022-08-15T13:39:24.550Z"
   },
   {
    "duration": 12,
    "start_time": "2022-08-15T13:39:37.560Z"
   },
   {
    "duration": 9,
    "start_time": "2022-08-15T13:40:11.531Z"
   },
   {
    "duration": 23,
    "start_time": "2022-08-15T13:40:38.034Z"
   },
   {
    "duration": 14,
    "start_time": "2022-08-15T13:40:54.534Z"
   },
   {
    "duration": 9,
    "start_time": "2022-08-15T13:41:05.058Z"
   },
   {
    "duration": 10,
    "start_time": "2022-08-15T13:41:07.852Z"
   },
   {
    "duration": 237,
    "start_time": "2022-08-15T13:41:24.494Z"
   },
   {
    "duration": 13,
    "start_time": "2022-08-15T13:41:34.779Z"
   },
   {
    "duration": 9,
    "start_time": "2022-08-15T13:41:36.674Z"
   },
   {
    "duration": 48,
    "start_time": "2022-08-15T13:42:08.165Z"
   },
   {
    "duration": 10048,
    "start_time": "2022-08-15T13:44:12.951Z"
   },
   {
    "duration": 3,
    "start_time": "2022-08-15T13:44:23.002Z"
   },
   {
    "duration": 15,
    "start_time": "2022-08-15T13:44:23.007Z"
   },
   {
    "duration": 150,
    "start_time": "2022-08-15T13:44:23.024Z"
   },
   {
    "duration": 25,
    "start_time": "2022-08-15T13:44:23.193Z"
   },
   {
    "duration": 13,
    "start_time": "2022-08-15T13:44:23.224Z"
   },
   {
    "duration": 70,
    "start_time": "2022-08-15T13:44:23.239Z"
   },
   {
    "duration": 89,
    "start_time": "2022-08-15T13:44:23.310Z"
   },
   {
    "duration": 17,
    "start_time": "2022-08-15T13:44:23.401Z"
   },
   {
    "duration": 108,
    "start_time": "2022-08-15T13:44:23.420Z"
   },
   {
    "duration": 99,
    "start_time": "2022-08-15T13:44:23.530Z"
   },
   {
    "duration": 17,
    "start_time": "2022-08-15T13:44:23.631Z"
   },
   {
    "duration": 49,
    "start_time": "2022-08-15T13:44:23.650Z"
   },
   {
    "duration": 15,
    "start_time": "2022-08-15T13:44:23.701Z"
   },
   {
    "duration": 22,
    "start_time": "2022-08-15T13:44:23.718Z"
   },
   {
    "duration": 16,
    "start_time": "2022-08-15T13:44:23.742Z"
   },
   {
    "duration": 9483,
    "start_time": "2022-08-15T13:49:29.590Z"
   },
   {
    "duration": 3,
    "start_time": "2022-08-15T13:49:39.075Z"
   },
   {
    "duration": 7,
    "start_time": "2022-08-15T13:49:39.080Z"
   },
   {
    "duration": 116,
    "start_time": "2022-08-15T13:49:39.089Z"
   },
   {
    "duration": 18,
    "start_time": "2022-08-15T13:49:39.206Z"
   },
   {
    "duration": 71,
    "start_time": "2022-08-15T13:49:39.226Z"
   },
   {
    "duration": 42,
    "start_time": "2022-08-15T13:49:39.299Z"
   },
   {
    "duration": 14,
    "start_time": "2022-08-15T13:49:39.343Z"
   },
   {
    "duration": 68,
    "start_time": "2022-08-15T13:49:39.393Z"
   },
   {
    "duration": 86,
    "start_time": "2022-08-15T13:49:39.463Z"
   },
   {
    "duration": 10,
    "start_time": "2022-08-15T13:49:39.551Z"
   },
   {
    "duration": 38,
    "start_time": "2022-08-15T13:49:39.562Z"
   },
   {
    "duration": 11,
    "start_time": "2022-08-15T13:49:39.602Z"
   },
   {
    "duration": 15,
    "start_time": "2022-08-15T13:49:39.615Z"
   },
   {
    "duration": 12,
    "start_time": "2022-08-15T13:49:39.632Z"
   },
   {
    "duration": 61,
    "start_time": "2022-08-16T10:49:08.598Z"
   },
   {
    "duration": 13277,
    "start_time": "2022-08-16T10:49:36.342Z"
   },
   {
    "duration": 3,
    "start_time": "2022-08-16T10:49:49.621Z"
   },
   {
    "duration": 12,
    "start_time": "2022-08-16T10:49:49.625Z"
   },
   {
    "duration": 124,
    "start_time": "2022-08-16T10:49:49.639Z"
   },
   {
    "duration": 34,
    "start_time": "2022-08-16T10:49:49.765Z"
   },
   {
    "duration": 58,
    "start_time": "2022-08-16T10:49:49.800Z"
   },
   {
    "duration": 40,
    "start_time": "2022-08-16T10:49:49.859Z"
   },
   {
    "duration": 12,
    "start_time": "2022-08-16T10:49:49.901Z"
   },
   {
    "duration": 94,
    "start_time": "2022-08-16T10:49:49.915Z"
   },
   {
    "duration": 77,
    "start_time": "2022-08-16T10:49:50.011Z"
   },
   {
    "duration": 43,
    "start_time": "2022-08-16T10:49:50.090Z"
   },
   {
    "duration": 16,
    "start_time": "2022-08-16T10:49:50.135Z"
   },
   {
    "duration": 30,
    "start_time": "2022-08-16T10:49:50.152Z"
   },
   {
    "duration": 23,
    "start_time": "2022-08-16T10:51:39.505Z"
   },
   {
    "duration": 16,
    "start_time": "2022-08-16T10:53:14.636Z"
   },
   {
    "duration": 19,
    "start_time": "2022-08-16T10:53:19.413Z"
   },
   {
    "duration": 131,
    "start_time": "2022-08-16T10:54:09.220Z"
   },
   {
    "duration": 13,
    "start_time": "2022-08-16T10:54:21.184Z"
   },
   {
    "duration": 17,
    "start_time": "2022-08-16T10:54:25.398Z"
   },
   {
    "duration": 14862,
    "start_time": "2022-08-16T10:55:04.807Z"
   },
   {
    "duration": 2,
    "start_time": "2022-08-16T10:55:19.671Z"
   },
   {
    "duration": 14,
    "start_time": "2022-08-16T10:55:19.675Z"
   },
   {
    "duration": 144,
    "start_time": "2022-08-16T10:55:19.690Z"
   },
   {
    "duration": 27,
    "start_time": "2022-08-16T10:55:19.836Z"
   },
   {
    "duration": 49,
    "start_time": "2022-08-16T10:55:19.865Z"
   },
   {
    "duration": 78,
    "start_time": "2022-08-16T10:55:19.916Z"
   },
   {
    "duration": 13,
    "start_time": "2022-08-16T10:55:19.996Z"
   },
   {
    "duration": 109,
    "start_time": "2022-08-16T10:55:20.011Z"
   },
   {
    "duration": 82,
    "start_time": "2022-08-16T10:55:20.121Z"
   },
   {
    "duration": 28,
    "start_time": "2022-08-16T10:55:20.204Z"
   },
   {
    "duration": 9,
    "start_time": "2022-08-16T10:55:20.255Z"
   },
   {
    "duration": 27,
    "start_time": "2022-08-16T10:55:20.266Z"
   },
   {
    "duration": 12,
    "start_time": "2022-08-16T10:55:20.296Z"
   },
   {
    "duration": 16,
    "start_time": "2022-08-16T10:55:20.310Z"
   },
   {
    "duration": 12,
    "start_time": "2022-08-16T10:55:20.327Z"
   }
  ],
  "kernelspec": {
   "display_name": "Python 3 (ipykernel)",
   "language": "python",
   "name": "python3"
  },
  "language_info": {
   "codemirror_mode": {
    "name": "ipython",
    "version": 3
   },
   "file_extension": ".py",
   "mimetype": "text/x-python",
   "name": "python",
   "nbconvert_exporter": "python",
   "pygments_lexer": "ipython3",
   "version": "3.9.7"
  },
  "toc": {
   "base_numbering": 1,
   "nav_menu": {},
   "number_sections": true,
   "sideBar": true,
   "skip_h1_title": true,
   "title_cell": "Table of Contents",
   "title_sidebar": "Contents",
   "toc_cell": false,
   "toc_position": {},
   "toc_section_display": true,
   "toc_window_display": true
  }
 },
 "nbformat": 4,
 "nbformat_minor": 2
}
